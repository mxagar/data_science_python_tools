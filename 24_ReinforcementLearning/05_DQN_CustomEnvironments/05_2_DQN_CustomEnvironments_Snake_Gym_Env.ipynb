{
 "cells": [
  {
   "cell_type": "markdown",
   "id": "fbe3252e-deac-425a-adf2-1d1ab89301e3",
   "metadata": {},
   "source": [
    "# DQN on Custom Environments - Snake Game Gym Environment"
   ]
  },
  {
   "cell_type": "markdown",
   "id": "eac9bb40-4b34-41ac-8684-de2615c72074",
   "metadata": {},
   "source": [
    "This notebook instantiates the custom OpenAI Gym environment that contains our game Snake.\n",
    "\n",
    "Note that the game definition without any OpenAI Gym interfaces is done in `05_1_DQN_CustomEnvironments_Snake_Pygame.ipynb`. Then, that definition is refactored to the files in `snake/`, which needs to be installed:\n",
    "\n",
    "```bash\n",
    "pip install -e snake\n",
    "```\n",
    "\n",
    "For more information, follow Section 7 from the general RL guide:\n",
    "\n",
    "`../ReinforcementLearning_Guide.md`"
   ]
  },
  {
   "cell_type": "code",
   "execution_count": 1,
   "id": "e2c74ce6-68bb-4bc0-b260-e9a54bf200fd",
   "metadata": {},
   "outputs": [
    {
     "name": "stderr",
     "output_type": "stream",
     "text": [
      "C:\\Users\\Mikel\\.conda\\envs\\ds\\lib\\site-packages\\ale_py\\roms\\utils.py:90: DeprecationWarning: SelectableGroups dict interface is deprecated. Use select.\n",
      "  for external in metadata.entry_points().get(self.group, []):\n"
     ]
    }
   ],
   "source": [
    "import time\n",
    "import matplotlib.pyplot as plt\n",
    "import gym"
   ]
  },
  {
   "cell_type": "code",
   "execution_count": 2,
   "id": "b5650c92-31d4-42ca-8636-9eb6451ac2cf",
   "metadata": {},
   "outputs": [
    {
     "name": "stdout",
     "output_type": "stream",
     "text": [
      "pygame 2.1.2 (SDL 2.0.18, Python 3.7.11)\n",
      "Hello from the pygame community. https://www.pygame.org/contribute.html\n"
     ]
    }
   ],
   "source": [
    "# We make/create an OpenAI GYm environment with our game\n",
    "env = gym.make(\"snake:snake-v0\")"
   ]
  },
  {
   "cell_type": "code",
   "execution_count": 3,
   "id": "54568157-5908-4daa-b453-a8c0b4586030",
   "metadata": {},
   "outputs": [],
   "source": [
    "env.reset();"
   ]
  },
  {
   "cell_type": "code",
   "execution_count": 6,
   "id": "c291c351-7c7c-4c2c-93dc-2428c9cd687e",
   "metadata": {},
   "outputs": [
    {
     "name": "stdout",
     "output_type": "stream",
     "text": [
      "0 False {'score': 0}\n"
     ]
    },
    {
     "data": {
      "text/plain": [
       "<matplotlib.image.AxesImage at 0x2d249a64ac8>"
      ]
     },
     "execution_count": 6,
     "metadata": {},
     "output_type": "execute_result"
    },
    {
     "data": {
      "image/png": "[encoded data removed]",
      "text/plain": [
       "<Figure size 432x288 with 1 Axes>"
      ]
     },
     "metadata": {
      "needs_background": "light"
     },
     "output_type": "display_data"
    }
   ],
   "source": [
    "# We display wit matplotlib the effect of an action in the game img = observation\n",
    "env.render(\"human\")\n",
    "action = env.action_space.sample() # [0, 1, 2, 3] = [UP, DOWN, LEFT, RIGHT]\n",
    "#img, reward, done, info = env.step(action)\n",
    "img, reward, done, info = env.step(0) # try hard coded actions\n",
    "print(reward, done, info)\n",
    "plt.figure()\n",
    "plt.imshow(img)"
   ]
  },
  {
   "cell_type": "code",
   "execution_count": 24,
   "id": "0b733a28-05dd-48cd-86a0-5362db0eeca7",
   "metadata": {},
   "outputs": [],
   "source": [
    "# This loop does not seem to work on my computer...\n",
    "# ... but it seems to be a Windows issue...??\n",
    "env.reset()\n",
    "for i in range(100):\n",
    "    env.render(\"human\")\n",
    "    action = env.action_space.sample()\n",
    "    img, reward, done, info = env.step(action)\n",
    "    time.sleep(0.1)"
   ]
  },
  {
   "cell_type": "code",
   "execution_count": null,
   "id": "494210a3-be58-4f1e-81cd-d5ba82caf481",
   "metadata": {},
   "outputs": [],
   "source": []
  }
 ],
 "metadata": {
  "kernelspec": {
   "display_name": "Python 3 (ipykernel)",
   "language": "python",
   "name": "python3"
  },
  "language_info": {
   "codemirror_mode": {
    "name": "ipython",
    "version": 3
   },
   "file_extension": ".py",
   "mimetype": "text/x-python",
   "name": "python",
   "nbconvert_exporter": "python",
   "pygments_lexer": "ipython3",
   "version": "3.7.11"
  }
 },
 "nbformat": 4,
 "nbformat_minor": 5
}
