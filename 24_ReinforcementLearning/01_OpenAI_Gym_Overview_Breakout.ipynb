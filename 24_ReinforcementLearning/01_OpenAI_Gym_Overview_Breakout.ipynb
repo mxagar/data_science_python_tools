{
 "cells": [
  {
   "cell_type": "markdown",
   "id": "4dcd1e61-d6e6-41d9-a0c3-0322caf66bfd",
   "metadata": {},
   "source": [
    "# OpenAI Gym Overview: Breakout Game"
   ]
  },
  {
   "cell_type": "markdown",
   "id": "506e6257-5180-454a-9ac1-040b199d7fae",
   "metadata": {},
   "source": [
    "I created this notebooks by coding along the following Udemy course by J. M. Portilla:\n",
    "\n",
    "[Practical AI with Python and Reinforcement Learning](https://www.udemy.com/course/practical-ai-with-python-and-reinforcement-learning/learn/)\n",
    "\n",
    "Have a look at the guide in this folder for more details on the theory and an overview on the contents of this folder:\n",
    "\n",
    "`ReinforcementLearning_Guide.md`.\n",
    "\n",
    "This notebook start exploring the OpenAI Gym library with the following game:\n",
    "\n",
    "[Breakout](https://gym.openai.com/envs/Breakout-ram-v0/)\n",
    "\n",
    "Note that the RAM version can be used: the ball position and paddle location are obtained from `gym`.\n",
    "\n",
    "Note: if we use Jupyter notebooks, sometimes we need to restart the kernel; an alternative is to use python scripts."
   ]
  },
  {
   "cell_type": "code",
   "execution_count": 1,
   "id": "c4588084-bd42-41b0-86e2-f812d8b1e21c",
   "metadata": {},
   "outputs": [
    {
     "name": "stderr",
     "output_type": "stream",
     "text": [
      "/Users/mxagar/opt/anaconda3/envs/tf/lib/python3.7/site-packages/ale_py/roms/utils.py:90: DeprecationWarning: SelectableGroups dict interface is deprecated. Use select.\n",
      "  for external in metadata.entry_points().get(self.group, []):\n"
     ]
    }
   ],
   "source": [
    "import gym"
   ]
  },
  {
   "cell_type": "code",
   "execution_count": 2,
   "id": "14a7162d-eee9-4c55-ade9-a4c73ee24b64",
   "metadata": {},
   "outputs": [],
   "source": [
    "# For plotting\n",
    "import matplotlib.pyplot as plt\n",
    "# For slowing down the game\n",
    "import time"
   ]
  },
  {
   "cell_type": "code",
   "execution_count": 3,
   "id": "2cf55259-f924-4035-8f48-7398e48c1ff9",
   "metadata": {},
   "outputs": [],
   "source": [
    "# Select a game/environment from\n",
    "# gym.openai.com\n",
    "# If we go to Atari/Breakout-v0 we can see the source code\n",
    "# We could use the source code file or let gym grab it\n",
    "# as follows below"
   ]
  },
  {
   "cell_type": "code",
   "execution_count": 4,
   "id": "5ab979da-ca59-4a5a-b393-d47cfcad2c8e",
   "metadata": {},
   "outputs": [],
   "source": [
    "# The string of the name is the title of the game\n",
    "env_name = 'Breakout-v0'\n",
    "#env_name = 'Breakout-ram-v0'"
   ]
  },
  {
   "cell_type": "code",
   "execution_count": 5,
   "id": "10f9db27-64b4-4428-bc39-9a0fbf01d529",
   "metadata": {},
   "outputs": [
    {
     "name": "stderr",
     "output_type": "stream",
     "text": [
      "A.L.E: Arcade Learning Environment (version +978d2ce)\n",
      "[Powered by Stella]\n"
     ]
    }
   ],
   "source": [
    "# The source code is grabbed\n",
    "env = gym.make(env_name)"
   ]
  },
  {
   "cell_type": "code",
   "execution_count": 9,
   "id": "79424927-9795-4f6d-a8df-0a6f05829b4d",
   "metadata": {},
   "outputs": [],
   "source": [
    "# We can interact/play from some Atari games\n",
    "# and classic control envs.\n",
    "# We need to have pygame installed: pip install pygame\n",
    "from gym.utils import play"
   ]
  },
  {
   "cell_type": "code",
   "execution_count": 8,
   "id": "7c222f5d-04a1-43c7-bfbf-64f4aa86b0ef",
   "metadata": {},
   "outputs": [],
   "source": [
    "# We pass the env and zoom the window 2-3x\n",
    "# Keys:\n",
    "# - space: launch ball\n",
    "# - a: move left\n",
    "# - d: move right\n",
    "# When we close the window, we might need to restart the kernel\n",
    "play.play(env,zoom=3)"
   ]
  },
  {
   "cell_type": "code",
   "execution_count": 10,
   "id": "988d68f8-25c2-4b1c-89a2-35d79de46c42",
   "metadata": {},
   "outputs": [
    {
     "name": "stderr",
     "output_type": "stream",
     "text": [
      "/Users/mxagar/opt/anaconda3/envs/tf/lib/python3.7/site-packages/gym/envs/atari/environment.py:257: UserWarning: \u001b[33mWARN: We strongly suggest supplying `render_mode` when constructing your environment, e.g., gym.make(ID, render_mode='human'). Using `render_mode` provides access to proper scaling, audio support, and proper framerates.\u001b[0m\n",
      "  \"We strongly suggest supplying `render_mode` when \"\n",
      "2022-01-10 11:25:47.747 python[44471:1870412] Warning: Expected min height of view: (<NSPopoverTouchBarItemButton: 0x7fdb5074f140>) to be less than or equal to 30 but got a height of 32.000000. This error will be logged once per view in violation.\n",
      "2022-01-10 11:25:47.747 python[44471:1870412] Warning: Expected min height of view: (<NSButton: 0x7fdb0099db10>) to be less than or equal to 30 but got a height of 32.000000. This error will be logged once per view in violation.\n",
      "2022-01-10 11:25:47.749 python[44471:1870412] Warning: Expected min height of view: (<NSPopoverTouchBarItemButton: 0x7fdb0099ddc0>) to be less than or equal to 30 but got a height of 32.000000. This error will be logged once per view in violation.\n",
      "2022-01-10 11:25:47.750 python[44471:1870412] Warning: Expected min height of view: (<NSPopoverTouchBarItemButton: 0x7fdb009a0330>) to be less than or equal to 30 but got a height of 32.000000. This error will be logged once per view in violation.\n"
     ]
    }
   ],
   "source": [
    "# Window will be opened and game rendered step-wise (but very fast)\n",
    "# Nothing happens for now\n",
    "# because no actions are commanded\n",
    "for steps in range(2000):\n",
    "    env.render(mode='human')"
   ]
  },
  {
   "cell_type": "code",
   "execution_count": 11,
   "id": "934ec361-acd4-4df3-85ed-8fcb7028c204",
   "metadata": {},
   "outputs": [],
   "source": [
    "# Close env/game window\n",
    "env.close()"
   ]
  },
  {
   "cell_type": "code",
   "execution_count": 12,
   "id": "bca66e63-9ac6-47ee-9ca5-965ec2276094",
   "metadata": {},
   "outputs": [],
   "source": [
    "array = env.render(mode='rgb_array')"
   ]
  },
  {
   "cell_type": "code",
   "execution_count": 14,
   "id": "680102fa-993d-47a3-ac1e-be278dac2912",
   "metadata": {},
   "outputs": [
    {
     "data": {
      "text/plain": [
       "(210, 160, 3)"
      ]
     },
     "execution_count": 14,
     "metadata": {},
     "output_type": "execute_result"
    }
   ],
   "source": [
    "array.shape"
   ]
  },
  {
   "cell_type": "code",
   "execution_count": 15,
   "id": "114976ac-e87c-4880-98fe-a8cfbbe0a1bb",
   "metadata": {},
   "outputs": [],
   "source": [
    "env.close()"
   ]
  },
  {
   "cell_type": "code",
   "execution_count": 18,
   "id": "104df9ed-9915-4c5f-bd49-c856237ce9ca",
   "metadata": {},
   "outputs": [
    {
     "data": {
      "text/plain": [
       "<matplotlib.image.AxesImage at 0x7fdb5b26d9d0>"
      ]
     },
     "execution_count": 18,
     "metadata": {},
     "output_type": "execute_result"
    },
    {
     "data": {
      "image/png": "[encoded data removed]",
      "text/plain": [
       "<Figure size 432x288 with 1 Axes>"
      ]
     },
     "metadata": {
      "needs_background": "light"
     },
     "output_type": "display_data"
    }
   ],
   "source": [
    "%matplotlib inline\n",
    "plt.imshow(array)"
   ]
  },
  {
   "cell_type": "code",
   "execution_count": null,
   "id": "46bba914-8e5d-4d84-ba4d-7c59553b7bf2",
   "metadata": {},
   "outputs": [],
   "source": []
  },
  {
   "cell_type": "code",
   "execution_count": null,
   "id": "de811bce-c134-4b0b-97f6-e6e922ed1dc5",
   "metadata": {},
   "outputs": [],
   "source": []
  }
 ],
 "metadata": {
  "kernelspec": {
   "display_name": "Python 3 (ipykernel)",
   "language": "python",
   "name": "python3"
  },
  "language_info": {
   "codemirror_mode": {
    "name": "ipython",
    "version": 3
   },
   "file_extension": ".py",
   "mimetype": "text/x-python",
   "name": "python",
   "nbconvert_exporter": "python",
   "pygments_lexer": "ipython3",
   "version": "3.7.11"
  }
 },
 "nbformat": 4,
 "nbformat_minor": 5
}
