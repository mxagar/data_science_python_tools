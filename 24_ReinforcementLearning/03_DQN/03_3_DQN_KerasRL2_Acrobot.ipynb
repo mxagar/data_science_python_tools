{
 "cells": [
  {
   "cell_type": "markdown",
   "id": "39fbce26-7021-46f6-83e0-bb582e4a3750",
   "metadata": {},
   "source": [
    "# Keras-RL2 DQN - Acrobot"
   ]
  },
  {
   "cell_type": "code",
   "execution_count": null,
   "id": "a704f981-7791-487c-acac-7ee6bb5f590a",
   "metadata": {},
   "outputs": [],
   "source": []
  }
 ],
 "metadata": {
  "kernelspec": {
   "display_name": "Python 3 (ipykernel)",
   "language": "python",
   "name": "python3"
  },
  "language_info": {
   "codemirror_mode": {
    "name": "ipython",
    "version": 3
   },
   "file_extension": ".py",
   "mimetype": "text/x-python",
   "name": "python",
   "nbconvert_exporter": "python",
   "pygments_lexer": "ipython3",
   "version": "3.7.11"
  }
 },
 "nbformat": 4,
 "nbformat_minor": 5
}
