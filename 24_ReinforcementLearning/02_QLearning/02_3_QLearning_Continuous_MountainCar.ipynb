{
 "cells": [
  {
   "cell_type": "markdown",
   "id": "bd565e5c-a133-4ba7-8e86-2b47c1a8dcaa",
   "metadata": {},
   "source": [
    "# Q-Learning: Continuous Example with MountainCar"
   ]
  },
  {
   "cell_type": "markdown",
   "id": "f7da833e-21a9-4376-97ac-7da480aba14c",
   "metadata": {},
   "source": [
    "[MountainCar](https://gym.openai.com/envs/MountainCar-v0/)"
   ]
  },
  {
   "cell_type": "code",
   "execution_count": null,
   "id": "f3448059-e01c-4f7e-b34a-1738aaf4dce2",
   "metadata": {},
   "outputs": [],
   "source": []
  }
 ],
 "metadata": {
  "kernelspec": {
   "display_name": "Python 3 (ipykernel)",
   "language": "python",
   "name": "python3"
  },
  "language_info": {
   "codemirror_mode": {
    "name": "ipython",
    "version": 3
   },
   "file_extension": ".py",
   "mimetype": "text/x-python",
   "name": "python",
   "nbconvert_exporter": "python",
   "pygments_lexer": "ipython3",
   "version": "3.7.11"
  }
 },
 "nbformat": 4,
 "nbformat_minor": 5
}
