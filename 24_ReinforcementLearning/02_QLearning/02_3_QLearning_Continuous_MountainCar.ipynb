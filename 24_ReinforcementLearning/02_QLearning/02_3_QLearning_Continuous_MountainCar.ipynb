{
 "cells": [
  {
   "cell_type": "markdown",
   "id": "bd565e5c-a133-4ba7-8e86-2b47c1a8dcaa",
   "metadata": {},
   "source": [
    "# Q-Learning: Continuous Example with MountainCar"
   ]
  },
  {
   "cell_type": "markdown",
   "id": "f7da833e-21a9-4376-97ac-7da480aba14c",
   "metadata": {},
   "source": [
    "**Mountain Car** is a very famous testbed published by Moore in 1990. From the OpenAI Gym website on [MountainCar](https://gym.openai.com/envs/MountainCar-v0/):\n",
    "\n",
    "\"A car is on a one-dimensional track, positioned between two mountains. The goal is to drive up the mountain on the right; however, the car's engine is not strong enough to scale the mountain in a single pass. Therefore, the only way to succeed is to drive back and forth to build up momentum.\"\n",
    "\n",
    "Note that:\n",
    "- There is gravity\n",
    "- We have a single position variable in X axis; 0 appears to be the valley, 0.5 the flag\n",
    "- The goal is to directly land the falg, no less, no more!\n",
    "\n",
    "Links:\n",
    "- [MountainCar-v0](https://gym.openai.com/envs/MountainCar-v0/)\n",
    "- [Github link](https://github.com/openai/gym/blob/master/gym/envs/classic_control/mountain_car.py)\n",
    "\n",
    "This notebook uses basically the same code (modified for the environment) as in `02_2_QLearning_Continuous_Cartpole.ipynb`.\n",
    "\n",
    "Overview of the notebook contents:\n",
    "1. Instantiate Environment\n",
    "2. Discretize State Space\n",
    "3. Q Table\n",
    "4. Functions and Hyperparameters\n",
    "\n"
   ]
  },
  {
   "cell_type": "markdown",
   "id": "79d1b292-5e63-4af7-aaee-73203d4dc31f",
   "metadata": {},
   "source": [
    "## 1. Instantiate Environment"
   ]
  },
  {
   "cell_type": "code",
   "execution_count": 2,
   "id": "f3448059-e01c-4f7e-b34a-1738aaf4dce2",
   "metadata": {},
   "outputs": [],
   "source": [
    "import gym\n",
    "import numpy as np\n",
    "import matplotlib.pyplot as plt\n",
    "%matplotlib notebook"
   ]
  },
  {
   "cell_type": "code",
   "execution_count": 6,
   "id": "849bfa4b-1ab4-4365-80d7-343c19c0415d",
   "metadata": {},
   "outputs": [],
   "source": [
    "env = gym.make(\"MountainCar-v0\")"
   ]
  },
  {
   "cell_type": "markdown",
   "id": "0aec4ee4-f0a5-4d25-aae7-99c811cb92d3",
   "metadata": {},
   "source": [
    "## 2. Discretize State Space"
   ]
  },
  {
   "cell_type": "code",
   "execution_count": 21,
   "id": "dfc54237-b3d7-4ffd-8173-633f5f97d8fc",
   "metadata": {},
   "outputs": [],
   "source": [
    "# We create ranges/bins for all observations\n",
    "# The more bins we have, the more accurate the system will be\n",
    "# but the more it is going to require to learn\n",
    "# For ranges of observations, look at the environment link\n",
    "# https://github.com/openai/gym/blob/master/gym/envs/classic_control/mountain_car.py\n",
    "def create_bins(num_bins_obs = 10):\n",
    "    # Note that a bin vector with 6 range values leads to 6-1=5 bins!\n",
    "    # Therefore, if we want n bins, linspace needs to create n+1 range values\n",
    "    #n = num_bins_obs\n",
    "    n = num_bins_obs+1\n",
    "    bins_car_pos = np.linspace(-1.2,0.6,n)\n",
    "    bins_car_vel = np.linspace(-0.7,0.7,n)\n",
    "    bins = np.array([bins_car_pos,\n",
    "                     bins_car_vel])\n",
    "    return bins"
   ]
  },
  {
   "cell_type": "code",
   "execution_count": 22,
   "id": "8dc2947e-8962-4595-a8ad-906b98538dca",
   "metadata": {},
   "outputs": [],
   "source": [
    "NUM_BINS = 40 # Take at least 10\n",
    "BINS = create_bins(NUM_BINS)"
   ]
  },
  {
   "cell_type": "code",
   "execution_count": 23,
   "id": "f1ea36d9-eba5-49d5-9a1e-77cca2d2bc5b",
   "metadata": {},
   "outputs": [
    {
     "data": {
      "text/plain": [
       "array([[-1.2  , -1.155, -1.11 , -1.065, -1.02 , -0.975, -0.93 , -0.885,\n",
       "        -0.84 , -0.795, -0.75 , -0.705, -0.66 , -0.615, -0.57 , -0.525,\n",
       "        -0.48 , -0.435, -0.39 , -0.345, -0.3  , -0.255, -0.21 , -0.165,\n",
       "        -0.12 , -0.075, -0.03 ,  0.015,  0.06 ,  0.105,  0.15 ,  0.195,\n",
       "         0.24 ,  0.285,  0.33 ,  0.375,  0.42 ,  0.465,  0.51 ,  0.555,\n",
       "         0.6  ],\n",
       "       [-0.7  , -0.665, -0.63 , -0.595, -0.56 , -0.525, -0.49 , -0.455,\n",
       "        -0.42 , -0.385, -0.35 , -0.315, -0.28 , -0.245, -0.21 , -0.175,\n",
       "        -0.14 , -0.105, -0.07 , -0.035,  0.   ,  0.035,  0.07 ,  0.105,\n",
       "         0.14 ,  0.175,  0.21 ,  0.245,  0.28 ,  0.315,  0.35 ,  0.385,\n",
       "         0.42 ,  0.455,  0.49 ,  0.525,  0.56 ,  0.595,  0.63 ,  0.665,\n",
       "         0.7  ]])"
      ]
     },
     "execution_count": 23,
     "metadata": {},
     "output_type": "execute_result"
    }
   ],
   "source": [
    "BINS"
   ]
  },
  {
   "cell_type": "code",
   "execution_count": 24,
   "id": "aa5eb085-737c-458f-acde-f21630d80d14",
   "metadata": {},
   "outputs": [
    {
     "data": {
      "text/plain": [
       "(2, 41)"
      ]
     },
     "execution_count": 24,
     "metadata": {},
     "output_type": "execute_result"
    }
   ],
   "source": [
    "BINS.shape"
   ]
  },
  {
   "cell_type": "code",
   "execution_count": 12,
   "id": "ac72ea81-b8b3-407a-a846-ed4b3308a635",
   "metadata": {},
   "outputs": [],
   "source": [
    "# We create a function that uses that digitize utility\n",
    "def discretize_observation(observations,bins):\n",
    "    # bin indices for the observations\n",
    "    binned_observations = []\n",
    "    for i,observation in enumerate(observations):\n",
    "        discretized_observation = np.digitize(observation,bins[i,:])\n",
    "        # np.discretize() yields indices starting at 1\n",
    "        # thus, we need to decrease it\n",
    "        discretized_observation = discretized_observation-1\n",
    "        # check that we are in range: index in [0,NUM_BINS-1]\n",
    "        if discretized_observation < 0:\n",
    "            discretized_observation = 0\n",
    "        # recall BINS/bins contains n+1 range values, n being the number of bins\n",
    "        # thus, we substract 2 units\n",
    "        elif discretized_observation > bins.shape[1]-2:\n",
    "            discretized_observation = bins.shape[1]-2\n",
    "        binned_observations.append(discretized_observation)\n",
    "    return tuple(binned_observations)"
   ]
  },
  {
   "cell_type": "code",
   "execution_count": 13,
   "id": "05df7594-7515-41e3-b794-de32a28ce218",
   "metadata": {},
   "outputs": [],
   "source": [
    "observations = env.reset()"
   ]
  },
  {
   "cell_type": "code",
   "execution_count": 14,
   "id": "476c61ac-b48a-43fe-9433-0ed3dd184db1",
   "metadata": {},
   "outputs": [
    {
     "data": {
      "text/plain": [
       "array([-0.4899612,  0.       ], dtype=float32)"
      ]
     },
     "execution_count": 14,
     "metadata": {},
     "output_type": "execute_result"
    }
   ],
   "source": [
    "observations"
   ]
  },
  {
   "cell_type": "code",
   "execution_count": 15,
   "id": "9d838a90-7152-49b9-aa9c-99263d07bf35",
   "metadata": {},
   "outputs": [
    {
     "data": {
      "text/plain": [
       "(15, 20)"
      ]
     },
     "execution_count": 15,
     "metadata": {},
     "output_type": "execute_result"
    }
   ],
   "source": [
    "discretize_observation(observations,BINS)"
   ]
  },
  {
   "cell_type": "markdown",
   "id": "650307e8-d998-48ce-9760-062ece7afd5e",
   "metadata": {},
   "source": [
    "## 3. Q Table"
   ]
  },
  {
   "cell_type": "markdown",
   "id": "26c9a817-40c3-4653-be1f-9b5fa407ebc3",
   "metadata": {},
   "source": [
    "Each observation (we have `2`) adds a dimension of size `NUM_BINS` and we have an extra dimension for the actions of size `num_actions`."
   ]
  },
  {
   "cell_type": "code",
   "execution_count": 18,
   "id": "1041afa3-c86e-4666-b928-ea689054038c",
   "metadata": {},
   "outputs": [],
   "source": [
    "q_table_shape = (NUM_BINS,NUM_BINS,env.action_space.n)"
   ]
  },
  {
   "cell_type": "code",
   "execution_count": 19,
   "id": "4f53a542-c4b3-4cfd-9f4d-17babd62c300",
   "metadata": {},
   "outputs": [],
   "source": [
    "q_table = np.zeros(q_table_shape)"
   ]
  },
  {
   "cell_type": "code",
   "execution_count": 20,
   "id": "86d4b936-4076-47f0-a519-2c4c300479e4",
   "metadata": {},
   "outputs": [
    {
     "data": {
      "text/plain": [
       "(40, 40, 3)"
      ]
     },
     "execution_count": 20,
     "metadata": {},
     "output_type": "execute_result"
    }
   ],
   "source": [
    "q_table.shape"
   ]
  },
  {
   "cell_type": "markdown",
   "id": "aace02ba-9c64-46bc-8ec9-02032d3d8746",
   "metadata": {},
   "source": [
    "## 4. Functions and Hyperparameters"
   ]
  },
  {
   "cell_type": "code",
   "execution_count": 33,
   "id": "dbd23588-d46e-4bef-abc4-ead966a23aa9",
   "metadata": {},
   "outputs": [],
   "source": [
    "# Hyperparameters\n",
    "EPOCHS = 30000\n",
    "ALPHA = 0.8\n",
    "GAMMA = 0.9"
   ]
  },
  {
   "cell_type": "code",
   "execution_count": 34,
   "id": "259aafc2-2ed0-46ed-9a16-a8fa328dc80d",
   "metadata": {},
   "outputs": [],
   "source": [
    "# Epsilon greedy action selection\n",
    "def epsilon_greedy_action_selection(epsilon,q_table,discrete_state):\n",
    "    random_number = np.random.random()\n",
    "    # Exploitation: choose action that maximizes Q\n",
    "    if random_number > epsilon:\n",
    "        # Grab state action row, with all Q values\n",
    "        state_row = q_table[discrete_state]\n",
    "        # Select the action index which has the largest Q value\n",
    "        action = np.argmax(state_row)\n",
    "    # Exploration: choose a random action\n",
    "    else:\n",
    "        action = env.action_space.sample()\n",
    "    return action"
   ]
  },
  {
   "cell_type": "code",
   "execution_count": 35,
   "id": "e0cbd857-821d-4c30-89c3-dd2b52d50645",
   "metadata": {},
   "outputs": [],
   "source": [
    "# Q-Learning update equation\n",
    "# Q_next = Q_old + ALPHA*Q_error\n",
    "# Q_error = reward + GAMMA*Q_optimum - Q_old\n",
    "def compute_next_q_value(old_q_value,reward,next_optimal_q_value):\n",
    "    Q_error = reward + GAMMA*next_optimal_q_value - old_q_value\n",
    "    Q_next = old_q_value + ALPHA*Q_error\n",
    "    return Q_next"
   ]
  },
  {
   "cell_type": "code",
   "execution_count": 36,
   "id": "80596c62-030a-48b0-b6b9-db76dbf71422",
   "metadata": {},
   "outputs": [],
   "source": [
    "# Hyperparameters: epsilon (exploration vs exploitation)\n",
    "EPSILON = 1.0\n",
    "burn_in = 100\n",
    "epsilon_end = 10000\n",
    "#epsilon_reduce = 0.0001\n",
    "epsilon_reduce = 1.0 / epsilon_end"
   ]
  },
  {
   "cell_type": "code",
   "execution_count": 37,
   "id": "397f2d5c-6a3d-48f6-abc4-5f128c9642d8",
   "metadata": {},
   "outputs": [],
   "source": [
    "# Epsilon exponential decay after each episode/epoch\n",
    "def reduce_epsilon(epsilon,epoch):\n",
    "    # Exponential decay\n",
    "    #return min_epsilon + (max_epsilon-min_epsilon)*np.exp(-decay_rate*epoch)\n",
    "    # Linear decay with a hard stop at a certain number of epochs\n",
    "    if burn_in <= epoch <= epsilon_end:\n",
    "        epsilon -= epsilon_reduce\n",
    "    return epsilon"
   ]
  },
  {
   "cell_type": "markdown",
   "id": "d981dc56-e961-4830-b7b7-983e08536b68",
   "metadata": {},
   "source": [
    "## 5. Training"
   ]
  },
  {
   "cell_type": "code",
   "execution_count": 38,
   "id": "279cafc8-6052-4922-93e2-a54b7b163986",
   "metadata": {},
   "outputs": [
    {
     "data": {
      "image/png": "[encoded data removed]",
      "text/plain": [
       "<Figure size 432x288 with 1 Axes>"
      ]
     },
     "metadata": {
      "needs_background": "light"
     },
     "output_type": "display_data"
    }
   ],
   "source": [
    "%matplotlib inline\n",
    "log_interval = 1000\n",
    "render_interval = 30000 # env.render()\n",
    "####################################\n",
    "fig = plt.figure()\n",
    "ax = fig.add_subplot(111)\n",
    "plt.ion() # interactive mode on\n",
    "fig.canvas.draw()\n",
    "####################################\n",
    "max_position_log = []  # to store all achieved points\n",
    "mean_positions_log = []  # to store a running mean of the last 30 results\n",
    "epochs = []  # store the epoch for plotting\n",
    "for epoch in range(EPOCHS):\n",
    "    initial_state = env.reset()\n",
    "    # Discretization\n",
    "    discretized_state = discretize_observation(initial_state,BINS)\n",
    "    done = False\n",
    "    max_position = -np.inf  # for plotting\n",
    "    epochs.append(epoch)\n",
    "    # Play the game\n",
    "    while not done:\n",
    "        action = epsilon_greedy_action_selection(EPSILON,q_table,discretized_state)\n",
    "        # state: [position, velocity]\n",
    "        next_state,reward,done,info = env.step(action)\n",
    "        position,velocity = next_state # for plotting\n",
    "        # Discretization\n",
    "        next_state_discretized = discretize_observation(next_state,BINS)\n",
    "        # Tuple concatenation: (o1,o2) + (action,) -> (o1,o2,action)\n",
    "        old_q_value = q_table[discretized_state + (action,)]\n",
    "        next_optimal_q_value = np.max(q_table[next_state_discretized])\n",
    "        next_q = compute_next_q_value(old_q_value,reward,next_optimal_q_value)\n",
    "        q_table[discretized_state + (action,)] = next_q\n",
    "        discretized_state = next_state_discretized\n",
    "        if position > max_position:  # Only for plotting the results - store the highest point the car is able to reach\n",
    "            max_position = position\n",
    "    EPSILON = reduce_epsilon(EPSILON,epoch)\n",
    "    max_position_log.append(max_position)  # log the highest position the car was able to reach\n",
    "    running_mean = round(np.mean(max_position_log[-30:]), 2)  # Compute running mean of position over the last 30 epochs\n",
    "    mean_positions_log.append(running_mean)  # and log it\n",
    "    ####################################\n",
    "    if epoch % log_interval == 0:\n",
    "        #print(f\"{episode} games played; accumulated reward: {np.sum(rewards)}\")\n",
    "        ax.clear()\n",
    "        ax.scatter(epochs,max_position_log)\n",
    "        ax.plot(epochs,max_position_log)\n",
    "        ax.plot(epochs,mean_positions_log,label=f'Running Mean: {running_mean}')\n",
    "        plt.legend()\n",
    "        fig.canvas.draw()\n",
    "    ####################################\n",
    "env.close()"
   ]
  },
  {
   "cell_type": "markdown",
   "id": "aa7ffae5-6258-4499-bbbe-50a43b4f2028",
   "metadata": {},
   "source": [
    "## 5. Utilization of the Learned Q Table"
   ]
  },
  {
   "cell_type": "code",
   "execution_count": null,
   "id": "cf151dfb-4d2b-4afe-adac-9dd273a27e00",
   "metadata": {},
   "outputs": [],
   "source": [
    "observation = env.reset()\n",
    "rewards = 0\n",
    "\n",
    "for step in range(5000):\n",
    "    env.render()\n",
    "    discrete_state = discretize_observation(observation,BINS)\n",
    "    action = np.argmax(q_table[discrete_state])\n",
    "    observation,reward,done,info = env.step(action)\n",
    "    rewards += reward\n",
    "    if done:\n",
    "        print(f'Reward points: {rewards}')\n",
    "        break;\n",
    "env.close()"
   ]
  },
  {
   "cell_type": "code",
   "execution_count": null,
   "id": "70070493-f00c-4577-8e4b-f4ba436b160c",
   "metadata": {},
   "outputs": [],
   "source": [
    "env.close()"
   ]
  },
  {
   "cell_type": "markdown",
   "id": "bd8cd6fc-59f0-47e4-af3a-c4c4e9ab6580",
   "metadata": {},
   "source": [
    "Conclusion: It does not work :)\n",
    "Solution: try other hyperparameters :)\n",
    "- Reduce the amount of epochs\n",
    "- Modify teh decay\n",
    "- Try more steps; however, note that by default we are 'done' is 200 steps are executed\n",
    "- ..."
   ]
  },
  {
   "cell_type": "code",
   "execution_count": null,
   "id": "98932238-0de3-469c-9272-982f18632c70",
   "metadata": {},
   "outputs": [],
   "source": []
  }
 ],
 "metadata": {
  "kernelspec": {
   "display_name": "Python 3 (ipykernel)",
   "language": "python",
   "name": "python3"
  },
  "language_info": {
   "codemirror_mode": {
    "name": "ipython",
    "version": 3
   },
   "file_extension": ".py",
   "mimetype": "text/x-python",
   "name": "python",
   "nbconvert_exporter": "python",
   "pygments_lexer": "ipython3",
   "version": "3.7.11"
  }
 },
 "nbformat": 4,
 "nbformat_minor": 5
}
