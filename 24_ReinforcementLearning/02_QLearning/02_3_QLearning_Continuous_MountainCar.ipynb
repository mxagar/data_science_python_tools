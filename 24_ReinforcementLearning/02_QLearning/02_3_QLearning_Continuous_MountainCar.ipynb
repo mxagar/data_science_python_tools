{
 "cells": [
  {
   "cell_type": "markdown",
   "id": "bd565e5c-a133-4ba7-8e86-2b47c1a8dcaa",
   "metadata": {},
   "source": [
    "# Q-Learning: Continuous Example with MountainCar"
   ]
  },
  {
   "cell_type": "code",
   "execution_count": null,
   "id": "98194d7d-dec9-4ac0-82f9-aec206671785",
   "metadata": {},
   "outputs": [],
   "source": []
  }
 ],
 "metadata": {
  "kernelspec": {
   "display_name": "Python 3 (ipykernel)",
   "language": "python",
   "name": "python3"
  },
  "language_info": {
   "codemirror_mode": {
    "name": "ipython",
    "version": 3
   },
   "file_extension": ".py",
   "mimetype": "text/x-python",
   "name": "python",
   "nbconvert_exporter": "python",
   "pygments_lexer": "ipython3",
   "version": "3.7.11"
  }
 },
 "nbformat": 4,
 "nbformat_minor": 5
}
