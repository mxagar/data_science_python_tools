{
 "cells": [
  {
   "cell_type": "markdown",
   "id": "7e2bd50c-efe4-448c-81fa-91326c52fa07",
   "metadata": {},
   "source": [
    "# DQN on Images"
   ]
  },
  {
   "cell_type": "markdown",
   "id": "a44a783f-67f9-4523-ae70-720fb251e5c0",
   "metadata": {},
   "source": [
    "This notebook implements **DQN on Images** for the [Breakout](https://gym.openai.com/envs/Breakout-v0/) game. The Keras-RL2 abstraction library is used.\n",
    "\n",
    "For general theory and intuition, see`../ReinforcementLearning_Guide.md`.\n",
    "\n",
    "Overview:\n",
    "1. Imports"
   ]
  },
  {
   "cell_type": "markdown",
   "id": "aa81cc70-6f8f-42ac-b213-7fac95f4f7a5",
   "metadata": {},
   "source": [
    "## 1. Imports"
   ]
  },
  {
   "cell_type": "code",
   "execution_count": 2,
   "id": "1db4f140-a472-4844-8d02-f0873ed7aa29",
   "metadata": {},
   "outputs": [],
   "source": [
    "# Image processing\n",
    "from PIL import Image\n",
    "import numpy as np\n",
    "import gym\n",
    "\n",
    "# CNN\n",
    "from tensorflow.keras.models import Sequential\n",
    "from tensorflow.keras.layers import Dense, Activation, Flatten, Convolution2D, Permute\n",
    "from tensorflow.keras.optimizers import Adam\n",
    "\n",
    "# Keras-RL2\n",
    "from rl.agents.dqn import DQNAgent\n",
    "from rl.policy import LinearAnnealedPolicy, EpsGreedyQPolicy\n",
    "from rl.memory import SequentialMemory\n",
    "from rl.core import Processor\n",
    "from rl.callbacks import FileLogger, ModelIntervalCheckpoint # for tracking results"
   ]
  },
  {
   "cell_type": "markdown",
   "id": "d4833657-5406-4426-9fe9-4eb619d3c999",
   "metadata": {},
   "source": [
    "## 2. Environment Setup"
   ]
  },
  {
   "cell_type": "markdown",
   "id": "8fb2399e-0767-4712-affd-bb53da34514e",
   "metadata": {},
   "source": [
    "We have 2 versions for the Atari games: the one with RAM contains relevant information on some object positions, etc.; the other has only images and a CNN should be applied to understand the object poses.\n",
    "\n",
    "Note that the Atari environments were removed from the Open AI gym github repo; they are now being maintained under the  Arcade-Learning-Environment repo: [Issue 2407](https://github.com/openai/gym/issues/2407). We can still install them with `pip install \"gym[atari,accept-rom-license]\"`, but the links to the source code at the Open AI environments website are broken.\n",
    "\n",
    "Further important links:\n",
    "\n",
    "- Atari environements were removed from OpenAI Gym and moved to the Arcade-Learning-Environment repo: [https://github.com/openai/gym/issues/2407](https://github.com/openai/gym/issues/2407)\n",
    "\n",
    "- Difference between v0, v4 & Deterministic: \n",
    "[https://github.com/openai/gym/issues/1280](https://github.com/openai/gym/issues/1280)\n",
    "\n",
    "- Atari enviornment: [https://github.com/mgbellemare/Arcade-Learning-Environment/blob/master/src/gym/envs/atari/environment.py](https://github.com/mgbellemare/Arcade-Learning-Environment/blob/master/src/gym/envs/atari/environment.py)\n",
    "\n",
    "We choose the environment `BreakoutDeterministic-v4` following the comments from the link above: [Issue 1280](https://github.com/openai/gym/issues/1280)"
   ]
  },
  {
   "cell_type": "code",
   "execution_count": 28,
   "id": "44b7161f-a297-4967-9d84-459646600746",
   "metadata": {},
   "outputs": [],
   "source": [
    "env_name = \"BreakoutDeterministic-v4\"\n",
    "env = gym.make(env_name)\n",
    "nb_actions = env.action_space.n"
   ]
  },
  {
   "cell_type": "code",
   "execution_count": 5,
   "id": "06fe54ac-34f0-4969-a839-ff0726a4b2e0",
   "metadata": {},
   "outputs": [
    {
     "data": {
      "text/plain": [
       "4"
      ]
     },
     "execution_count": 5,
     "metadata": {},
     "output_type": "execute_result"
    }
   ],
   "source": [
    "nb_actions"
   ]
  },
  {
   "cell_type": "markdown",
   "id": "8deed1ec-9b6b-4709-acb6-d9e5d975d4d8",
   "metadata": {},
   "source": [
    "## 3. Image Processing"
   ]
  },
  {
   "cell_type": "code",
   "execution_count": 6,
   "id": "b2a2d27d-7d24-469d-b3ad-f8074ba6f239",
   "metadata": {},
   "outputs": [],
   "source": [
    "IMG_SHAPE = (84, 84)\n",
    "WINDOW_LENGTH = 4"
   ]
  },
  {
   "cell_type": "code",
   "execution_count": 8,
   "id": "8d819737-3336-4a97-8d3f-8c32c2195b24",
   "metadata": {},
   "outputs": [],
   "source": [
    "class ImageProcessor(Processor):\n",
    "    def process_observation(self, observation):\n",
    "        # numpy -> PIL\n",
    "        img = Image.fromarray(observation)\n",
    "        # scale / resize\n",
    "        img = img.resize(IMG_SHAPE)\n",
    "        # grayscale (luminiscence)\n",
    "        img = img.convert(\"L\")\n",
    "        # PIL -> numpy\n",
    "        img = np.array(img)\n",
    "        # save storage (optional)\n",
    "        return img.astype('uint8')\n",
    "    def process_state_batch(self, batch):\n",
    "        # scale grayvalues to [0,1]\n",
    "        processed_batch = batch.astype('float32') / 255.\n",
    "        return processed_batch\n",
    "    def process_reward(self, reward):\n",
    "        # clip reward to [-1,1]\n",
    "        return np.clip(reward, -1.0, 1.0)"
   ]
  },
  {
   "cell_type": "markdown",
   "id": "d518a6bd-39c1-4a38-9070-7856ee471274",
   "metadata": {},
   "source": [
    "## 4. Network Model"
   ]
  },
  {
   "cell_type": "code",
   "execution_count": 12,
   "id": "7783fc0b-4614-466e-aeba-e05bfd43a428",
   "metadata": {},
   "outputs": [
    {
     "data": {
      "text/plain": [
       "(4, 84, 84)"
      ]
     },
     "execution_count": 12,
     "metadata": {},
     "output_type": "execute_result"
    }
   ],
   "source": [
    "# We pass images in sequences of 4 frames!\n",
    "input_shape = (WINDOW_LENGTH, IMG_SHAPE[0], IMG_SHAPE[1])\n",
    "input_shape"
   ]
  },
  {
   "cell_type": "markdown",
   "id": "fe9befa2-3d80-48dd-8e48-0aab68a8e37a",
   "metadata": {},
   "source": [
    "Take into account that we have `(4,84,84)` arrays, but if we look at the documentation of `Convolution2D`, our convolutional network expects `(BatchSize, 84, 84, 4)`. Thus, we need to account for this: we use the `Permute` layer for that.\n",
    "\n",
    "- [Keras Permute](https://keras.io/api/layers/reshaping_layers/permute/)\n",
    "- [Keras Convolution2d](https://keras.io/api/layers/convolution_layers/convolution2d/)"
   ]
  },
  {
   "cell_type": "code",
   "execution_count": 15,
   "id": "1d812528-a706-41e0-b19d-bb766c466970",
   "metadata": {},
   "outputs": [
    {
     "name": "stdout",
     "output_type": "stream",
     "text": [
      "Model: \"sequential_1\"\n",
      "_________________________________________________________________\n",
      "Layer (type)                 Output Shape              Param #   \n",
      "=================================================================\n",
      "permute_1 (Permute)          (None, 84, 84, 4)         0         \n",
      "_________________________________________________________________\n",
      "conv2d_3 (Conv2D)            (None, 20, 20, 32)        8224      \n",
      "_________________________________________________________________\n",
      "activation_5 (Activation)    (None, 20, 20, 32)        0         \n",
      "_________________________________________________________________\n",
      "conv2d_4 (Conv2D)            (None, 9, 9, 64)          32832     \n",
      "_________________________________________________________________\n",
      "activation_6 (Activation)    (None, 9, 9, 64)          0         \n",
      "_________________________________________________________________\n",
      "conv2d_5 (Conv2D)            (None, 7, 7, 64)          36928     \n",
      "_________________________________________________________________\n",
      "activation_7 (Activation)    (None, 7, 7, 64)          0         \n",
      "_________________________________________________________________\n",
      "flatten_1 (Flatten)          (None, 3136)              0         \n",
      "_________________________________________________________________\n",
      "dense_2 (Dense)              (None, 512)               1606144   \n",
      "_________________________________________________________________\n",
      "activation_8 (Activation)    (None, 512)               0         \n",
      "_________________________________________________________________\n",
      "dense_3 (Dense)              (None, 4)                 2052      \n",
      "_________________________________________________________________\n",
      "activation_9 (Activation)    (None, 4)                 0         \n",
      "=================================================================\n",
      "Total params: 1,686,180\n",
      "Trainable params: 1,686,180\n",
      "Non-trainable params: 0\n",
      "_________________________________________________________________\n",
      "None\n"
     ]
    }
   ],
   "source": [
    "model = Sequential()\n",
    "# Change dimension places: (4,84,84) --> (84,84,4)\n",
    "model.add(Permute((2, 3, 1), input_shape=input_shape))\n",
    "# 32 filters, 8x8 kernel size\n",
    "# Default kernel initialization is Glorot, but some publications report better results with He\n",
    "model.add(Convolution2D(32, (8, 8), strides=(4, 4),kernel_initializer='he_normal'))\n",
    "model.add(Activation('relu'))\n",
    "model.add(Convolution2D(64, (4, 4), strides=(2, 2), kernel_initializer='he_normal'))\n",
    "model.add(Activation('relu'))\n",
    "model.add(Convolution2D(64, (3, 3), strides=(1, 1), kernel_initializer='he_normal'))\n",
    "model.add(Activation('relu'))\n",
    "model.add(Flatten())\n",
    "model.add(Dense(512))\n",
    "model.add(Activation('relu'))\n",
    "model.add(Dense(nb_actions))\n",
    "model.add(Activation('linear'))\n",
    "print(model.summary())"
   ]
  },
  {
   "cell_type": "markdown",
   "id": "cf904dfb-1518-4159-ae1c-507e9a40cce0",
   "metadata": {},
   "source": [
    "## 5. Agent"
   ]
  },
  {
   "cell_type": "code",
   "execution_count": 16,
   "id": "e5e1f7af-f738-4799-a6de-db2695f21d82",
   "metadata": {},
   "outputs": [],
   "source": [
    "# Replay buffer\n",
    "memory = SequentialMemory(limit=1000000, window_length=WINDOW_LENGTH)"
   ]
  },
  {
   "cell_type": "code",
   "execution_count": 17,
   "id": "e2e666f7-0b58-4868-9fd8-725fbd46f583",
   "metadata": {},
   "outputs": [],
   "source": [
    "# Image processor\n",
    "processor = ImageProcessor()"
   ]
  },
  {
   "cell_type": "code",
   "execution_count": 24,
   "id": "8f93f1d4-a775-4501-a738-d25ea04c7604",
   "metadata": {},
   "outputs": [],
   "source": [
    "# Policy: Linear decay\n",
    "# Random (exploration) or best (exploitation) action chosen\n",
    "# depending on epsilon in [value_min, value_max], decreased by steps.\n",
    "# value_test: evaluation can be performed at a fixed epsilon (should be small: exploitation)\n",
    "# nb_steps: we match our sequential memory size\n",
    "policy = LinearAnnealedPolicy(EpsGreedyQPolicy(),\n",
    "                              attr='eps',\n",
    "                              value_max=1.0,\n",
    "                              value_min=0.1,\n",
    "                              value_test=.05,\n",
    "                              nb_steps=1000000)"
   ]
  },
  {
   "cell_type": "code",
   "execution_count": 25,
   "id": "1081d9da-f2e8-4765-be3e-876b114f3e58",
   "metadata": {},
   "outputs": [],
   "source": [
    "# DQN Agent\n",
    "# We now pass all elements we have to the agent;\n",
    "# nb_steps_warmup: our burn_in = how many steps before epsilon starts decreasing\n",
    "# target_model_update: every how many epochs do we update the weights of the frozen model\n",
    "# Optional: batch_size, gamma\n",
    "dqn = DQNAgent(model=model,\n",
    "               nb_actions=nb_actions,\n",
    "               policy=policy,\n",
    "               memory=memory,\n",
    "               processor=processor,\n",
    "               nb_steps_warmup=50000,\n",
    "               gamma=.99,\n",
    "               target_model_update=10000,\n",
    "               train_interval=4,\n",
    "               delta_clip=1)"
   ]
  },
  {
   "cell_type": "code",
   "execution_count": 26,
   "id": "07c767d7-965e-4799-8187-fa5a6bcb9f0f",
   "metadata": {},
   "outputs": [],
   "source": [
    "# We need to pass the optimizer for the model and the metric(s)\n",
    "# 'mae': Mean Absolute Error\n",
    "dqn.compile(Adam(learning_rate=.00025), metrics=['mae'])"
   ]
  },
  {
   "cell_type": "markdown",
   "id": "8685fc22-56a7-4e90-9b60-31ced10067c5",
   "metadata": {},
   "source": [
    "## 6. Training & Storing "
   ]
  },
  {
   "cell_type": "markdown",
   "id": "8000ab7d-d602-46df-b01e-bc7125464de0",
   "metadata": {},
   "source": [
    "The DQN agent needs to play and train for a long period of time alone. Since we are going to leave it train for a long time, it makes sense to store some model checkpoints; that is achieved with a callback."
   ]
  },
  {
   "cell_type": "code",
   "execution_count": 47,
   "id": "4dfd3e9d-d2b8-4730-a8db-52f31ca12bac",
   "metadata": {},
   "outputs": [],
   "source": [
    "# Store it as HDF5: 2 files are stored (h5f.data* and h5f.index), but we refer to the .h5f ending only\n",
    "weights_filename = 'dqn_breakout_weights.h5f'\n",
    "checkpoint_weights_filename = 'dqn_' + env_name + '_weights_{step}.h5f'\n",
    "# Every interval steps, model weights saved\n",
    "checkpoint_callback = ModelIntervalCheckpoint(checkpoint_weights_filename, interval=100000)"
   ]
  },
  {
   "cell_type": "markdown",
   "id": "d6be80b8-29c9-4d80-a436-9c44dfd475d9",
   "metadata": {},
   "source": [
    "We can also load the weights of a pre-trained network and keep training with it; however, in that case the `epsilon` value needs to be adjusted!"
   ]
  },
  {
   "cell_type": "code",
   "execution_count": 48,
   "id": "9d73a7ad-dce8-411d-bbc8-981bcac07512",
   "metadata": {},
   "outputs": [],
   "source": [
    "weights_path = \"C:/Users/Mikel/Dropbox/Learning/PythonLab/udemy_rl_ai/notebooks/08-Deep-Q-Learning-On-Images/weights/dqn_BreakoutDeterministic-v4_weights_900000.h5f\""
   ]
  },
  {
   "cell_type": "code",
   "execution_count": 49,
   "id": "bce1c0dc-51a8-4dd5-b130-9bac4627ab15",
   "metadata": {},
   "outputs": [],
   "source": [
    "# Example: load pre-trained model from course at step 900,000; epsilon: 0.3 -> 0.1\n",
    "model.load_weights(weights_path)\n",
    "# Update policy with new epsilon\n",
    "policy = LinearAnnealedPolicy(EpsGreedyQPolicy(),\n",
    "                              attr='eps',\n",
    "                              value_max=0.3,\n",
    "                              value_min=.1,\n",
    "                              value_test=.05,\n",
    "                              nb_steps=100000)\n",
    "# DQN Agent\n",
    "dqn = DQNAgent(model=model,\n",
    "               nb_actions=nb_actions,\n",
    "               policy=policy,\n",
    "               memory=memory,\n",
    "               processor=processor,\n",
    "               nb_steps_warmup=50000,\n",
    "               gamma=.99,\n",
    "               target_model_update=10000)\n",
    "# Compile\n",
    "dqn.compile(Adam(learning_rate=.00025), metrics=['mae'])"
   ]
  },
  {
   "cell_type": "code",
   "execution_count": null,
   "id": "4a85df1f-ddc4-42ef-9d7a-dd0d0713b5ee",
   "metadata": {},
   "outputs": [
    {
     "name": "stdout",
     "output_type": "stream",
     "text": [
      "Training for 500000 steps ...\n",
      "Interval 1 (0 steps performed)\n",
      "    1/10000 [..............................] - ETA: 28:56 - reward: 0.0000e+00"
     ]
    },
    {
     "name": "stderr",
     "output_type": "stream",
     "text": [
      "C:\\Users\\Mikel\\.conda\\envs\\ds\\lib\\site-packages\\keras\\engine\\training.py:2470: UserWarning: `Model.state_updates` will be removed in a future version. This property should not be used in TensorFlow 2.0, as `updates` are applied automatically.\n",
      "  warnings.warn('`Model.state_updates` will be removed in a future version. '\n"
     ]
    },
    {
     "name": "stdout",
     "output_type": "stream",
     "text": [
      "10000/10000 [==============================] - 36s 4ms/step - reward: 0.0170\n",
      "23 episodes - episode_reward: 7.130 [2.000, 14.000] - lives: 2.695\n",
      "\n",
      "Interval 2 (10000 steps performed)\n",
      "10000/10000 [==============================] - 37s 4ms/step - reward: 0.0174\n",
      "24 episodes - episode_reward: 7.042 [2.000, 13.000] - lives: 2.725\n",
      "\n",
      "Interval 3 (20000 steps performed)\n",
      "10000/10000 [==============================] - 37s 4ms/step - reward: 0.0174\n",
      "21 episodes - episode_reward: 8.476 [2.000, 14.000] - lives: 2.779\n",
      "\n",
      "Interval 4 (30000 steps performed)\n",
      "10000/10000 [==============================] - 37s 4ms/step - reward: 0.0190\n",
      "21 episodes - episode_reward: 9.333 [3.000, 21.000] - lives: 2.828\n",
      "\n",
      "Interval 5 (40000 steps performed)\n",
      "10000/10000 [==============================] - 39s 4ms/step - reward: 0.0174\n",
      "21 episodes - episode_reward: 8.143 [1.000, 16.000] - lives: 2.741\n",
      "\n",
      "Interval 6 (50000 steps performed)\n",
      " 1291/10000 [==>...........................] - ETA: 13:55 - reward: 0.0163"
     ]
    }
   ],
   "source": [
    "# Train\n",
    "# log_interval: checkpoint_callback called every log_interval steps\n",
    "dqn.fit(env, nb_steps=500000, callbacks=[checkpoint_callback], log_interval=10000, visualize=False)"
   ]
  },
  {
   "cell_type": "code",
   "execution_count": null,
   "id": "32c92f45-12e4-4bcd-8a24-1cd727f8c842",
   "metadata": {},
   "outputs": [],
   "source": []
  }
 ],
 "metadata": {
  "kernelspec": {
   "display_name": "Python 3 (ipykernel)",
   "language": "python",
   "name": "python3"
  },
  "language_info": {
   "codemirror_mode": {
    "name": "ipython",
    "version": 3
   },
   "file_extension": ".py",
   "mimetype": "text/x-python",
   "name": "python",
   "nbconvert_exporter": "python",
   "pygments_lexer": "ipython3",
   "version": "3.7.11"
  }
 },
 "nbformat": 4,
 "nbformat_minor": 5
}
