{
 "cells": [
  {
   "cell_type": "markdown",
   "id": "7e2bd50c-efe4-448c-81fa-91326c52fa07",
   "metadata": {},
   "source": [
    "# DQN on Images"
   ]
  },
  {
   "cell_type": "markdown",
   "id": "a44a783f-67f9-4523-ae70-720fb251e5c0",
   "metadata": {},
   "source": [
    "This notebook implements **DQN on Images** for the [Breakout](https://gym.openai.com/envs/Breakout-v0/) game. The Keras-RL2 abstraction library is used.\n",
    "\n",
    "For general theory and intuition, see`../ReinforcementLearning_Guide.md`.\n",
    "\n",
    "Overview:\n",
    "1. "
   ]
  },
  {
   "cell_type": "markdown",
   "id": "aa81cc70-6f8f-42ac-b213-7fac95f4f7a5",
   "metadata": {},
   "source": [
    "## 1. "
   ]
  },
  {
   "cell_type": "code",
   "execution_count": null,
   "id": "1db4f140-a472-4844-8d02-f0873ed7aa29",
   "metadata": {},
   "outputs": [],
   "source": []
  }
 ],
 "metadata": {
  "kernelspec": {
   "display_name": "Python 3 (ipykernel)",
   "language": "python",
   "name": "python3"
  },
  "language_info": {
   "codemirror_mode": {
    "name": "ipython",
    "version": 3
   },
   "file_extension": ".py",
   "mimetype": "text/x-python",
   "name": "python",
   "nbconvert_exporter": "python",
   "pygments_lexer": "ipython3",
   "version": "3.7.11"
  }
 },
 "nbformat": 4,
 "nbformat_minor": 5
}
