{
 "cells": [
  {
   "cell_type": "markdown",
   "id": "95908985-3df6-4b32-843b-3282922448fa",
   "metadata": {},
   "source": [
    "# Processing Images"
   ]
  },
  {
   "cell_type": "markdown",
   "id": "a1d1beb6-eb46-4395-ba2f-9be395aff4ca",
   "metadata": {},
   "source": [
    "This notebook implements the **manual DQN Image Processing** for the [Breakout](https://gym.openai.com/envs/Breakout-v0/) game, i.e., the handling of the replay buffer with sequences or windows of images.\n",
    "\n",
    "Usually, that does not need to be done manually, we can use libraries with a one-liner, as shown in `./04_2_DQN_Images_Keras_RL2_Breakout.ipynb`.\n",
    "\n",
    "For general theory and intuition, see`../ReinforcementLearning_Guide.md`.\n",
    "\n",
    "Overview:\n"
   ]
  },
  {
   "cell_type": "code",
   "execution_count": null,
   "id": "a2d723e7-0741-469b-a7b1-8bee462da2ff",
   "metadata": {},
   "outputs": [],
   "source": []
  }
 ],
 "metadata": {
  "kernelspec": {
   "display_name": "Python 3 (ipykernel)",
   "language": "python",
   "name": "python3"
  },
  "language_info": {
   "codemirror_mode": {
    "name": "ipython",
    "version": 3
   },
   "file_extension": ".py",
   "mimetype": "text/x-python",
   "name": "python",
   "nbconvert_exporter": "python",
   "pygments_lexer": "ipython3",
   "version": "3.7.11"
  }
 },
 "nbformat": 4,
 "nbformat_minor": 5
}
