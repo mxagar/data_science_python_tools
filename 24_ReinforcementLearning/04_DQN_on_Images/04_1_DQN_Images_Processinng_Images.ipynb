{
 "cells": [
  {
   "cell_type": "markdown",
   "id": "95908985-3df6-4b32-843b-3282922448fa",
   "metadata": {},
   "source": [
    "# Processing Images"
   ]
  },
  {
   "cell_type": "markdown",
   "id": "a1d1beb6-eb46-4395-ba2f-9be395aff4ca",
   "metadata": {},
   "source": [
    "This notebook implements the **manual DQN Image Processing** for the [Breakout](https://gym.openai.com/envs/Breakout-v0/) game. Image processing means two things:\n",
    "\n",
    "1. Handling of the replay buffer, which contains images stacked in experiences, as we want\n",
    "2. Transformations: scaling, gray color, etc.\n",
    "\n",
    "Usually, that does not need to be done manually, we can use libraries with a one-liner, as shown in `./04_2_DQN_Images_Keras_RL2_Breakout.ipynb`.\n",
    "\n",
    "For general theory and intuition, see`../ReinforcementLearning_Guide.md`.\n",
    "\n",
    "Overview:\n",
    "1. Manual Image Processing\n",
    "2. Image Processing with Keras-RL2\n",
    "3. Image Pre-Processing: Scale & Gray"
   ]
  },
  {
   "cell_type": "markdown",
   "id": "e22f1515-ce3b-482f-85fa-8916884e1b3d",
   "metadata": {},
   "source": [
    "## 1. Manual Image Processing"
   ]
  },
  {
   "cell_type": "code",
   "execution_count": 33,
   "id": "a2d723e7-0741-469b-a7b1-8bee462da2ff",
   "metadata": {},
   "outputs": [],
   "source": [
    "# Pillow = PIL = Python Image Library\n",
    "from PIL import Image\n",
    "import matplotlib.pyplot as plt\n",
    "import numpy as np\n",
    "import gym\n",
    "from gym.utils import play # manual plaing\n",
    "# Keras-RL2: These imports are not for the manual image processing!\n",
    "from rl.core import Processor # process the image within the keras-rl training routine\n",
    "from rl.memory import SequentialMemory # store the sequential frames"
   ]
  },
  {
   "cell_type": "code",
   "execution_count": 3,
   "id": "90c6cab1-cbff-4b17-9e6e-6238a8d0e74e",
   "metadata": {},
   "outputs": [],
   "source": [
    "env = gym.make(\"Breakout-v0\")"
   ]
  },
  {
   "cell_type": "code",
   "execution_count": 5,
   "id": "dceb5a6d-2854-4e1d-bf78-32484e303533",
   "metadata": {},
   "outputs": [],
   "source": [
    "# Try the game manually\n",
    "# A, D: left & right\n",
    "# Space: launch ball\n",
    "# ESC: exit\n",
    "play.play(env)"
   ]
  },
  {
   "cell_type": "code",
   "execution_count": 11,
   "id": "095efc69-5b0a-4806-83b2-1fc8581512b7",
   "metadata": {},
   "outputs": [],
   "source": [
    "# Window or sequence length: number of frames\n",
    "# Each element of the replay buffer has WINDOW_LENGTH images/frames\n",
    "WINDOW_LENGTH = 3"
   ]
  },
  {
   "cell_type": "code",
   "execution_count": 12,
   "id": "56850869-b493-459e-962d-7ee9210633e0",
   "metadata": {},
   "outputs": [],
   "source": [
    "# Replay buffer is a deque: list of fixed size\n",
    "# in which elements are popped in FIFO order\n",
    "from collections import deque"
   ]
  },
  {
   "cell_type": "code",
   "execution_count": 8,
   "id": "2381c848-f057-4cd3-b5b7-e32f9e0a8bb9",
   "metadata": {},
   "outputs": [],
   "source": [
    "np.random.seed(42)"
   ]
  },
  {
   "cell_type": "code",
   "execution_count": 26,
   "id": "9a09a685-fb79-4ed5-a8fe-867dd2684000",
   "metadata": {},
   "outputs": [],
   "source": [
    "env.reset()\n",
    "\n",
    "# Our actual memory\n",
    "# It contains sequences of images\n",
    "# Each sequence is of length WINDOW_LENGTH\n",
    "# Sequences overlap:\n",
    "# a new sequence has a new image,\n",
    "# the rest of the images appear in the previous sequence (experience)\n",
    "sequential_frame_buffer = []\n",
    "\n",
    "# Temporary deque to capture sequential frames\n",
    "# which can store a max of WINDOW_LENGTH images\n",
    "temp_sequential_frames = deque(maxlen=WINDOW_LENGTH)\n",
    "\n",
    "steps = 10\n",
    "for i in range(steps):\n",
    "    if i == 0:\n",
    "        action = 1 # launch ball (initiate game)\n",
    "    else:\n",
    "        action = 3  # go left\n",
    "        \n",
    "    observation, reward, done, info = env.step(action)  # carry out action\n",
    "    \n",
    "    # Check deque has at least WINDOW_LENGTH elements\n",
    "    if len(temp_sequential_frames) == WINDOW_LENGTH:\n",
    "        # convert deque to be a list\n",
    "        sequential_frame_buffer.append(list(temp_sequential_frames))\n",
    "    \n",
    "    # Update the deque\n",
    "    temp_sequential_frames.append(observation)"
   ]
  },
  {
   "cell_type": "code",
   "execution_count": 25,
   "id": "8ec6bf77-b8c9-4d81-b43c-d7d19a289b72",
   "metadata": {},
   "outputs": [
    {
     "data": {
      "text/plain": [
       "7"
      ]
     },
     "execution_count": 25,
     "metadata": {},
     "output_type": "execute_result"
    }
   ],
   "source": [
    "# We should have steps - WINDOW_LENGTH elements (experiences/sequences)\n",
    "len(sequential_frame_buffer)"
   ]
  },
  {
   "cell_type": "code",
   "execution_count": 27,
   "id": "e4e02f52-4656-4ba2-a438-b4536707e24b",
   "metadata": {},
   "outputs": [
    {
     "data": {
      "text/plain": [
       "3"
      ]
     },
     "execution_count": 27,
     "metadata": {},
     "output_type": "execute_result"
    }
   ],
   "source": [
    "# and each elementexperience with WINDOW_LENGTH observations\n",
    "len(sequential_frame_buffer[0])"
   ]
  },
  {
   "cell_type": "code",
   "execution_count": 41,
   "id": "5bd88c7c-0009-4296-94eb-994db42f157f",
   "metadata": {},
   "outputs": [
    {
     "data": {
      "text/plain": [
       "<matplotlib.image.AxesImage at 0x29557d99288>"
      ]
     },
     "execution_count": 41,
     "metadata": {},
     "output_type": "execute_result"
    },
    {
     "data": {
      "image/png": "[encoded data removed]",
      "text/plain": [
       "<Figure size 432x288 with 1 Axes>"
      ]
     },
     "metadata": {
      "needs_background": "light"
     },
     "output_type": "display_data"
    }
   ],
   "source": [
    "# Display first frame/image from first expeience/sequence\n",
    "# Recall observation is a numpy array, stored in sequential_frame_buffer[][]\n",
    "%matplotlib inline\n",
    "plt.imshow(sequential_frame_buffer[0][0])"
   ]
  },
  {
   "cell_type": "code",
   "execution_count": 34,
   "id": "27d3f3da-8669-46a7-beef-73feedf9f522",
   "metadata": {},
   "outputs": [
    {
     "data": {
      "image/png": "[encoded data removed]",
      "text/plain": [
       "<Figure size 864x864 with 12 Axes>"
      ]
     },
     "metadata": {
      "needs_background": "light"
     },
     "output_type": "display_data"
    }
   ],
   "source": [
    "# Show first 4 experiences/sequences \n",
    "%matplotlib inline\n",
    "fig, axis = plt.subplots(4, WINDOW_LENGTH, figsize=(12, 12))\n",
    "for global_index, timestep in enumerate(sequential_frame_buffer[:4]):\n",
    "    for frame_index, frame in enumerate(timestep):\n",
    "        axis[global_index][frame_index].imshow(frame)\n",
    "fig.subplots_adjust(wspace=0, hspace=0.1)"
   ]
  },
  {
   "cell_type": "markdown",
   "id": "85956544-98a3-4f91-8ad9-5c44c815516f",
   "metadata": {},
   "source": [
    "## 2. Image Processing with Keras-RL2"
   ]
  },
  {
   "cell_type": "code",
   "execution_count": 35,
   "id": "e83def42-ff4e-4993-9eab-ec270fa2cdee",
   "metadata": {},
   "outputs": [],
   "source": [
    "from rl.core import Processor # process the image within the keras-rl training routine\n",
    "from rl.memory import SequentialMemory # store the sequential frames"
   ]
  },
  {
   "cell_type": "code",
   "execution_count": 37,
   "id": "60f5452d-ec43-4e4b-a71b-2e1b907c9806",
   "metadata": {},
   "outputs": [],
   "source": [
    "# Same thing as before, but automatically with Keras-RL2\n",
    "# create a list of 1000 experiences, each experience containing WINDOW_LENGTH frames\n",
    "memory = SequentialMemory(limit=1000, window_length=WINDOW_LENGTH)"
   ]
  },
  {
   "cell_type": "markdown",
   "id": "469805f7-d60a-4dc1-803a-d1c7c77f1a09",
   "metadata": {},
   "source": [
    "## 3. Image Pre-Processing: Scale & Gray"
   ]
  },
  {
   "cell_type": "markdown",
   "id": "ed7b3584-1b35-4eb7-99a7-3fd2aca5b708",
   "metadata": {},
   "source": [
    "Instead of doing al pre-processing (scale & gray) manually, we use the `Processor` class from Keras-RL2. It can perform many tasks: \n",
    "\n",
    "[Keras-RL2 Processor](https://github.com/keras-rl/keras-rl/blob/master/rl/core.py#L515)\n",
    "\n",
    "Each processor can define the following methods:\n",
    "1. `process_step(observation, reward, done, info)`: \"processes an entire step by applying the processor to the observation, reward, and info arguments\". Used during **inference**.\n",
    "2. `process_observation(observation)`: \"processes the observation as obtained from the environment for use in an agent and returns it\".\n",
    "3. `process_reward(reward)`: \"processes the reward as obtained from the environment for use in an agent and returns it\".\n",
    "4. `process_info(info)`: \"processes the info as obtained from the environment for use in an agent and returns it\".\n",
    "5. `process_action(action)`: \"processes an action predicted by an agent but before execution in an environment\".\n",
    "6. `process_state_batch(batch)`: \"processes an entire batch of states and returns it\". Used for **training**.\n",
    "\n",
    "The processor transforms the observation provided by gym into something our network can handle.\n",
    "\n",
    "We inherit the class and add overload the `process_observation` method."
   ]
  },
  {
   "cell_type": "code",
   "execution_count": 38,
   "id": "4cb69734-0636-47e3-85af-b8785256f3e4",
   "metadata": {},
   "outputs": [],
   "source": [
    "# Scale: target size\n",
    "IMG_SHAPE =  (84,84)"
   ]
  },
  {
   "cell_type": "code",
   "execution_count": 40,
   "id": "266f4367-45ff-4aeb-9c18-25eb01e20b23",
   "metadata": {},
   "outputs": [],
   "source": [
    "class BreakOutProcessor(Processor):\n",
    "    def process_observation(self, observation):\n",
    "        # numpy -> PIL Image\n",
    "        img = Image.fromarray(observation)\n",
    "        # Resize the image\n",
    "        img = img.resize(IMG_SHAPE)\n",
    "        # Grayscale  (L = luminance)\n",
    "        img = img.convert(\"L\")\n",
    "        # PIL -> numpy\n",
    "        return np.array(img)"
   ]
  },
  {
   "cell_type": "code",
   "execution_count": 42,
   "id": "4f6bc04e-d7b4-4fc9-b0af-decafc4f3ed0",
   "metadata": {},
   "outputs": [],
   "source": [
    "# Test the inherited Processor\n",
    "sample_images = []\n",
    "breakout_proc = BreakOutProcessor()\n",
    "env.reset()\n",
    "for _ in range(200):\n",
    "    action = env.action_space.sample() # sample random action\n",
    "    observation, r, d, info = env.step(action) # perform random action and get next state\n",
    "    # HERE WE TRANSFORM THE OBSERVATION/IMAGE\n",
    "    processed_observation = breakout_proc.process_observation(observation)\n",
    "    sample_images.append(processed_observation)"
   ]
  },
  {
   "cell_type": "code",
   "execution_count": 45,
   "id": "9fa2d6e4-bea2-4847-852f-35841e3a443d",
   "metadata": {},
   "outputs": [
    {
     "data": {
      "text/plain": [
       "<matplotlib.image.AxesImage at 0x2955343ff08>"
      ]
     },
     "execution_count": 45,
     "metadata": {},
     "output_type": "execute_result"
    },
    {
     "data": {
      "image/png": "[encoded data removed]",
      "text/plain": [
       "<Figure size 432x288 with 1 Axes>"
      ]
     },
     "metadata": {
      "needs_background": "light"
     },
     "output_type": "display_data"
    }
   ],
   "source": [
    "plt.imshow(sample_images[-1],cmap='gray')"
   ]
  },
  {
   "cell_type": "code",
   "execution_count": null,
   "id": "fefce1ba-dad7-429f-b347-0db8d6e5f5e7",
   "metadata": {},
   "outputs": [],
   "source": []
  }
 ],
 "metadata": {
  "kernelspec": {
   "display_name": "Python 3 (ipykernel)",
   "language": "python",
   "name": "python3"
  },
  "language_info": {
   "codemirror_mode": {
    "name": "ipython",
    "version": 3
   },
   "file_extension": ".py",
   "mimetype": "text/x-python",
   "name": "python",
   "nbconvert_exporter": "python",
   "pygments_lexer": "ipython3",
   "version": "3.7.11"
  }
 },
 "nbformat": 4,
 "nbformat_minor": 5
}
