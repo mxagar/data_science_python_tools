{
 "cells": [
  {
   "cell_type": "markdown",
   "id": "f8bd5fcb-dd3e-4b1e-b7d9-d82af8ce603f",
   "metadata": {},
   "source": [
    "# Generative Adversarial Networks (GANs): Introduction & MNIST Generation"
   ]
  },
  {
   "cell_type": "markdown",
   "id": "130d6d10-b54a-4c83-8c40-d4f50d78f194",
   "metadata": {},
   "source": [
    "\n",
    "[A Friendly Introduction to Generative Adversarial Networks (GANs), by Luis Serrano](https://www.youtube.com/watch?v=8L11aMN5KY8)"
   ]
  },
  {
   "cell_type": "code",
   "execution_count": null,
   "id": "62f68871-91cb-4211-a805-07a331b4d4d3",
   "metadata": {},
   "outputs": [],
   "source": []
  }
 ],
 "metadata": {
  "kernelspec": {
   "display_name": "Python 3 (ipykernel)",
   "language": "python",
   "name": "python3"
  },
  "language_info": {
   "codemirror_mode": {
    "name": "ipython",
    "version": 3
   },
   "file_extension": ".py",
   "mimetype": "text/x-python",
   "name": "python",
   "nbconvert_exporter": "python",
   "pygments_lexer": "ipython3",
   "version": "3.7.11"
  }
 },
 "nbformat": 4,
 "nbformat_minor": 5
}
