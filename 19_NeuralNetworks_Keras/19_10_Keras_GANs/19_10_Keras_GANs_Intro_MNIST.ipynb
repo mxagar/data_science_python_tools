{
 "cells": [
  {
   "cell_type": "markdown",
   "id": "f8bd5fcb-dd3e-4b1e-b7d9-d82af8ce603f",
   "metadata": {},
   "source": [
    "# Generative Adversarial Networks (GANs): Introduction & MNIST Generation"
   ]
  },
  {
   "cell_type": "code",
   "execution_count": null,
   "id": "da8a54ca-0303-46ad-8204-07688ca24942",
   "metadata": {},
   "outputs": [],
   "source": []
  }
 ],
 "metadata": {
  "kernelspec": {
   "display_name": "Python 3 (ipykernel)",
   "language": "python",
   "name": "python3"
  },
  "language_info": {
   "codemirror_mode": {
    "name": "ipython",
    "version": 3
   },
   "file_extension": ".py",
   "mimetype": "text/x-python",
   "name": "python",
   "nbconvert_exporter": "python",
   "pygments_lexer": "ipython3",
   "version": "3.7.11"
  }
 },
 "nbformat": 4,
 "nbformat_minor": 5
}
