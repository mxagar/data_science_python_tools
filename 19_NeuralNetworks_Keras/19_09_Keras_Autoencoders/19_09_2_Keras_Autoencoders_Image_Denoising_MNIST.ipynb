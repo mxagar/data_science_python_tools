{
 "cells": [
  {
   "cell_type": "markdown",
   "id": "e955e8bd-b1b1-4499-858e-7859fed5adf2",
   "metadata": {},
   "source": [
    "# Autoencoders: Image Denoising (MNIST)"
   ]
  },
  {
   "cell_type": "code",
   "execution_count": null,
   "id": "4c6b99b7-5a49-4230-bf1e-1bd366d96903",
   "metadata": {},
   "outputs": [],
   "source": []
  }
 ],
 "metadata": {
  "kernelspec": {
   "display_name": "Python 3 (ipykernel)",
   "language": "python",
   "name": "python3"
  },
  "language_info": {
   "codemirror_mode": {
    "name": "ipython",
    "version": 3
   },
   "file_extension": ".py",
   "mimetype": "text/x-python",
   "name": "python",
   "nbconvert_exporter": "python",
   "pygments_lexer": "ipython3",
   "version": "3.7.11"
  }
 },
 "nbformat": 4,
 "nbformat_minor": 5
}
