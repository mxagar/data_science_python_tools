{
 "cells": [
  {
   "cell_type": "markdown",
   "id": "5b3cd692-6630-4152-8b34-50e5b3fdf9f6",
   "metadata": {},
   "source": [
    "# Deployment: Model Definition"
   ]
  },
  {
   "cell_type": "code",
   "execution_count": null,
   "id": "01e697af-fd84-4a8f-80d3-debc26fb418c",
   "metadata": {},
   "outputs": [],
   "source": []
  }
 ],
 "metadata": {
  "kernelspec": {
   "display_name": "Python 3 (ipykernel)",
   "language": "python",
   "name": "python3"
  },
  "language_info": {
   "codemirror_mode": {
    "name": "ipython",
    "version": 3
   },
   "file_extension": ".py",
   "mimetype": "text/x-python",
   "name": "python",
   "nbconvert_exporter": "python",
   "pygments_lexer": "ipython3",
   "version": "3.7.11"
  }
 },
 "nbformat": 4,
 "nbformat_minor": 5
}
