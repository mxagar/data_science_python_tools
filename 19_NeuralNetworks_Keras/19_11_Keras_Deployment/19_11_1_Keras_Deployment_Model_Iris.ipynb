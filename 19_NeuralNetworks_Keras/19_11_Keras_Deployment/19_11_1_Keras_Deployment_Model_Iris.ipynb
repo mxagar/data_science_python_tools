{
 "cells": [
  {
   "cell_type": "markdown",
   "id": "5b3cd692-6630-4152-8b34-50e5b3fdf9f6",
   "metadata": {},
   "source": [
    "# Deployment: Model Definition"
   ]
  },
  {
   "cell_type": "markdown",
   "id": "3cf69deb-5f50-4abe-83e4-d6d176164fa3",
   "metadata": {},
   "source": [
    "Introduction."
   ]
  },
  {
   "cell_type": "markdown",
   "id": "b59d25aa-50db-4116-933b-4cdb8f31a502",
   "metadata": {},
   "source": [
    "## Dataset: Iris\n",
    "\n",
    "The Iris dataset consits of the values of 4 features of 3 related flower species.\n",
    "\n",
    "The course by J.M. Protilla provides a CSV already.\n",
    "\n",
    "Another way of loading the dataset is with Scikit-Learn:\n",
    "\n",
    "```python\n",
    "from sklearn.datasets import load_iris\n",
    "iris = load_iris()\n",
    "X = iris['data']\n",
    "y = iris['target']\n",
    "names = iris['target_names']\n",
    "feature_names = iris['feature_names']\n",
    "```"
   ]
  },
  {
   "cell_type": "code",
   "execution_count": 1,
   "id": "8bf2433b-1f27-4c29-b24e-ed2d4bc1c336",
   "metadata": {},
   "outputs": [],
   "source": [
    "import numpy as np\n",
    "import pandas as pd"
   ]
  },
  {
   "cell_type": "code",
   "execution_count": 12,
   "id": "1d20b31b-03da-4c07-85e9-e9fc4b85463f",
   "metadata": {},
   "outputs": [],
   "source": [
    "iris = pd.read_csv('../../data/iris.csv')"
   ]
  },
  {
   "cell_type": "code",
   "execution_count": 13,
   "id": "b4292e2e-5d9c-46c9-a35e-8b19cb2704e6",
   "metadata": {},
   "outputs": [
    {
     "data": {
      "text/html": [
       "<div>\n",
       "<style scoped>\n",
       "    .dataframe tbody tr th:only-of-type {\n",
       "        vertical-align: middle;\n",
       "    }\n",
       "\n",
       "    .dataframe tbody tr th {\n",
       "        vertical-align: top;\n",
       "    }\n",
       "\n",
       "    .dataframe thead th {\n",
       "        text-align: right;\n",
       "    }\n",
       "</style>\n",
       "<table border=\"1\" class=\"dataframe\">\n",
       "  <thead>\n",
       "    <tr style=\"text-align: right;\">\n",
       "      <th></th>\n",
       "      <th>sepal_length</th>\n",
       "      <th>sepal_width</th>\n",
       "      <th>petal_length</th>\n",
       "      <th>petal_width</th>\n",
       "      <th>species</th>\n",
       "    </tr>\n",
       "  </thead>\n",
       "  <tbody>\n",
       "    <tr>\n",
       "      <th>0</th>\n",
       "      <td>5.1</td>\n",
       "      <td>3.5</td>\n",
       "      <td>1.4</td>\n",
       "      <td>0.2</td>\n",
       "      <td>setosa</td>\n",
       "    </tr>\n",
       "    <tr>\n",
       "      <th>1</th>\n",
       "      <td>4.9</td>\n",
       "      <td>3.0</td>\n",
       "      <td>1.4</td>\n",
       "      <td>0.2</td>\n",
       "      <td>setosa</td>\n",
       "    </tr>\n",
       "    <tr>\n",
       "      <th>2</th>\n",
       "      <td>4.7</td>\n",
       "      <td>3.2</td>\n",
       "      <td>1.3</td>\n",
       "      <td>0.2</td>\n",
       "      <td>setosa</td>\n",
       "    </tr>\n",
       "    <tr>\n",
       "      <th>3</th>\n",
       "      <td>4.6</td>\n",
       "      <td>3.1</td>\n",
       "      <td>1.5</td>\n",
       "      <td>0.2</td>\n",
       "      <td>setosa</td>\n",
       "    </tr>\n",
       "    <tr>\n",
       "      <th>4</th>\n",
       "      <td>5.0</td>\n",
       "      <td>3.6</td>\n",
       "      <td>1.4</td>\n",
       "      <td>0.2</td>\n",
       "      <td>setosa</td>\n",
       "    </tr>\n",
       "  </tbody>\n",
       "</table>\n",
       "</div>"
      ],
      "text/plain": [
       "   sepal_length  sepal_width  petal_length  petal_width species\n",
       "0           5.1          3.5           1.4          0.2  setosa\n",
       "1           4.9          3.0           1.4          0.2  setosa\n",
       "2           4.7          3.2           1.3          0.2  setosa\n",
       "3           4.6          3.1           1.5          0.2  setosa\n",
       "4           5.0          3.6           1.4          0.2  setosa"
      ]
     },
     "execution_count": 13,
     "metadata": {},
     "output_type": "execute_result"
    }
   ],
   "source": [
    "iris.head()"
   ]
  },
  {
   "cell_type": "code",
   "execution_count": 23,
   "id": "b450d592-2ccd-4eaa-ad23-79e05c416d8a",
   "metadata": {},
   "outputs": [],
   "source": [
    "# Take features\n",
    "X = iris.drop('species',axis=1)"
   ]
  },
  {
   "cell_type": "code",
   "execution_count": 15,
   "id": "e4adbda0-3ce7-4ec5-b2a4-3d7808cedfda",
   "metadata": {},
   "outputs": [],
   "source": [
    "# Take tagerts\n",
    "y = iris['species']"
   ]
  },
  {
   "cell_type": "code",
   "execution_count": 16,
   "id": "000e8f99-9854-4bbd-8ac7-43ca606958de",
   "metadata": {},
   "outputs": [
    {
     "data": {
      "text/plain": [
       "array(['setosa', 'versicolor', 'virginica'], dtype=object)"
      ]
     },
     "execution_count": 16,
     "metadata": {},
     "output_type": "execute_result"
    }
   ],
   "source": [
    "y.unique()"
   ]
  },
  {
   "cell_type": "code",
   "execution_count": 24,
   "id": "1f97e58b-98e7-477f-81a2-f5ea0ac2a6fe",
   "metadata": {},
   "outputs": [],
   "source": [
    "# Create one-hot encodings\n",
    "y = pd.get_dummies(iris['species'],drop_first=False)"
   ]
  },
  {
   "cell_type": "code",
   "execution_count": 27,
   "id": "92c494fb-4477-47ca-948e-96cccf8dc45f",
   "metadata": {},
   "outputs": [],
   "source": [
    "# Another option for \n",
    "from sklearn.preprocessing import LabelBinarizer"
   ]
  },
  {
   "cell_type": "code",
   "execution_count": 28,
   "id": "7746e169-25c4-46f0-aa7a-cbedaebd7813",
   "metadata": {},
   "outputs": [],
   "source": [
    "encoder = LabelBinarizer()"
   ]
  },
  {
   "cell_type": "code",
   "execution_count": 29,
   "id": "3c269148-9165-45c4-a1bc-892fb51563df",
   "metadata": {},
   "outputs": [],
   "source": [
    "y = iris['species']\n",
    "y = encoder.fit_transform(y)"
   ]
  },
  {
   "cell_type": "code",
   "execution_count": 32,
   "id": "6fa8d5bf-72c5-4b98-b3da-b7ee2309caeb",
   "metadata": {},
   "outputs": [],
   "source": [
    "# Train/Test split\n",
    "from sklearn.model_selection import train_test_split"
   ]
  },
  {
   "cell_type": "code",
   "execution_count": 34,
   "id": "e3b88402-711b-47fe-9255-982644ce2bc2",
   "metadata": {},
   "outputs": [],
   "source": [
    "X_train, X_test, y_train, y_test = train_test_split(X, y, test_size=0.2, random_state=101)"
   ]
  },
  {
   "cell_type": "code",
   "execution_count": 39,
   "id": "21618289-b25c-4b4c-a286-9c3b6411a6e3",
   "metadata": {},
   "outputs": [],
   "source": [
    "# Scale the data\n",
    "from sklearn.preprocessing import MinMaxScaler"
   ]
  },
  {
   "cell_type": "code",
   "execution_count": 40,
   "id": "b71b8318-d755-43a1-a0f9-54320c916029",
   "metadata": {},
   "outputs": [],
   "source": [
    "scaler = MinMaxScaler()"
   ]
  },
  {
   "cell_type": "code",
   "execution_count": 41,
   "id": "095f6182-0b70-4a3e-aba7-de635294bb29",
   "metadata": {},
   "outputs": [
    {
     "data": {
      "text/plain": [
       "MinMaxScaler()"
      ]
     },
     "execution_count": 41,
     "metadata": {},
     "output_type": "execute_result"
    }
   ],
   "source": [
    "scaler.fit(X_train)"
   ]
  },
  {
   "cell_type": "code",
   "execution_count": 43,
   "id": "cc5bd22a-caa6-496f-b287-3539342073b5",
   "metadata": {},
   "outputs": [],
   "source": [
    "scaled_X_train = scaler.transform(X_train)\n",
    "scaled_X_test = scaler.transform(X_test)"
   ]
  },
  {
   "cell_type": "markdown",
   "id": "6c2a0b68-d579-4ecd-a342-4fc03d4b04df",
   "metadata": {},
   "source": [
    "## Model"
   ]
  },
  {
   "cell_type": "code",
   "execution_count": 59,
   "id": "071175aa-5cbc-45c3-b404-515f069369e4",
   "metadata": {},
   "outputs": [],
   "source": [
    "from tensorflow.keras.models import Sequential\n",
    "from tensorflow.keras.layers import Dense"
   ]
  },
  {
   "cell_type": "code",
   "execution_count": 60,
   "id": "7503a9d3-a137-4928-9dff-3e84cd2c1c5c",
   "metadata": {},
   "outputs": [],
   "source": [
    "model = Sequential()\n",
    "model.add(Dense(units=4,activation='relu',input_shape=[4,]))\n",
    "model.add(Dense(units=3,activation='softmax'))"
   ]
  },
  {
   "cell_type": "code",
   "execution_count": 61,
   "id": "91811117-a0a0-47e3-8fd9-a77c653a6968",
   "metadata": {},
   "outputs": [],
   "source": [
    "model.compile(loss='categorical_crossentropy',optimizer='adam',metrics=['accuracy'])"
   ]
  },
  {
   "cell_type": "code",
   "execution_count": 62,
   "id": "6a8eb1ab-2279-4a71-9124-e11bc5cec857",
   "metadata": {},
   "outputs": [],
   "source": [
    "# Early Stopping\n",
    "from tensorflow.keras.callbacks import EarlyStopping"
   ]
  },
  {
   "cell_type": "code",
   "execution_count": 63,
   "id": "c073651c-1803-433c-8320-6da8b2a2d365",
   "metadata": {},
   "outputs": [],
   "source": [
    "early_stop = EarlyStopping(patience=10)"
   ]
  },
  {
   "cell_type": "code",
   "execution_count": 64,
   "id": "15f1f9cf-c077-4315-8464-bacfe25b5aa2",
   "metadata": {},
   "outputs": [
    {
     "data": {
      "text/plain": [
       "<tensorflow.python.keras.callbacks.History at 0x7f98d88aff50>"
      ]
     },
     "execution_count": 64,
     "metadata": {},
     "output_type": "execute_result"
    }
   ],
   "source": [
    "model.fit(x=scaled_X_train,\n",
    "          y=y_train,\n",
    "          epochs=1000,\n",
    "          validation_data=(scaled_X_test,y_test),\n",
    "          callbacks=[early_stop],\n",
    "          verbose=0)"
   ]
  },
  {
   "cell_type": "code",
   "execution_count": 67,
   "id": "d5447b72-1401-4d93-813d-6c6401381976",
   "metadata": {},
   "outputs": [],
   "source": [
    "metrics = pd.DataFrame(model.history.history)"
   ]
  },
  {
   "cell_type": "code",
   "execution_count": 68,
   "id": "84dc0aa8-6b19-4317-9194-2db6ca2ec930",
   "metadata": {},
   "outputs": [
    {
     "data": {
      "text/plain": [
       "<AxesSubplot:>"
      ]
     },
     "execution_count": 68,
     "metadata": {},
     "output_type": "execute_result"
    },
    {
     "data": {
      "image/png": "[encoded data removed]",
      "text/plain": [
       "<Figure size 432x288 with 1 Axes>"
      ]
     },
     "metadata": {
      "needs_background": "light"
     },
     "output_type": "display_data"
    }
   ],
   "source": [
    "metrics.plot()"
   ]
  },
  {
   "cell_type": "code",
   "execution_count": 70,
   "id": "9d5f7429-774b-4e76-85b6-ab630f9dfc9d",
   "metadata": {},
   "outputs": [
    {
     "data": {
      "text/plain": [
       "[0.16841982305049896, 0.96666664]"
      ]
     },
     "execution_count": 70,
     "metadata": {},
     "output_type": "execute_result"
    }
   ],
   "source": [
    "# Evaluate: final loss & accuracy on the test split\n",
    "model.evaluate(scaled_X_test,y_test,verbose=0)"
   ]
  },
  {
   "cell_type": "markdown",
   "id": "4693880f-f81e-4ce9-bb0a-fda43912e49a",
   "metadata": {},
   "source": [
    "## Preparation for Deployment"
   ]
  },
  {
   "cell_type": "markdown",
   "id": "3dfae681-1e1f-42b8-8a60-f8bc8e822c78",
   "metadata": {},
   "source": [
    "When we consider that our test split has enough accuracy, we perform the following steps:\n",
    "1. We re-define our model as before and train it with the complete dataset and without in-training validation the number of epochs we obtained with early stopping; this way, the model is supposed to be better trained...\n",
    "2. We save our model as `*.h5` and everything we have used to transform the data too, e.g. the `scaler()`."
   ]
  },
  {
   "cell_type": "code",
   "execution_count": 71,
   "id": "2d0e1531-09e3-447b-95ba-d7a82a0653ef",
   "metadata": {},
   "outputs": [],
   "source": [
    "scaler = MinMaxScaler()"
   ]
  },
  {
   "cell_type": "code",
   "execution_count": 73,
   "id": "16dd48cd-acac-49cc-8aae-29d67eb1a548",
   "metadata": {},
   "outputs": [],
   "source": [
    "# Complete dataset scaled\n",
    "scaled_X = scaler.fit_transform(X)"
   ]
  },
  {
   "cell_type": "code",
   "execution_count": 81,
   "id": "f70752ce-d34e-474c-9b28-738509b1e561",
   "metadata": {},
   "outputs": [],
   "source": [
    "# Re-definition of the same model as before\n",
    "model = Sequential()\n",
    "model.add(Dense(units=4,activation='relu',input_shape=[4,]))\n",
    "model.add(Dense(units=3,activation='softmax'))\n",
    "model.compile(loss='categorical_crossentropy',optimizer='adam',metrics=['accuracy'])"
   ]
  },
  {
   "cell_type": "code",
   "execution_count": 82,
   "id": "9cafb253-e413-4191-8e13-c71ec9760742",
   "metadata": {},
   "outputs": [
    {
     "data": {
      "text/plain": [
       "<tensorflow.python.keras.callbacks.History at 0x7f98784b1d10>"
      ]
     },
     "execution_count": 82,
     "metadata": {},
     "output_type": "execute_result"
    }
   ],
   "source": [
    "# Train the model with the complete dataset\n",
    "# We do it without early stopping and until the epoch until it trained before\n",
    "model.fit(x=scaled_X,\n",
    "          y=y,\n",
    "          epochs=1000,\n",
    "          verbose=0)"
   ]
  },
  {
   "cell_type": "code",
   "execution_count": 86,
   "id": "f9772d28-b19e-4831-a7bb-35017320439a",
   "metadata": {},
   "outputs": [
    {
     "data": {
      "text/plain": [
       "[0.07890055030584335, 0.96]"
      ]
     },
     "execution_count": 86,
     "metadata": {},
     "output_type": "execute_result"
    }
   ],
   "source": [
    "# The apparent accuracy should be better, now\n",
    "# but it is nit real; the real accuracy is the one we had before\n",
    "model.evaluate(scaled_X,y,verbose=0)"
   ]
  },
  {
   "cell_type": "code",
   "execution_count": 87,
   "id": "bd53836a-01b5-46b7-86cf-e8c02d688dfb",
   "metadata": {},
   "outputs": [],
   "source": [
    "# Save our model\n",
    "model.save('final_iris_model.h5')"
   ]
  },
  {
   "cell_type": "code",
   "execution_count": 90,
   "id": "d54eca4e-3c8a-43fb-a9f3-075338a59698",
   "metadata": {},
   "outputs": [],
   "source": [
    "# Save the scaler or any transformer that processes the data\n",
    "# Joblib comes with python: it saves any python object to disk\n",
    "# We use it to serialize the scaler to a *.pkl (pickle) file\n",
    "import joblib"
   ]
  },
  {
   "cell_type": "code",
   "execution_count": 89,
   "id": "a2c500c2-4cf3-4d17-b56c-89c69e960019",
   "metadata": {},
   "outputs": [
    {
     "data": {
      "text/plain": [
       "['iris_scaler.pkl']"
      ]
     },
     "execution_count": 89,
     "metadata": {},
     "output_type": "execute_result"
    }
   ],
   "source": [
    "joblib.dump(scaler,'iris_scaler.pkl')"
   ]
  },
  {
   "cell_type": "code",
   "execution_count": 91,
   "id": "fca98466-6895-458c-95fa-0395d032eb78",
   "metadata": {},
   "outputs": [],
   "source": [
    "# Check that we can load everything"
   ]
  },
  {
   "cell_type": "code",
   "execution_count": 92,
   "id": "a150cfc5-f9c2-44e6-9f6d-a21cd58052d1",
   "metadata": {},
   "outputs": [],
   "source": [
    "from tensorflow.keras.models import load_model"
   ]
  },
  {
   "cell_type": "code",
   "execution_count": 93,
   "id": "1e2e0c11-2dd7-4e8a-b28e-b83b9e406901",
   "metadata": {},
   "outputs": [],
   "source": [
    "flower_model = load_model('final_iris_model.h5')"
   ]
  },
  {
   "cell_type": "code",
   "execution_count": 94,
   "id": "105e2632-c5e0-48a1-b6af-32b53c80b4f3",
   "metadata": {},
   "outputs": [],
   "source": [
    "flower_scaler = joblib.load('iris_scaler.pkl')"
   ]
  },
  {
   "cell_type": "markdown",
   "id": "741f87df-e8df-4333-9e47-4eac06cb6348",
   "metadata": {},
   "source": [
    "## Deployment Data Exchange: JSON / Dictionaries"
   ]
  },
  {
   "cell_type": "markdown",
   "id": "104d7ec4-26b5-4198-bb6d-b242ccc0eb16",
   "metadata": {},
   "source": [
    "We often exchange JSON objects between the user/client and our deployed moddel. Those JSON objects typically contain (1) the sample(s) with the features we want to feed to the model and (2) the result of the inference.\n",
    "\n",
    "JSON objects are usually mapped to dictionaries in python."
   ]
  },
  {
   "cell_type": "code",
   "execution_count": 96,
   "id": "e24d4b81-8fce-4352-a6b7-fe2d32d0acc9",
   "metadata": {},
   "outputs": [
    {
     "data": {
      "text/html": [
       "<div>\n",
       "<style scoped>\n",
       "    .dataframe tbody tr th:only-of-type {\n",
       "        vertical-align: middle;\n",
       "    }\n",
       "\n",
       "    .dataframe tbody tr th {\n",
       "        vertical-align: top;\n",
       "    }\n",
       "\n",
       "    .dataframe thead th {\n",
       "        text-align: right;\n",
       "    }\n",
       "</style>\n",
       "<table border=\"1\" class=\"dataframe\">\n",
       "  <thead>\n",
       "    <tr style=\"text-align: right;\">\n",
       "      <th></th>\n",
       "      <th>sepal_length</th>\n",
       "      <th>sepal_width</th>\n",
       "      <th>petal_length</th>\n",
       "      <th>petal_width</th>\n",
       "      <th>species</th>\n",
       "    </tr>\n",
       "  </thead>\n",
       "  <tbody>\n",
       "    <tr>\n",
       "      <th>0</th>\n",
       "      <td>5.1</td>\n",
       "      <td>3.5</td>\n",
       "      <td>1.4</td>\n",
       "      <td>0.2</td>\n",
       "      <td>setosa</td>\n",
       "    </tr>\n",
       "  </tbody>\n",
       "</table>\n",
       "</div>"
      ],
      "text/plain": [
       "   sepal_length  sepal_width  petal_length  petal_width species\n",
       "0           5.1          3.5           1.4          0.2  setosa"
      ]
     },
     "execution_count": 96,
     "metadata": {},
     "output_type": "execute_result"
    }
   ],
   "source": [
    "iris.head(1)"
   ]
  },
  {
   "cell_type": "code",
   "execution_count": 109,
   "id": "162e880d-0a64-4026-8e9a-ae54012237ac",
   "metadata": {},
   "outputs": [],
   "source": [
    "# We create a dictionary with artificial data\n",
    "flower_example = {\"sepal_length\":5.4,\n",
    "                  \"sepal_width\":3.3,\n",
    "                  \"petal_length\":1.2,\n",
    "                  \"petal_width\":0.15}"
   ]
  },
  {
   "cell_type": "markdown",
   "id": "d36463e3-e954-4c84-aa3b-bed81c99e625",
   "metadata": {},
   "source": [
    "## Inference Function"
   ]
  },
  {
   "cell_type": "code",
   "execution_count": 111,
   "id": "5908f1db-da1f-4041-8d88-a3270b57cf2a",
   "metadata": {},
   "outputs": [],
   "source": [
    "# We create a function that takes:\n",
    "# - a trained model\n",
    "# - all necessary transformation objects\n",
    "# - a dict/json with a new sample\n",
    "# and returns the prediction/inference\n",
    "def return_prediction(model,scaler,sample_json):\n",
    "    # Extract relevant values\n",
    "    s_len = sample_json[\"sepal_length\"]\n",
    "    s_wid = sample_json[\"sepal_width\"]\n",
    "    p_len = sample_json[\"petal_length\"]\n",
    "    p_wid = sample_json[\"petal_width\"]\n",
    "    # Pack values into an array\n",
    "    flower = [[s_len,s_wid,p_len,p_wid]]\n",
    "    # Scale array\n",
    "    flower = scaler.transform(flower)\n",
    "    # Inference\n",
    "    # We get an array with class id, so we grab first element\n",
    "    # We can check that manually\n",
    "    class_ind = model.predict_classes(flower)[0]\n",
    "    classes = np.array(['setosa', 'versicolor', 'virginica'])\n",
    "    # Return class value\n",
    "    return classes[class_ind]"
   ]
  },
  {
   "cell_type": "code",
   "execution_count": 108,
   "id": "2ebb2dee-666c-4f54-8fca-42e6540e6cf4",
   "metadata": {},
   "outputs": [
    {
     "name": "stderr",
     "output_type": "stream",
     "text": [
      "/Users/mxagar/opt/anaconda3/envs/tf/lib/python3.7/site-packages/sklearn/base.py:446: UserWarning: X does not have valid feature names, but MinMaxScaler was fitted with feature names\n",
      "  \"X does not have valid feature names, but\"\n"
     ]
    },
    {
     "data": {
      "text/plain": [
       "'setosa'"
      ]
     },
     "execution_count": 108,
     "metadata": {},
     "output_type": "execute_result"
    }
   ],
   "source": [
    "return_prediction(flower_model,flower_scaler,flower_example)"
   ]
  },
  {
   "cell_type": "markdown",
   "id": "a1fec5f4-1579-47ec-8f64-8a22c8a16fb6",
   "metadata": {},
   "source": [
    "## CODE FOR DEPLOYMENT"
   ]
  },
  {
   "cell_type": "markdown",
   "id": "13e57ae5-1b1a-4a39-bf8e-eea31c78e51b",
   "metadata": {},
   "source": [
    "**IMPORTANT: We copy & past / prepare from our notebook the code we are going to use in the deployment.** Obviously, notebooks are great for development and testing, but we need to transform them into more deployable files. It is a good practice to write down all the lines necessary for a deployment at the end of the notebook."
   ]
  },
  {
   "cell_type": "code",
   "execution_count": 112,
   "id": "d8878673-0ffe-4f05-aff3-0d5fe8549e98",
   "metadata": {},
   "outputs": [],
   "source": [
    "from tensorflow.keras.models import load_model\n",
    "import numpy as np\n",
    "import joblib\n",
    "\n",
    "flower_model = load_model('final_iris_model.h5')\n",
    "flower_scaler = joblib.load('iris_scaler.pkl')\n",
    "\n",
    "def return_prediction(model,scaler,sample_json):\n",
    "    # Extract relevant values\n",
    "    s_len = sample_json[\"sepal_length\"]\n",
    "    s_wid = sample_json[\"sepal_width\"]\n",
    "    p_len = sample_json[\"petal_length\"]\n",
    "    p_wid = sample_json[\"petal_width\"]\n",
    "    # Pack values into an array\n",
    "    flower = [[s_len,s_wid,p_len,p_wid]]\n",
    "    # Scale array\n",
    "    flower = scaler.transform(flower)\n",
    "    # Inference\n",
    "    # We get an array with class id, so we grab first element\n",
    "    # We can check that manually\n",
    "    class_ind = model.predict_classes(flower)[0]\n",
    "    classes = np.array(['setosa', 'versicolor', 'virginica'])\n",
    "    # Return class value\n",
    "    return classes[class_ind]"
   ]
  },
  {
   "cell_type": "code",
   "execution_count": null,
   "id": "9f78d9aa-aa01-4bda-8263-a8d88dc8469d",
   "metadata": {},
   "outputs": [],
   "source": []
  }
 ],
 "metadata": {
  "kernelspec": {
   "display_name": "Python 3 (ipykernel)",
   "language": "python",
   "name": "python3"
  },
  "language_info": {
   "codemirror_mode": {
    "name": "ipython",
    "version": 3
   },
   "file_extension": ".py",
   "mimetype": "text/x-python",
   "name": "python",
   "nbconvert_exporter": "python",
   "pygments_lexer": "ipython3",
   "version": "3.7.11"
  }
 },
 "nbformat": 4,
 "nbformat_minor": 5
}
