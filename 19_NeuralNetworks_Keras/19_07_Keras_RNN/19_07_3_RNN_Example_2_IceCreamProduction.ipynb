{
 "cells": [
  {
   "cell_type": "markdown",
   "id": "832209c7-8a9f-4c83-adf4-96e926476eb2",
   "metadata": {},
   "source": [
    "# Recurrent Neural Networks: Example 2 - Ice Cream Production"
   ]
  },
  {
   "cell_type": "markdown",
   "id": "2cbf5576-a297-4541-9e3f-f736bedaa8ea",
   "metadata": {},
   "source": [
    "In this noteboook a real time series dataset is used to build a model and forecast future values.\n",
    "The notebook is really equivalent to the example 1 (sales), but the notebook uses another dataset.\n",
    "\n",
    "The used dataset was downloaded from the FRED website with data on **Industrial Production: Manufacturing: Non-Durable Goods: Ice Cream and Frozen Dessert (Not Seasonally Adjusted)**:\n",
    "\n",
    "[https://fred.stlouisfed.org/series/IPN31152N](https://fred.stlouisfed.org/series/IPN31152N)\n",
    "\n",
    "File:\n",
    "\n",
    "`../../data/IPN31152N.csv`\n",
    "\n",
    "`git_repositories/data_science_python_tools/data/IPN31152N.csv`\n",
    "\n",
    "There is also a file provided in the course folder, not used here: `Frozen_Dessert_Production.csv`.\n",
    "\n",
    "Note that the data is normalized so that 2017 has value 100.\n",
    "\n",
    "**Important note 1: it makes sense to have date information instead of date strings to fully handle the time series.\n",
    "Therefore, often date strings need to be converted into datetime type.**\n",
    "\n",
    "**Important note 2: few comments are added here; to see more detailed notes, look at previous notebooks.**"
   ]
  },
  {
   "cell_type": "markdown",
   "id": "ce9e08ef-2786-4bab-b83b-d690a08b2624",
   "metadata": {},
   "source": [
    "## 1. Load and prepare dataset"
   ]
  },
  {
   "cell_type": "code",
   "execution_count": 3,
   "id": "45b67bc6-7081-46fe-9154-b7d6c83e4aba",
   "metadata": {},
   "outputs": [],
   "source": [
    "import pandas as pd\n",
    "import numpy as np\n",
    "import matplotlib.pyplot as plt\n",
    "%matplotlib inline"
   ]
  },
  {
   "cell_type": "code",
   "execution_count": 8,
   "id": "e8c2367e-fa2f-459f-b006-686d3558c750",
   "metadata": {},
   "outputs": [],
   "source": [
    "df = pd.read_csv('../../data/IPN31152N.csv',index_col='DATE',parse_dates=True)"
   ]
  },
  {
   "cell_type": "code",
   "execution_count": 7,
   "id": "853ccf68-5441-4106-94f4-81d57da897ef",
   "metadata": {},
   "outputs": [
    {
     "data": {
      "text/html": [
       "<div>\n",
       "<style scoped>\n",
       "    .dataframe tbody tr th:only-of-type {\n",
       "        vertical-align: middle;\n",
       "    }\n",
       "\n",
       "    .dataframe tbody tr th {\n",
       "        vertical-align: top;\n",
       "    }\n",
       "\n",
       "    .dataframe thead th {\n",
       "        text-align: right;\n",
       "    }\n",
       "</style>\n",
       "<table border=\"1\" class=\"dataframe\">\n",
       "  <thead>\n",
       "    <tr style=\"text-align: right;\">\n",
       "      <th></th>\n",
       "      <th>IPN31152N</th>\n",
       "    </tr>\n",
       "    <tr>\n",
       "      <th>DATE</th>\n",
       "      <th></th>\n",
       "    </tr>\n",
       "  </thead>\n",
       "  <tbody>\n",
       "    <tr>\n",
       "      <th>1972-01-01</th>\n",
       "      <td>60.1527</td>\n",
       "    </tr>\n",
       "    <tr>\n",
       "      <th>1972-02-01</th>\n",
       "      <td>67.2736</td>\n",
       "    </tr>\n",
       "    <tr>\n",
       "      <th>1972-03-01</th>\n",
       "      <td>74.4710</td>\n",
       "    </tr>\n",
       "    <tr>\n",
       "      <th>1972-04-01</th>\n",
       "      <td>78.3605</td>\n",
       "    </tr>\n",
       "    <tr>\n",
       "      <th>1972-05-01</th>\n",
       "      <td>85.0332</td>\n",
       "    </tr>\n",
       "  </tbody>\n",
       "</table>\n",
       "</div>"
      ],
      "text/plain": [
       "            IPN31152N\n",
       "DATE                 \n",
       "1972-01-01    60.1527\n",
       "1972-02-01    67.2736\n",
       "1972-03-01    74.4710\n",
       "1972-04-01    78.3605\n",
       "1972-05-01    85.0332"
      ]
     },
     "execution_count": 7,
     "metadata": {},
     "output_type": "execute_result"
    }
   ],
   "source": [
    "df.head()"
   ]
  },
  {
   "cell_type": "code",
   "execution_count": 10,
   "id": "8407533d-6ec5-42ca-9d65-a648941b6b0f",
   "metadata": {},
   "outputs": [],
   "source": [
    "df.columns = ['Production']"
   ]
  },
  {
   "cell_type": "code",
   "execution_count": 11,
   "id": "e9e5d995-ee19-431a-914b-192ec6a2eb11",
   "metadata": {},
   "outputs": [
    {
     "data": {
      "text/html": [
       "<div>\n",
       "<style scoped>\n",
       "    .dataframe tbody tr th:only-of-type {\n",
       "        vertical-align: middle;\n",
       "    }\n",
       "\n",
       "    .dataframe tbody tr th {\n",
       "        vertical-align: top;\n",
       "    }\n",
       "\n",
       "    .dataframe thead th {\n",
       "        text-align: right;\n",
       "    }\n",
       "</style>\n",
       "<table border=\"1\" class=\"dataframe\">\n",
       "  <thead>\n",
       "    <tr style=\"text-align: right;\">\n",
       "      <th></th>\n",
       "      <th>Production</th>\n",
       "    </tr>\n",
       "    <tr>\n",
       "      <th>DATE</th>\n",
       "      <th></th>\n",
       "    </tr>\n",
       "  </thead>\n",
       "  <tbody>\n",
       "    <tr>\n",
       "      <th>1972-01-01</th>\n",
       "      <td>60.1527</td>\n",
       "    </tr>\n",
       "    <tr>\n",
       "      <th>1972-02-01</th>\n",
       "      <td>67.2736</td>\n",
       "    </tr>\n",
       "    <tr>\n",
       "      <th>1972-03-01</th>\n",
       "      <td>74.4710</td>\n",
       "    </tr>\n",
       "    <tr>\n",
       "      <th>1972-04-01</th>\n",
       "      <td>78.3605</td>\n",
       "    </tr>\n",
       "    <tr>\n",
       "      <th>1972-05-01</th>\n",
       "      <td>85.0332</td>\n",
       "    </tr>\n",
       "  </tbody>\n",
       "</table>\n",
       "</div>"
      ],
      "text/plain": [
       "            Production\n",
       "DATE                  \n",
       "1972-01-01     60.1527\n",
       "1972-02-01     67.2736\n",
       "1972-03-01     74.4710\n",
       "1972-04-01     78.3605\n",
       "1972-05-01     85.0332"
      ]
     },
     "execution_count": 11,
     "metadata": {},
     "output_type": "execute_result"
    }
   ],
   "source": [
    "df.head()"
   ]
  },
  {
   "cell_type": "code",
   "execution_count": 13,
   "id": "9dc56897-bb55-443b-b8d7-3c8bd66d4169",
   "metadata": {},
   "outputs": [
    {
     "data": {
      "text/plain": [
       "<AxesSubplot:xlabel='DATE'>"
      ]
     },
     "execution_count": 13,
     "metadata": {},
     "output_type": "execute_result"
    },
    {
     "data": {
      "image/png": "[encoded data removed]",
      "text/plain": [
       "<Figure size 1152x432 with 1 Axes>"
      ]
     },
     "metadata": {
      "needs_background": "light"
     },
     "output_type": "display_data"
    }
   ],
   "source": [
    "df.plot(figsize=(16,6))"
   ]
  },
  {
   "cell_type": "markdown",
   "id": "2b28565e-a5f4-46cd-9922-d0fdef2aa52f",
   "metadata": {},
   "source": [
    "### Train/Test Split"
   ]
  },
  {
   "cell_type": "code",
   "execution_count": 14,
   "id": "4f20161f-3afc-435b-a201-e3f97aec0586",
   "metadata": {},
   "outputs": [
    {
     "data": {
      "text/plain": [
       "598"
      ]
     },
     "execution_count": 14,
     "metadata": {},
     "output_type": "execute_result"
    }
   ],
   "source": [
    "len(df)"
   ]
  },
  {
   "cell_type": "code",
   "execution_count": 15,
   "id": "14061474-2ffe-48e6-95ac-7e484fe5a3e2",
   "metadata": {},
   "outputs": [],
   "source": [
    "# We take at least 24 months for the test split\n",
    "# BUT: another option for testing is to take\n",
    "# - the last 18 months for the test split\n",
    "# - 12 months for the batch length\n",
    "test_index = 24"
   ]
  },
  {
   "cell_type": "code",
   "execution_count": 17,
   "id": "89bb409f-db43-4aa2-9802-06a3d3ca2a4f",
   "metadata": {},
   "outputs": [],
   "source": [
    "train = df.iloc[:-test_index]\n",
    "test = df.iloc[-test_index:]"
   ]
  },
  {
   "cell_type": "code",
   "execution_count": 18,
   "id": "c58ce649-675c-4688-9862-15a52c37a982",
   "metadata": {},
   "outputs": [
    {
     "data": {
      "text/plain": [
       "24"
      ]
     },
     "execution_count": 18,
     "metadata": {},
     "output_type": "execute_result"
    }
   ],
   "source": [
    "len(test)"
   ]
  },
  {
   "cell_type": "markdown",
   "id": "e8696d67-00f7-4dc6-82c3-3de114d39221",
   "metadata": {},
   "source": [
    "### Scale Data"
   ]
  },
  {
   "cell_type": "code",
   "execution_count": 19,
   "id": "7628e04c-fb21-40fa-a9f6-b9750dc96d60",
   "metadata": {},
   "outputs": [],
   "source": [
    "from sklearn.preprocessing import MinMaxScaler"
   ]
  },
  {
   "cell_type": "code",
   "execution_count": 20,
   "id": "bdcbe6f4-9d22-4efe-8c9e-d4cbc9a6e6a8",
   "metadata": {},
   "outputs": [],
   "source": [
    "scaler = MinMaxScaler()"
   ]
  },
  {
   "cell_type": "code",
   "execution_count": 21,
   "id": "c32f8487-2b70-4f75-a5f3-2dfd1724fc4c",
   "metadata": {},
   "outputs": [
    {
     "data": {
      "text/plain": [
       "MinMaxScaler()"
      ]
     },
     "execution_count": 21,
     "metadata": {},
     "output_type": "execute_result"
    }
   ],
   "source": [
    "scaler.fit(train)"
   ]
  },
  {
   "cell_type": "code",
   "execution_count": 39,
   "id": "b88e3519-78ac-4e64-9755-7c2cb63f1e40",
   "metadata": {},
   "outputs": [],
   "source": [
    "scaled_train = scaler.transform(train)"
   ]
  },
  {
   "cell_type": "code",
   "execution_count": 40,
   "id": "1d741595-e16d-4e89-a8f0-5db6b0ffca58",
   "metadata": {},
   "outputs": [],
   "source": [
    "scaled_test = scaler.transform(test)"
   ]
  },
  {
   "cell_type": "markdown",
   "id": "fc8b0488-6766-4ef6-a8ff-052ba48541b0",
   "metadata": {},
   "source": [
    "### Time Series Generator"
   ]
  },
  {
   "cell_type": "code",
   "execution_count": 28,
   "id": "c668729a-4928-4463-b7ed-20a6bd9fb6a5",
   "metadata": {},
   "outputs": [],
   "source": [
    "from tensorflow.keras.preprocessing.sequence import TimeseriesGenerator"
   ]
  },
  {
   "cell_type": "code",
   "execution_count": 29,
   "id": "9e08cdd3-587a-439a-a52f-b4468c362146",
   "metadata": {},
   "outputs": [],
   "source": [
    "# The length of the input series must be smaller than the length of the test split\n",
    "# if we do early-stopping validdation\n",
    "length = 18\n",
    "batch_size = 1"
   ]
  },
  {
   "cell_type": "code",
   "execution_count": 30,
   "id": "07de7c36-95a9-40a9-b6f4-dcc1ca867809",
   "metadata": {},
   "outputs": [],
   "source": [
    "generator = TimeseriesGenerator(data=scaled_train,\n",
    "                                targets=scaled_train,\n",
    "                                length=length,\n",
    "                                batch_size=batch_size)"
   ]
  },
  {
   "cell_type": "code",
   "execution_count": 31,
   "id": "a1a1d0d7-d272-4306-8fc3-77261eb1c41e",
   "metadata": {},
   "outputs": [],
   "source": [
    "# We check the first (X,y) pair of the generator\n",
    "X,y = generator[0]"
   ]
  },
  {
   "cell_type": "code",
   "execution_count": 32,
   "id": "d0d6f964-afab-484f-9a8f-e1abe8efda4c",
   "metadata": {},
   "outputs": [
    {
     "data": {
      "text/plain": [
       "array([[[0.00946848],\n",
       "        [0.06107908],\n",
       "        [0.11324413],\n",
       "        [0.1414343 ],\n",
       "        [0.18979645],\n",
       "        [0.30491195],\n",
       "        [0.30149681],\n",
       "        [0.27411766],\n",
       "        [0.19733775],\n",
       "        [0.08531415],\n",
       "        [0.01561386],\n",
       "        [0.        ],\n",
       "        [0.01773963],\n",
       "        [0.09849348],\n",
       "        [0.1558762 ],\n",
       "        [0.18355975],\n",
       "        [0.20875515],\n",
       "        [0.37144352]]])"
      ]
     },
     "execution_count": 32,
     "metadata": {},
     "output_type": "execute_result"
    }
   ],
   "source": [
    "X"
   ]
  },
  {
   "cell_type": "code",
   "execution_count": 33,
   "id": "6123b316-e940-4d26-8ea9-4738b41aef08",
   "metadata": {},
   "outputs": [
    {
     "data": {
      "text/plain": [
       "array([[0.35419819]])"
      ]
     },
     "execution_count": 33,
     "metadata": {},
     "output_type": "execute_result"
    }
   ],
   "source": [
    "y"
   ]
  },
  {
   "cell_type": "markdown",
   "id": "b750ee3d-3d94-4846-9c88-1610dac2ed54",
   "metadata": {},
   "source": [
    "## 2. Create the Model"
   ]
  },
  {
   "cell_type": "code",
   "execution_count": 34,
   "id": "449b8be3-55b9-4a46-af94-f1b55a1fd370",
   "metadata": {},
   "outputs": [],
   "source": [
    "from tensorflow.keras.models import Sequential"
   ]
  },
  {
   "cell_type": "code",
   "execution_count": 35,
   "id": "e4f385cc-ba6c-4de9-a738-906873e1b675",
   "metadata": {},
   "outputs": [],
   "source": [
    "from tensorflow.keras.layers import Dense,SimpleRNN,LSTM"
   ]
  },
  {
   "cell_type": "code",
   "execution_count": 36,
   "id": "6b2c2ab5-9ab3-431a-b808-35516f7c4a82",
   "metadata": {},
   "outputs": [
    {
     "name": "stderr",
     "output_type": "stream",
     "text": [
      "2021-12-21 12:24:09.829858: I tensorflow/core/platform/cpu_feature_guard.cc:145] This TensorFlow binary is optimized with Intel(R) MKL-DNN to use the following CPU instructions in performance critical operations:  SSE4.1 SSE4.2\n",
      "To enable them in non-MKL-DNN operations, rebuild TensorFlow with the appropriate compiler flags.\n",
      "2021-12-21 12:24:09.830439: I tensorflow/core/common_runtime/process_util.cc:115] Creating new thread pool with default inter op setting: 8. Tune using inter_op_parallelism_threads for best performance.\n"
     ]
    }
   ],
   "source": [
    "n_features = 1\n",
    "model = Sequential()\n",
    "#model.add(SimpleRNN(units=100,input_shape=(length,n_features)))\n",
    "# We explicitly use the ReLu activation\n",
    "# We can also vary the number of units and see what happens\n",
    "model.add(LSTM(units=100,activation='relu',input_shape=(length,n_features)))\n",
    "model.add(Dense(1))\n",
    "model.compile(optimizer='adam',loss='mse')"
   ]
  },
  {
   "cell_type": "code",
   "execution_count": 37,
   "id": "805f1522-e428-4192-9072-2ae32a1a57f4",
   "metadata": {},
   "outputs": [
    {
     "name": "stdout",
     "output_type": "stream",
     "text": [
      "Model: \"sequential\"\n",
      "_________________________________________________________________\n",
      "Layer (type)                 Output Shape              Param #   \n",
      "=================================================================\n",
      "lstm (LSTM)                  (None, 100)               40800     \n",
      "_________________________________________________________________\n",
      "dense (Dense)                (None, 1)                 101       \n",
      "=================================================================\n",
      "Total params: 40,901\n",
      "Trainable params: 40,901\n",
      "Non-trainable params: 0\n",
      "_________________________________________________________________\n"
     ]
    }
   ],
   "source": [
    "model.summary()"
   ]
  },
  {
   "cell_type": "markdown",
   "id": "d283ac2d-5f86-4e4a-8a33-817a2781c32a",
   "metadata": {},
   "source": [
    "### Early Stopping - Validation"
   ]
  },
  {
   "cell_type": "code",
   "execution_count": 41,
   "id": "a2709ee0-87cc-427d-b279-d73a4ce4e06a",
   "metadata": {},
   "outputs": [],
   "source": [
    "# We need to create a validation generator\n",
    "# The length is the same as before,\n",
    "# taking into account that it must be shorter than the length of the validation split\n",
    "validation_generator = TimeseriesGenerator(scaled_test,\n",
    "                                          scaled_test,\n",
    "                                          length=length,\n",
    "                                          batch_size=1)"
   ]
  },
  {
   "cell_type": "code",
   "execution_count": 42,
   "id": "6474d4fb-bd70-4383-8f29-dedbc584d691",
   "metadata": {},
   "outputs": [],
   "source": [
    "from tensorflow.keras.callbacks import EarlyStopping"
   ]
  },
  {
   "cell_type": "code",
   "execution_count": 43,
   "id": "67a0cbbf-819b-4923-9df4-12ee13b72df8",
   "metadata": {},
   "outputs": [],
   "source": [
    "early_stop = EarlyStopping(monitor='val_loss',patience=2)"
   ]
  },
  {
   "cell_type": "markdown",
   "id": "a862912d-8943-45f1-bf03-10fdf19d56cc",
   "metadata": {},
   "source": [
    "### Train"
   ]
  },
  {
   "cell_type": "code",
   "execution_count": 44,
   "id": "4ad499ef-54df-46c0-be92-7c282aa9cc05",
   "metadata": {},
   "outputs": [
    {
     "name": "stdout",
     "output_type": "stream",
     "text": [
      "Epoch 1/20\n",
      "556/556 [==============================] - 113s 203ms/step - loss: 0.0277 - val_loss: 0.0039\n",
      "Epoch 2/20\n",
      "556/556 [==============================] - 111s 199ms/step - loss: 0.0141 - val_loss: 0.0067\n",
      "Epoch 3/20\n",
      "556/556 [==============================] - 112s 201ms/step - loss: 0.0085 - val_loss: 0.0022\n",
      "Epoch 4/20\n",
      "556/556 [==============================] - 112s 201ms/step - loss: 0.0049 - val_loss: 7.9470e-04\n",
      "Epoch 5/20\n",
      "556/556 [==============================] - 110s 198ms/step - loss: 0.0041 - val_loss: 4.3692e-04\n",
      "Epoch 6/20\n",
      "556/556 [==============================] - 111s 199ms/step - loss: 0.0040 - val_loss: 3.4538e-04\n",
      "Epoch 7/20\n",
      "556/556 [==============================] - 111s 199ms/step - loss: 0.0036 - val_loss: 0.0015\n",
      "Epoch 8/20\n",
      "556/556 [==============================] - 110s 198ms/step - loss: 0.0035 - val_loss: 0.0030\n"
     ]
    },
    {
     "data": {
      "text/plain": [
       "<tensorflow.python.keras.callbacks.History at 0x7f9a645e55d0>"
      ]
     },
     "execution_count": 44,
     "metadata": {},
     "output_type": "execute_result"
    }
   ],
   "source": [
    "# We train with an early stop callback\n",
    "model.fit_generator(generator,\n",
    "                    epochs=20,\n",
    "                    validation_data=validation_generator,\n",
    "                    callbacks=[early_stop])"
   ]
  },
  {
   "cell_type": "code",
   "execution_count": 45,
   "id": "1715d57e-fe2c-4c2d-a23f-97044d71a591",
   "metadata": {},
   "outputs": [],
   "source": [
    "# We get the loss values and plot them\n",
    "losses = pd.DataFrame(model.history.history)"
   ]
  },
  {
   "cell_type": "code",
   "execution_count": 46,
   "id": "346f27a8-2124-4fa0-b0b1-9e9030d9d4ed",
   "metadata": {},
   "outputs": [
    {
     "data": {
      "text/plain": [
       "<AxesSubplot:>"
      ]
     },
     "execution_count": 46,
     "metadata": {},
     "output_type": "execute_result"
    },
    {
     "data": {
      "image/png": "[encoded data removed]",
      "text/plain": [
       "<Figure size 432x288 with 1 Axes>"
      ]
     },
     "metadata": {
      "needs_background": "light"
     },
     "output_type": "display_data"
    }
   ],
   "source": [
    "losses.plot()"
   ]
  },
  {
   "cell_type": "markdown",
   "id": "3297fcb8-4de6-4ef7-a678-61cfc875249e",
   "metadata": {},
   "source": [
    "## 3. Forecasting / Inference"
   ]
  },
  {
   "cell_type": "markdown",
   "id": "6dac0ee1-c919-49bb-830a-88da421243cf",
   "metadata": {},
   "source": [
    "## Test Split"
   ]
  },
  {
   "cell_type": "code",
   "execution_count": 47,
   "id": "5ab12358-8152-4315-8350-32fb3687f35d",
   "metadata": {},
   "outputs": [],
   "source": [
    "# We forecast one by one all the values in the test split\n",
    "# For that, the batch previous to the test split is taken\n",
    "# a prediction done for it. and then,\n",
    "# the batch is moved in the time to contain predicted values\n",
    "test_predictions = []\n",
    "current_batch = scaled_train[-length:].reshape((1,length,n_features))\n",
    "for i in range(len(test)):\n",
    "    predicted = model.predict(current_batch)[0]\n",
    "    test_predictions.append(predicted)\n",
    "    current_batch = np.append(current_batch[:,1:,:],[[predicted]],axis=1)"
   ]
  },
  {
   "cell_type": "code",
   "execution_count": 48,
   "id": "b3672caf-f149-48d1-8b08-bd65d04cc666",
   "metadata": {},
   "outputs": [
    {
     "data": {
      "text/plain": [
       "array([[ 84.63096981],\n",
       "       [ 79.72709617],\n",
       "       [ 85.56825631],\n",
       "       [ 98.09637669],\n",
       "       [108.2631739 ],\n",
       "       [115.21511331],\n",
       "       [119.62558163],\n",
       "       [120.17600919],\n",
       "       [116.03219977],\n",
       "       [107.05310994],\n",
       "       [ 96.98476475],\n",
       "       [ 88.595061  ],\n",
       "       [ 81.71231309],\n",
       "       [ 79.9859095 ],\n",
       "       [ 86.77413844],\n",
       "       [ 98.99472729],\n",
       "       [110.4439914 ],\n",
       "       [118.63040321],\n",
       "       [123.29221759],\n",
       "       [124.24862048],\n",
       "       [119.873449  ],\n",
       "       [111.05594993],\n",
       "       [ 99.68489892],\n",
       "       [ 87.91845875]])"
      ]
     },
     "execution_count": 48,
     "metadata": {},
     "output_type": "execute_result"
    }
   ],
   "source": [
    "true_predictions = scaler.inverse_transform(test_predictions)\n",
    "true_predictions"
   ]
  },
  {
   "cell_type": "code",
   "execution_count": 49,
   "id": "4c8942d8-92ff-4e18-a039-11a5fa59e74d",
   "metadata": {},
   "outputs": [
    {
     "name": "stderr",
     "output_type": "stream",
     "text": [
      "/Users/mxagar/opt/anaconda3/envs/tf/lib/python3.7/site-packages/ipykernel_launcher.py:1: SettingWithCopyWarning: \n",
      "A value is trying to be set on a copy of a slice from a DataFrame.\n",
      "Try using .loc[row_indexer,col_indexer] = value instead\n",
      "\n",
      "See the caveats in the documentation: https://pandas.pydata.org/pandas-docs/stable/user_guide/indexing.html#returning-a-view-versus-a-copy\n",
      "  \"\"\"Entry point for launching an IPython kernel.\n"
     ]
    }
   ],
   "source": [
    "test['LSTM Predictions'] = true_predictions"
   ]
  },
  {
   "cell_type": "code",
   "execution_count": 50,
   "id": "baa8ce5b-301c-4c07-8946-6ba65963f655",
   "metadata": {},
   "outputs": [
    {
     "data": {
      "text/plain": [
       "<AxesSubplot:xlabel='DATE'>"
      ]
     },
     "execution_count": 50,
     "metadata": {},
     "output_type": "execute_result"
    },
    {
     "data": {
      "image/png": "[encoded data removed]",
      "text/plain": [
       "<Figure size 720x360 with 1 Axes>"
      ]
     },
     "metadata": {
      "needs_background": "light"
     },
     "output_type": "display_data"
    }
   ],
   "source": [
    "test.plot(figsize=(10,5))"
   ]
  },
  {
   "cell_type": "code",
   "execution_count": 54,
   "id": "be219344-71e9-4a08-8177-a9d09649a268",
   "metadata": {},
   "outputs": [],
   "source": [
    "# Compute the mean squared error and the RMSE\n",
    "from sklearn.metrics import mean_squared_error"
   ]
  },
  {
   "cell_type": "code",
   "execution_count": 55,
   "id": "8dffff78-acab-4fc6-bb64-fc3331dec88b",
   "metadata": {},
   "outputs": [
    {
     "data": {
      "text/plain": [
       "8.016076464307078"
      ]
     },
     "execution_count": 55,
     "metadata": {},
     "output_type": "execute_result"
    }
   ],
   "source": [
    "np.sqrt(mean_squared_error(test['Production'],test['LSTM Predictions']))"
   ]
  },
  {
   "cell_type": "code",
   "execution_count": null,
   "id": "82dd545a-501d-4592-bbe5-3115a42038c3",
   "metadata": {},
   "outputs": [],
   "source": []
  }
 ],
 "metadata": {
  "kernelspec": {
   "display_name": "Python 3 (ipykernel)",
   "language": "python",
   "name": "python3"
  },
  "language_info": {
   "codemirror_mode": {
    "name": "ipython",
    "version": 3
   },
   "file_extension": ".py",
   "mimetype": "text/x-python",
   "name": "python",
   "nbconvert_exporter": "python",
   "pygments_lexer": "ipython3",
   "version": "3.7.11"
  }
 },
 "nbformat": 4,
 "nbformat_minor": 5
}
