{
 "cells": [
  {
   "cell_type": "markdown",
   "id": "832209c7-8a9f-4c83-adf4-96e926476eb2",
   "metadata": {},
   "source": [
    "# Recurrent Neural Networks: Example 2 - Ice Cream Production"
   ]
  },
  {
   "cell_type": "markdown",
   "id": "2cbf5576-a297-4541-9e3f-f736bedaa8ea",
   "metadata": {},
   "source": [
    "In this noteboook a real time series dataset is used to build a model and forecast future values.\n",
    "The notebook is really equivalent to the example 1 (sales), but the notebook uses another dataset.\n",
    "\n",
    "The used dataset was downloaded from the FRED website with data on **Industrial Production: Manufacturing: Non-Durable Goods: Ice Cream and Frozen Dessert (Not Seasonally Adjusted)**:\n",
    "\n",
    "[https://fred.stlouisfed.org/series/IPN31152N](https://fred.stlouisfed.org/series/IPN31152N)\n",
    "\n",
    "Note that the COVID-19 changes the expected course of the data; therefore, I used the CSV from J.M. Portilla's course, which can be found in the `data` folder:\n",
    "\n",
    "`../../data/IPN31152N.csv`\n",
    "\n",
    "`git_repositories/data_science_python_tools/data/IPN31152N.csv`\n",
    "\n",
    "**Important note 1: it makes sense to have date information instead of date strings to fully handle the time series.\n",
    "Therefore, often date strings need to be converted into datetime type.**\n",
    "\n",
    "**Important note 2: few comments are added here; to see more detailed notes, look at previous notebooks.**"
   ]
  },
  {
   "cell_type": "code",
   "execution_count": null,
   "id": "45b67bc6-7081-46fe-9154-b7d6c83e4aba",
   "metadata": {},
   "outputs": [],
   "source": []
  }
 ],
 "metadata": {
  "kernelspec": {
   "display_name": "Python 3 (ipykernel)",
   "language": "python",
   "name": "python3"
  },
  "language_info": {
   "codemirror_mode": {
    "name": "ipython",
    "version": 3
   },
   "file_extension": ".py",
   "mimetype": "text/x-python",
   "name": "python",
   "nbconvert_exporter": "python",
   "pygments_lexer": "ipython3",
   "version": "3.7.11"
  }
 },
 "nbformat": 4,
 "nbformat_minor": 5
}
