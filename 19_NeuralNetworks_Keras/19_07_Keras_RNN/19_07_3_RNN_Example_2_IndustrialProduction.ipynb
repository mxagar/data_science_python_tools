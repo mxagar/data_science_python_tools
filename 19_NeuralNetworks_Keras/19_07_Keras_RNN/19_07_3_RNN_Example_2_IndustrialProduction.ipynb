{
 "cells": [
  {
   "cell_type": "markdown",
   "id": "832209c7-8a9f-4c83-adf4-96e926476eb2",
   "metadata": {},
   "source": [
    "# Recurrent Neural Networks: Example 2 --"
   ]
  },
  {
   "cell_type": "code",
   "execution_count": null,
   "id": "b4d2b76b-3808-47cf-9bfd-f5f82bb8ed44",
   "metadata": {},
   "outputs": [],
   "source": []
  }
 ],
 "metadata": {
  "kernelspec": {
   "display_name": "Python 3 (ipykernel)",
   "language": "python",
   "name": "python3"
  },
  "language_info": {
   "codemirror_mode": {
    "name": "ipython",
    "version": 3
   },
   "file_extension": ".py",
   "mimetype": "text/x-python",
   "name": "python",
   "nbconvert_exporter": "python",
   "pygments_lexer": "ipython3",
   "version": "3.7.11"
  }
 },
 "nbformat": 4,
 "nbformat_minor": 5
}
