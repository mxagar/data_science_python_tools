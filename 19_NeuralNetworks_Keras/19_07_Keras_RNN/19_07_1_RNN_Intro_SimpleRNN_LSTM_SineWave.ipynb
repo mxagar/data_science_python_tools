{
 "cells": [
  {
   "cell_type": "markdown",
   "id": "b055a9c0-b4d4-437b-b815-0af26d2ba5a6",
   "metadata": {},
   "source": [
    "# Recurrent Neural Networks: Introduction"
   ]
  },
  {
   "cell_type": "markdown",
   "id": "fd47d5ef-2c02-41df-99ff-74d3fe34d138",
   "metadata": {},
   "source": [
    "While CNNs work with filters or kernels that are applied in local patches of our data, RNNs work with sequences of data in which the order is important.\n",
    "We have a sequence of elements (e.g., a time series or a sentence of words) and the goal of a RNN is to predict the next element(s) given the sequence, i.e., we want to forecast.\n",
    "\n",
    "**Overview of the Notebook:**\n",
    "1. Some Notes on the Theory\n",
    "2. Sine-Wave Prediction with SimpleRNN\n",
    "3. Sine-Wave Prediction with LSTM units + EarlyStopping\n",
    "4. Forecasting into the future of a Sine Wave"
   ]
  },
  {
   "cell_type": "markdown",
   "id": "690273a1-2fc0-4231-96f3-8d083d754433",
   "metadata": {},
   "source": [
    "## 1. Some Notes on the Theoryinverse_transform"
   ]
  },
  {
   "cell_type": "markdown",
   "id": "4aff44dc-39e6-4941-9b4a-e03a3a03135a",
   "metadata": {},
   "source": [
    "### (Very) Basic Theory\n",
    "\n",
    "Examples of sequences: time series (e.g., sales), sentences, audio, car trajectories, music, etc.\n",
    "\n",
    "Note that the **order or history is important; actually that's one of the tings is supposed to be understood/learnt.**\n",
    "From that intuitive idea, we can derive how a recurrent neuron of a RNN is built: **previous outputs are fed back as inputs!**\n",
    "\n",
    "Some properties:\n",
    "- Recurrent neurons are also called *memory cells*\n",
    "- RNNs are very flexible in terms of how outputs are converted into inputs\n",
    "    - We can pass single vector of values\n",
    "    - We can pass a sequence\n",
    "    - We can pass entire layer outputs as inputs again to the same layer\n",
    "- Typical architectures\n",
    "    - **Sequence-to-sequence** (aka. *many to many*): we pass a sequence and exppect a sequence. For example, we could train a chatbot with Q-A sequences.\n",
    "    - **Sequence-to-vector** (aka. *many to one*): we pass a sequence and expect an element. For example, we can use that architecture to generate text.\n",
    "    - **Vector-to-sequence** (aka. *one to many*): for instance, given a word, predict the next 5.\n",
    "- Major drawbacks of RNNs:\n",
    "    1. The **vanishing gradient**, as in all other ANNs.\n",
    "    2. We pass the previous output as input, so **we forget older elements**. It would be great to keep track of longer history, not only the short-term one. The **Long Short Term Memory Units (LSTMs)** address that."
   ]
  },
  {
   "cell_type": "markdown",
   "id": "ea0566aa-6b6d-41c0-ba3a-24db8e7416bc",
   "metadata": {},
   "source": [
    "### Exploding and Vanishing Gradients\n",
    "\n",
    "Complex data usually requires more complex architectures that consist of more hidden layers.\n",
    "\n",
    "When we train, we iteratively compute the derivative of the error (i.e., the difference between the expected and predicted output) with respect to the weights.\n",
    "That error derivative is backpropagated to the neuron weights using the rule of chain and each weight is updated so that the error becomes smaller.\n",
    "**Since we use the rule of chain for computing the derivative, we have chained multiplications of values; if the multiplied values are small, the resulting gradient becomes very small (it vanishes), and it becomes gigant if the values are big (it explodes).**\n",
    "That is not desired, since we cannot accurately control how to change the weights: usually, too small insignificant changes are computed due to the vanishing gradient, especially closer to the input layers. Thus, basic patterns that should be detected in the first layers are not learnt!\n",
    "\n",
    "The vanishing gradient is particularly string in RNNs.\n",
    "\n",
    "Some points to take into account regarding the the **vanishing gradient**:\n",
    "- The **sigmoid activation** makes the vanishing gradient worse: we squeeze/map the signals to the [0,1] region, but the slope (i.e., derivative) of the activation function is very small!\n",
    "    - Better, use the ReLu (rectified linear unit): max(x,0).\n",
    "    - Other options: leaky ReLu, ELU, etc.\n",
    "- **Batch normalization** avoids also the vanishing gradient: batches of samples are normalized using the mean and the standard deviation of the batch.\n",
    "- **Xavier initialization**: a method for choosing different initial weight values. Basically, initial values are set to belong to a uniform distribution scaled by `sqrt(6)/sqrt(in + out connections)`; it improves alleviates diminishing gradients.\n",
    "- **Gradient clipping**: we clip a gradient when it reaches a given limit value; a drity trick that seems to work sometimes.\n",
    "- **LSTM units** also reduce the phenomenon of the vanishing gradient, apart from bringing some advantages to reguar recursive neurons. However, exploding gradients can still occur."
   ]
  },
  {
   "cell_type": "markdown",
   "id": "afbdfbd2-21e2-4cab-b67d-a7772393b47b",
   "metadata": {},
   "source": [
    "### LSTM and GRU: Long Short Term Memory Units and Gated Recurrent Units"
   ]
  },
  {
   "cell_type": "markdown",
   "id": "a53fdeec-afa3-41dd-986f-5345585e2913",
   "metadata": {},
   "source": [
    "A simple recursive neuron takes its previous output $h(t-1)$ as additional input to the regular input $x(t)$.\n",
    "The output $h(t)$ is usually computed by multiplying the weights to the concatenated inputs and applying the hyperbilic tangent as activation function:\n",
    "\n",
    "$h(t) = \\mathrm{tanh}(w\\cdot[h(t-1)^{T},x(t)^{T}]^{T} + b)$\n",
    "\n",
    "Recall that since the structures of RNNs are quite flexible, we could do that per neuron or per layer.\n",
    "\n",
    "A **long short term memory** neuron is more sophisticated, as it consits of three entries and two exits:\n",
    "\n",
    "- As recurrent outputs, we have short-term ($h$) and long-term ($c$) memory signals; their output value at time $t-1$ is also input at time $t$\n",
    "- The short-term output $h$ is also the output that goes to the next neuron/layer\n",
    "- Additionally we have the regular input $x$ coming from previous neurons/layers\n",
    "\n",
    "Internally, several gates (paths) are distinguished (forget, input/update, output).\n",
    "The general idea is that irrelevant signals are forgotten, while relevant data is preserved;\n",
    "that is achieved by appliying sigmoid and tanh activations to the values and performing summations and mutiplications between them.\n",
    "\n",
    "The following figure from the Wikipedia displays the internal operations:\n",
    "\n",
    "![LSTM cell - source: Wikipedia](pics/LSTM_Cell.png)\n",
    "\n",
    "Image Source: [Wikipedia article on LSTM](https://en.wikipedia.org/wiki/Long_short-term_memory)\n",
    "\n",
    "There are several variations of that LSTM unit, such as\n",
    "- **Peephole** units, which concatenate internal values\n",
    "- **Gated Recurrent Units (GRUs)**, which combine forget an input gates to a single upddate gate, simplifying the unit\n",
    "\n",
    "Although LSTMs are the default units used in RNNs, GRUs are getting more attention and are being deploying more and more lately.\n",
    "\n",
    "![GRU cell - source: Wikipedia](pics/GRU_Cell.png)\n",
    "\n",
    "Image Source: [Wikipedia article on GRU](https://en.wikipedia.org/wiki/Gated_recurrent_unit)"
   ]
  },
  {
   "cell_type": "markdown",
   "id": "86ff28d5-1516-4fd8-985b-e308a042c0f4",
   "metadata": {},
   "source": [
    "### Interesting Links\n",
    "\n",
    "- [The Unreasonable Effectiveness of Recurrent Neural Networks, by Andrej Karpathy](http://karpathy.github.io/2015/05/21/rnn-effectiveness/)\n",
    "- [Exploring LSTMs, by Edwin Chen](http://blog.echen.me/2017/05/30/exploring-lstms/)\n",
    "- [When to use GRU over LSTM? Stackexchange](https://datascience.stackexchange.com/questions/14581/when-to-use-gru-over-lstm)"
   ]
  },
  {
   "cell_type": "markdown",
   "id": "da9bb462-3ad5-4dd2-becc-73edd3934da2",
   "metadata": {},
   "source": [
    "### Practical Considerations with Time Series\n",
    "\n",
    "- Time series on which we'd like to learn and predict need to have underlying patterns\n",
    "- Enough data needs to be used to be fed to the network to learn all trends and seasonality components\n",
    "    - We have a general trend component, lower frequency\n",
    "    - We have also a seasonality component, higher frequency\n",
    "- Thus, domain knowledge and experience is often necessary\n",
    "- One possible approach is to work in batches of datapoints which are like windows in time and to predict one datapoint in the future for the given batch\n",
    "    - Complete sequence: [0,1,2,3,4,5,6,7,8,9]\n",
    "    - One possible batch: in [0,1,2,3], prediction [4]\n",
    "    - Another batch: in [1,2,3,4], prediction [5]\n",
    "    - If we want to predict more than one data point, we incorporate the prediction to our in batch removing the eldest datapoint\n",
    "        - [6,7,8,9] -> [10]\n",
    "        - [7,8,9,10] -> [11.1]\n",
    "        - [8,9,10,11.1] -> [12.2]\n",
    "        - ...\n",
    "        - The further we go in time, the worse the prediction is expected to be!"
   ]
  },
  {
   "cell_type": "markdown",
   "id": "556b10cf-7558-4a0c-8dd8-b3e3460cfd8e",
   "metadata": {},
   "source": [
    "## 2. Sine Wave Prediction"
   ]
  },
  {
   "cell_type": "code",
   "execution_count": 14,
   "id": "3799d000-7997-41c6-92b3-5fcfc7fd0630",
   "metadata": {},
   "outputs": [],
   "source": [
    "import pandas as pd\n",
    "import numpy as np\n",
    "%matplotlib inline\n",
    "import matplotlib.pyplot as plt"
   ]
  },
  {
   "cell_type": "markdown",
   "id": "53706a74-01da-4d98-9a3a-d7b423b873da",
   "metadata": {},
   "source": [
    "### 2.1 Create/Load the Dataset"
   ]
  },
  {
   "cell_type": "code",
   "execution_count": 15,
   "id": "87d83b68-52c8-41b0-bcf2-8a4d220571b1",
   "metadata": {},
   "outputs": [],
   "source": [
    "# First, we create our sine wave: y = sin(x)\n",
    "x = np.linspace(0,50,501)"
   ]
  },
  {
   "cell_type": "code",
   "execution_count": 16,
   "id": "4060f14a-960c-48b3-8b9a-17f4598ac019",
   "metadata": {},
   "outputs": [],
   "source": [
    "y = np.sin(x)"
   ]
  },
  {
   "cell_type": "code",
   "execution_count": 17,
   "id": "5cc5ca0a-ddc1-409b-8cbe-af8368071c5d",
   "metadata": {},
   "outputs": [
    {
     "data": {
      "text/plain": [
       "[<matplotlib.lines.Line2D at 0x7fd5a8fd5410>]"
      ]
     },
     "execution_count": 17,
     "metadata": {},
     "output_type": "execute_result"
    },
    {
     "data": {
      "image/png": "[encoded data removed]",
      "text/plain": [
       "<Figure size 432x288 with 1 Axes>"
      ]
     },
     "metadata": {
      "needs_background": "light"
     },
     "output_type": "display_data"
    }
   ],
   "source": [
    "plt.plot(x,y)"
   ]
  },
  {
   "cell_type": "code",
   "execution_count": 18,
   "id": "08305863-c4ec-4932-b220-29955e717901",
   "metadata": {},
   "outputs": [],
   "source": [
    "# We conver our sine wave to be our dataset / dataframe\n",
    "df = pd.DataFrame(data=y,index=x,columns=[\"Sine\"])"
   ]
  },
  {
   "cell_type": "code",
   "execution_count": 19,
   "id": "813972f5-bfda-420f-b41a-980ed05174c9",
   "metadata": {},
   "outputs": [
    {
     "data": {
      "text/html": [
       "<div>\n",
       "<style scoped>\n",
       "    .dataframe tbody tr th:only-of-type {\n",
       "        vertical-align: middle;\n",
       "    }\n",
       "\n",
       "    .dataframe tbody tr th {\n",
       "        vertical-align: top;\n",
       "    }\n",
       "\n",
       "    .dataframe thead th {\n",
       "        text-align: right;\n",
       "    }\n",
       "</style>\n",
       "<table border=\"1\" class=\"dataframe\">\n",
       "  <thead>\n",
       "    <tr style=\"text-align: right;\">\n",
       "      <th></th>\n",
       "      <th>Sine</th>\n",
       "    </tr>\n",
       "  </thead>\n",
       "  <tbody>\n",
       "    <tr>\n",
       "      <th>0.0</th>\n",
       "      <td>0.000000</td>\n",
       "    </tr>\n",
       "    <tr>\n",
       "      <th>0.1</th>\n",
       "      <td>0.099833</td>\n",
       "    </tr>\n",
       "    <tr>\n",
       "      <th>0.2</th>\n",
       "      <td>0.198669</td>\n",
       "    </tr>\n",
       "    <tr>\n",
       "      <th>0.3</th>\n",
       "      <td>0.295520</td>\n",
       "    </tr>\n",
       "    <tr>\n",
       "      <th>0.4</th>\n",
       "      <td>0.389418</td>\n",
       "    </tr>\n",
       "  </tbody>\n",
       "</table>\n",
       "</div>"
      ],
      "text/plain": [
       "         Sine\n",
       "0.0  0.000000\n",
       "0.1  0.099833\n",
       "0.2  0.198669\n",
       "0.3  0.295520\n",
       "0.4  0.389418"
      ]
     },
     "execution_count": 19,
     "metadata": {},
     "output_type": "execute_result"
    }
   ],
   "source": [
    "df.head()"
   ]
  },
  {
   "cell_type": "markdown",
   "id": "ecfe069f-22e4-4e81-832c-c6e1f7cb4810",
   "metadata": {},
   "source": [
    "### 2.2 Define the train/test split"
   ]
  },
  {
   "cell_type": "code",
   "execution_count": 20,
   "id": "77be466b-33a1-44d0-b0f0-74e05ba5fd0e",
   "metadata": {},
   "outputs": [
    {
     "data": {
      "text/plain": [
       "501"
      ]
     },
     "execution_count": 20,
     "metadata": {},
     "output_type": "execute_result"
    }
   ],
   "source": [
    "len(df)"
   ]
  },
  {
   "cell_type": "code",
   "execution_count": 21,
   "id": "ac0c81fc-d671-4f1f-a4b2-e00e9dbb692d",
   "metadata": {},
   "outputs": [],
   "source": [
    "# We choose a percent of the dataset to be the test set\n",
    "# That percent is taken from the end of the dataset\n",
    "test_percent = 0.1"
   ]
  },
  {
   "cell_type": "code",
   "execution_count": 22,
   "id": "eb5e445e-7d6f-4009-a6df-8f1531c97112",
   "metadata": {},
   "outputs": [],
   "source": [
    "test_point = np.round(len(df)*test_percent)"
   ]
  },
  {
   "cell_type": "code",
   "execution_count": 23,
   "id": "a08a8747-9882-454f-b279-ec1361d0e389",
   "metadata": {},
   "outputs": [
    {
     "data": {
      "text/plain": [
       "50.0"
      ]
     },
     "execution_count": 23,
     "metadata": {},
     "output_type": "execute_result"
    }
   ],
   "source": [
    "test_point"
   ]
  },
  {
   "cell_type": "code",
   "execution_count": 24,
   "id": "9bc646c2-e809-450e-a12b-72c5ddbd2d50",
   "metadata": {},
   "outputs": [],
   "source": [
    "test_ind = int(len(df)-test_point)"
   ]
  },
  {
   "cell_type": "code",
   "execution_count": 25,
   "id": "c6b052e4-db52-48e2-a5f5-b392a81da9b5",
   "metadata": {},
   "outputs": [],
   "source": [
    "train = df.iloc[:test_ind]\n",
    "test = df.iloc[test_ind:]"
   ]
  },
  {
   "cell_type": "code",
   "execution_count": 26,
   "id": "872fb235-6ad5-4037-9627-6b756775ca1d",
   "metadata": {},
   "outputs": [
    {
     "data": {
      "text/html": [
       "<div>\n",
       "<style scoped>\n",
       "    .dataframe tbody tr th:only-of-type {\n",
       "        vertical-align: middle;\n",
       "    }\n",
       "\n",
       "    .dataframe tbody tr th {\n",
       "        vertical-align: top;\n",
       "    }\n",
       "\n",
       "    .dataframe thead th {\n",
       "        text-align: right;\n",
       "    }\n",
       "</style>\n",
       "<table border=\"1\" class=\"dataframe\">\n",
       "  <thead>\n",
       "    <tr style=\"text-align: right;\">\n",
       "      <th></th>\n",
       "      <th>Sine</th>\n",
       "    </tr>\n",
       "  </thead>\n",
       "  <tbody>\n",
       "    <tr>\n",
       "      <th>45.1</th>\n",
       "      <td>0.899097</td>\n",
       "    </tr>\n",
       "    <tr>\n",
       "      <th>45.2</th>\n",
       "      <td>0.938307</td>\n",
       "    </tr>\n",
       "    <tr>\n",
       "      <th>45.3</th>\n",
       "      <td>0.968142</td>\n",
       "    </tr>\n",
       "    <tr>\n",
       "      <th>45.4</th>\n",
       "      <td>0.988304</td>\n",
       "    </tr>\n",
       "    <tr>\n",
       "      <th>45.5</th>\n",
       "      <td>0.998591</td>\n",
       "    </tr>\n",
       "    <tr>\n",
       "      <th>45.6</th>\n",
       "      <td>0.998900</td>\n",
       "    </tr>\n",
       "    <tr>\n",
       "      <th>45.7</th>\n",
       "      <td>0.989229</td>\n",
       "    </tr>\n",
       "    <tr>\n",
       "      <th>45.8</th>\n",
       "      <td>0.969673</td>\n",
       "    </tr>\n",
       "    <tr>\n",
       "      <th>45.9</th>\n",
       "      <td>0.940429</td>\n",
       "    </tr>\n",
       "    <tr>\n",
       "      <th>46.0</th>\n",
       "      <td>0.901788</td>\n",
       "    </tr>\n",
       "    <tr>\n",
       "      <th>46.1</th>\n",
       "      <td>0.854137</td>\n",
       "    </tr>\n",
       "    <tr>\n",
       "      <th>46.2</th>\n",
       "      <td>0.797952</td>\n",
       "    </tr>\n",
       "    <tr>\n",
       "      <th>46.3</th>\n",
       "      <td>0.733794</td>\n",
       "    </tr>\n",
       "    <tr>\n",
       "      <th>46.4</th>\n",
       "      <td>0.662304</td>\n",
       "    </tr>\n",
       "    <tr>\n",
       "      <th>46.5</th>\n",
       "      <td>0.584197</td>\n",
       "    </tr>\n",
       "    <tr>\n",
       "      <th>46.6</th>\n",
       "      <td>0.500252</td>\n",
       "    </tr>\n",
       "    <tr>\n",
       "      <th>46.7</th>\n",
       "      <td>0.411309</td>\n",
       "    </tr>\n",
       "    <tr>\n",
       "      <th>46.8</th>\n",
       "      <td>0.318257</td>\n",
       "    </tr>\n",
       "    <tr>\n",
       "      <th>46.9</th>\n",
       "      <td>0.222024</td>\n",
       "    </tr>\n",
       "    <tr>\n",
       "      <th>47.0</th>\n",
       "      <td>0.123573</td>\n",
       "    </tr>\n",
       "    <tr>\n",
       "      <th>47.1</th>\n",
       "      <td>0.023888</td>\n",
       "    </tr>\n",
       "    <tr>\n",
       "      <th>47.2</th>\n",
       "      <td>-0.076037</td>\n",
       "    </tr>\n",
       "    <tr>\n",
       "      <th>47.3</th>\n",
       "      <td>-0.175201</td>\n",
       "    </tr>\n",
       "    <tr>\n",
       "      <th>47.4</th>\n",
       "      <td>-0.272615</td>\n",
       "    </tr>\n",
       "    <tr>\n",
       "      <th>47.5</th>\n",
       "      <td>-0.367305</td>\n",
       "    </tr>\n",
       "    <tr>\n",
       "      <th>47.6</th>\n",
       "      <td>-0.458325</td>\n",
       "    </tr>\n",
       "    <tr>\n",
       "      <th>47.7</th>\n",
       "      <td>-0.544766</td>\n",
       "    </tr>\n",
       "    <tr>\n",
       "      <th>47.8</th>\n",
       "      <td>-0.625764</td>\n",
       "    </tr>\n",
       "    <tr>\n",
       "      <th>47.9</th>\n",
       "      <td>-0.700509</td>\n",
       "    </tr>\n",
       "    <tr>\n",
       "      <th>48.0</th>\n",
       "      <td>-0.768255</td>\n",
       "    </tr>\n",
       "    <tr>\n",
       "      <th>48.1</th>\n",
       "      <td>-0.828324</td>\n",
       "    </tr>\n",
       "    <tr>\n",
       "      <th>48.2</th>\n",
       "      <td>-0.880118</td>\n",
       "    </tr>\n",
       "    <tr>\n",
       "      <th>48.3</th>\n",
       "      <td>-0.923117</td>\n",
       "    </tr>\n",
       "    <tr>\n",
       "      <th>48.4</th>\n",
       "      <td>-0.956893</td>\n",
       "    </tr>\n",
       "    <tr>\n",
       "      <th>48.5</th>\n",
       "      <td>-0.981108</td>\n",
       "    </tr>\n",
       "    <tr>\n",
       "      <th>48.6</th>\n",
       "      <td>-0.995521</td>\n",
       "    </tr>\n",
       "    <tr>\n",
       "      <th>48.7</th>\n",
       "      <td>-0.999986</td>\n",
       "    </tr>\n",
       "    <tr>\n",
       "      <th>48.8</th>\n",
       "      <td>-0.994460</td>\n",
       "    </tr>\n",
       "    <tr>\n",
       "      <th>48.9</th>\n",
       "      <td>-0.978997</td>\n",
       "    </tr>\n",
       "    <tr>\n",
       "      <th>49.0</th>\n",
       "      <td>-0.953753</td>\n",
       "    </tr>\n",
       "    <tr>\n",
       "      <th>49.1</th>\n",
       "      <td>-0.918979</td>\n",
       "    </tr>\n",
       "    <tr>\n",
       "      <th>49.2</th>\n",
       "      <td>-0.875023</td>\n",
       "    </tr>\n",
       "    <tr>\n",
       "      <th>49.3</th>\n",
       "      <td>-0.822324</td>\n",
       "    </tr>\n",
       "    <tr>\n",
       "      <th>49.4</th>\n",
       "      <td>-0.761408</td>\n",
       "    </tr>\n",
       "    <tr>\n",
       "      <th>49.5</th>\n",
       "      <td>-0.692885</td>\n",
       "    </tr>\n",
       "    <tr>\n",
       "      <th>49.6</th>\n",
       "      <td>-0.617439</td>\n",
       "    </tr>\n",
       "    <tr>\n",
       "      <th>49.7</th>\n",
       "      <td>-0.535823</td>\n",
       "    </tr>\n",
       "    <tr>\n",
       "      <th>49.8</th>\n",
       "      <td>-0.448854</td>\n",
       "    </tr>\n",
       "    <tr>\n",
       "      <th>49.9</th>\n",
       "      <td>-0.357400</td>\n",
       "    </tr>\n",
       "    <tr>\n",
       "      <th>50.0</th>\n",
       "      <td>-0.262375</td>\n",
       "    </tr>\n",
       "  </tbody>\n",
       "</table>\n",
       "</div>"
      ],
      "text/plain": [
       "          Sine\n",
       "45.1  0.899097\n",
       "45.2  0.938307\n",
       "45.3  0.968142\n",
       "45.4  0.988304\n",
       "45.5  0.998591\n",
       "45.6  0.998900\n",
       "45.7  0.989229\n",
       "45.8  0.969673\n",
       "45.9  0.940429\n",
       "46.0  0.901788\n",
       "46.1  0.854137\n",
       "46.2  0.797952\n",
       "46.3  0.733794\n",
       "46.4  0.662304\n",
       "46.5  0.584197\n",
       "46.6  0.500252\n",
       "46.7  0.411309\n",
       "46.8  0.318257\n",
       "46.9  0.222024\n",
       "47.0  0.123573\n",
       "47.1  0.023888\n",
       "47.2 -0.076037\n",
       "47.3 -0.175201\n",
       "47.4 -0.272615\n",
       "47.5 -0.367305\n",
       "47.6 -0.458325\n",
       "47.7 -0.544766\n",
       "47.8 -0.625764\n",
       "47.9 -0.700509\n",
       "48.0 -0.768255\n",
       "48.1 -0.828324\n",
       "48.2 -0.880118\n",
       "48.3 -0.923117\n",
       "48.4 -0.956893\n",
       "48.5 -0.981108\n",
       "48.6 -0.995521\n",
       "48.7 -0.999986\n",
       "48.8 -0.994460\n",
       "48.9 -0.978997\n",
       "49.0 -0.953753\n",
       "49.1 -0.918979\n",
       "49.2 -0.875023\n",
       "49.3 -0.822324\n",
       "49.4 -0.761408\n",
       "49.5 -0.692885\n",
       "49.6 -0.617439\n",
       "49.7 -0.535823\n",
       "49.8 -0.448854\n",
       "49.9 -0.357400\n",
       "50.0 -0.262375"
      ]
     },
     "execution_count": 26,
     "metadata": {},
     "output_type": "execute_result"
    }
   ],
   "source": [
    "test"
   ]
  },
  {
   "cell_type": "markdown",
   "id": "8c45e4c9-0bc4-4918-933c-548cfeca59aa",
   "metadata": {},
   "source": [
    "### 2.3 Scale the Data"
   ]
  },
  {
   "cell_type": "code",
   "execution_count": 27,
   "id": "e7c86cdb-2ea6-4fad-bd60-16867a12d12b",
   "metadata": {},
   "outputs": [],
   "source": [
    "# Now, we need to scale our data\n",
    "from sklearn.preprocessing import MinMaxScaler"
   ]
  },
  {
   "cell_type": "code",
   "execution_count": 28,
   "id": "1c5c5458-7149-4168-98b0-cbef8f60d779",
   "metadata": {},
   "outputs": [],
   "source": [
    "scaler = MinMaxScaler()"
   ]
  },
  {
   "cell_type": "code",
   "execution_count": 29,
   "id": "744d17c0-42d4-4124-b140-0fcb601c7ff7",
   "metadata": {},
   "outputs": [
    {
     "data": {
      "text/plain": [
       "MinMaxScaler()"
      ]
     },
     "execution_count": 29,
     "metadata": {},
     "output_type": "execute_result"
    }
   ],
   "source": [
    "scaler.fit(train)"
   ]
  },
  {
   "cell_type": "code",
   "execution_count": 30,
   "id": "51475b21-fede-4040-94b6-5a90d0fc1df6",
   "metadata": {},
   "outputs": [],
   "source": [
    "scaled_train = scaler.transform(train)"
   ]
  },
  {
   "cell_type": "code",
   "execution_count": 31,
   "id": "5ca3585f-2b04-49b8-9af4-f84133072f18",
   "metadata": {},
   "outputs": [],
   "source": [
    "scaled_test = scaler.transform(test)"
   ]
  },
  {
   "cell_type": "markdown",
   "id": "6160a766-6237-4032-8b2f-0cc00a655135",
   "metadata": {},
   "source": [
    "### 2.4 Define the Batches with a Generator"
   ]
  },
  {
   "cell_type": "code",
   "execution_count": 12,
   "id": "b4f42463-28f7-4728-8f81-c6a879aa67a9",
   "metadata": {},
   "outputs": [],
   "source": [
    "# We create batches using a very helpful class that provides a generator\n",
    "from tensorflow.keras.preprocessing.sequence import TimeseriesGenerator"
   ]
  },
  {
   "cell_type": "code",
   "execution_count": 19,
   "id": "e8373288-7863-436f-929e-0a0ad3082539",
   "metadata": {},
   "outputs": [],
   "source": [
    "# Utility class for generating batches of temporal data\n",
    "#help(TimeseriesGenerator)"
   ]
  },
  {
   "cell_type": "code",
   "execution_count": 2,
   "id": "ecb69a4f-bb2e-420e-a771-7b8a4d339510",
   "metadata": {},
   "outputs": [],
   "source": [
    "# Length of output sequences (in number of time steps)\n",
    "# 2: we take 2 datapoints to predict the next\n",
    "# Be aware: the length should be enough to learn ALL major trends + seasonality!\n",
    "# That means often longer than a year or a similar equivalent cycle\n",
    "# Also: \n",
    "# - the larger the length, the longer the training time\n",
    "# - the length must be smaller than the length of the test split in case we do early stopping validation\n",
    "length = 25\n",
    "# Number of timeseries samples in each batch (1 performs well in general for timeseries)\n",
    "batch_size = 1"
   ]
  },
  {
   "cell_type": "code",
   "execution_count": 21,
   "id": "a9f5b20d-f88f-41c8-81b9-31eff822a1fe",
   "metadata": {},
   "outputs": [],
   "source": [
    "# In our case, the data and the targets are the very same dataset\n",
    "generator = TimeseriesGenerator(data=scaled_train,\n",
    "                                targets=scaled_train,\n",
    "                                length=length,\n",
    "                                batch_size=batch_size)"
   ]
  },
  {
   "cell_type": "code",
   "execution_count": 22,
   "id": "efc7cc63-6d9b-4152-a3e2-8709b47a6e8d",
   "metadata": {},
   "outputs": [
    {
     "data": {
      "text/plain": [
       "451"
      ]
     },
     "execution_count": 22,
     "metadata": {},
     "output_type": "execute_result"
    }
   ],
   "source": [
    "# We explore what the generator does\n",
    "len(scaled_train)"
   ]
  },
  {
   "cell_type": "code",
   "execution_count": 23,
   "id": "6ced3ce5-2124-44b1-838b-e935de525ab1",
   "metadata": {},
   "outputs": [
    {
     "data": {
      "text/plain": [
       "426"
      ]
     },
     "execution_count": 23,
     "metadata": {},
     "output_type": "execute_result"
    }
   ],
   "source": [
    "# The length of the generator will be\n",
    "# len(data) - length\n",
    "# because we can have that much subsets of sequences of the defined length\n",
    "len(generator)"
   ]
  },
  {
   "cell_type": "code",
   "execution_count": 24,
   "id": "c43283c6-63f2-4be5-96db-8333cb7a8eea",
   "metadata": {},
   "outputs": [],
   "source": [
    "# We check the first element of the generator\n",
    "X,y = generator[0]"
   ]
  },
  {
   "cell_type": "code",
   "execution_count": 25,
   "id": "1d80f475-9611-48e5-a7aa-6349b7ea08c7",
   "metadata": {},
   "outputs": [
    {
     "data": {
      "text/plain": [
       "array([[[0.49999912],\n",
       "        [0.54991622],\n",
       "        [0.59933458],\n",
       "        [0.64776041],\n",
       "        [0.69470985],\n",
       "        [0.73971381],\n",
       "        [0.78232262],\n",
       "        [0.82211054],\n",
       "        [0.85868004],\n",
       "        [0.89166571],\n",
       "        [0.92073798],\n",
       "        [0.94560637],\n",
       "        [0.9660224 ],\n",
       "        [0.98178208],\n",
       "        [0.99272794],\n",
       "        [0.99875061],\n",
       "        [0.99978993],\n",
       "        [0.9958355 ],\n",
       "        [0.98692684],\n",
       "        [0.97315296],\n",
       "        [0.95465148],\n",
       "        [0.93160726],\n",
       "        [0.90425056],\n",
       "        [0.87285471],\n",
       "        [0.83773342]]])"
      ]
     },
     "execution_count": 25,
     "metadata": {},
     "output_type": "execute_result"
    }
   ],
   "source": [
    "X"
   ]
  },
  {
   "cell_type": "code",
   "execution_count": 26,
   "id": "9739dd6b-18c0-4bc7-af14-93d423f20406",
   "metadata": {},
   "outputs": [
    {
     "data": {
      "text/plain": [
       "array([[0.79923759]])"
      ]
     },
     "execution_count": 26,
     "metadata": {},
     "output_type": "execute_result"
    }
   ],
   "source": [
    "y"
   ]
  },
  {
   "cell_type": "markdown",
   "id": "47fc73c9-95e0-49f4-aa13-61413937d10f",
   "metadata": {},
   "source": [
    "### 2.5 Simple RNN Model"
   ]
  },
  {
   "cell_type": "code",
   "execution_count": 52,
   "id": "fad6314b-e384-4e53-8365-1e8385437e9f",
   "metadata": {},
   "outputs": [],
   "source": [
    "# See previous section on the definition of the generator\n",
    "length = 50\n",
    "batch_size = 1\n",
    "generator = TimeseriesGenerator(data=scaled_train,\n",
    "                                targets=scaled_train,\n",
    "                                length=length,\n",
    "                                batch_size=batch_size)"
   ]
  },
  {
   "cell_type": "code",
   "execution_count": 6,
   "id": "f0648920-03ed-439d-8c6d-1e9508097661",
   "metadata": {},
   "outputs": [],
   "source": [
    "from tensorflow.keras.models import Sequential"
   ]
  },
  {
   "cell_type": "code",
   "execution_count": 7,
   "id": "248fe9f0-5d73-4b74-95ec-affc7fd34c4a",
   "metadata": {},
   "outputs": [],
   "source": [
    "from tensorflow.keras.layers import Dense,SimpleRNN,LSTM"
   ]
  },
  {
   "cell_type": "code",
   "execution_count": 10,
   "id": "213b2495-1a71-40f5-b01c-79a6d2566d78",
   "metadata": {},
   "outputs": [],
   "source": [
    "# We have one feature X, trying to predict y\n",
    "# The feature is the input variable, in this case the sine wave\n",
    "n_features = 1\n",
    "model = Sequential()\n",
    "# We need to link the units to the length: same number, double, etc.\n",
    "# Choosing 100 units for such a time series is sensible\n",
    "# We can also add acivation='relu'\n",
    "model.add(SimpleRNN(units=100,input_shape=(length,n_features)))\n",
    "# We want our output to be a single number\n",
    "model.add(Dense(1))\n",
    "# Loss function for continuous values: MSE\n",
    "model.compile(optimizer='adam',loss='mse')"
   ]
  },
  {
   "cell_type": "code",
   "execution_count": 61,
   "id": "8b3852f0-d5a1-42ee-9518-3eff08707fbf",
   "metadata": {},
   "outputs": [
    {
     "name": "stdout",
     "output_type": "stream",
     "text": [
      "Model: \"sequential_6\"\n",
      "_________________________________________________________________\n",
      "Layer (type)                 Output Shape              Param #   \n",
      "=================================================================\n",
      "simple_rnn_6 (SimpleRNN)     (None, 100)               10200     \n",
      "_________________________________________________________________\n",
      "dense_6 (Dense)              (None, 1)                 101       \n",
      "=================================================================\n",
      "Total params: 10,301\n",
      "Trainable params: 10,301\n",
      "Non-trainable params: 0\n",
      "_________________________________________________________________\n"
     ]
    }
   ],
   "source": [
    "model.summary()"
   ]
  },
  {
   "cell_type": "code",
   "execution_count": 62,
   "id": "6c0ae6ca-543a-4c2a-8828-af86c9465b67",
   "metadata": {},
   "outputs": [
    {
     "name": "stdout",
     "output_type": "stream",
     "text": [
      "Epoch 1/5\n",
      "401/401 [==============================] - 84s 210ms/step - loss: 0.0078\n",
      "Epoch 2/5\n",
      "401/401 [==============================] - 84s 209ms/step - loss: 9.1756e-04\n",
      "Epoch 3/5\n",
      "401/401 [==============================] - 84s 208ms/step - loss: 4.3631e-06\n",
      "Epoch 4/5\n",
      "401/401 [==============================] - 84s 208ms/step - loss: 2.2092e-05\n",
      "Epoch 5/5\n",
      "401/401 [==============================] - 84s 209ms/step - loss: 3.0875e-04\n"
     ]
    },
    {
     "data": {
      "text/plain": [
       "<tensorflow.python.keras.callbacks.History at 0x7fdc3c7a3ad0>"
      ]
     },
     "execution_count": 62,
     "metadata": {},
     "output_type": "execute_result"
    }
   ],
   "source": [
    "# We train with the generator\n",
    "# Note that RNNs require more time for training than other ANNs!\n",
    "model.fit_generator(generator,epochs=5)"
   ]
  },
  {
   "cell_type": "code",
   "execution_count": 63,
   "id": "3c7e5f30-3171-488f-91cc-1bde948e5a61",
   "metadata": {},
   "outputs": [],
   "source": [
    "# We get our loss history and plot it\n",
    "# We can improve the traning adding a validation set + early stopping\n",
    "losses = pd.DataFrame(model.history.history)"
   ]
  },
  {
   "cell_type": "code",
   "execution_count": 64,
   "id": "f7172690-fe42-4f5e-a848-a978828204ed",
   "metadata": {},
   "outputs": [
    {
     "data": {
      "text/plain": [
       "<AxesSubplot:>"
      ]
     },
     "execution_count": 64,
     "metadata": {},
     "output_type": "execute_result"
    },
    {
     "data": {
      "image/png": "[encoded data removed]",
      "text/plain": [
       "<Figure size 432x288 with 1 Axes>"
      ]
     },
     "metadata": {
      "needs_background": "light"
     },
     "output_type": "display_data"
    }
   ],
   "source": [
    "losses.plot()"
   ]
  },
  {
   "cell_type": "code",
   "execution_count": 65,
   "id": "25c060c8-2e63-4455-bbbc-3b69ab192d23",
   "metadata": {},
   "outputs": [],
   "source": [
    "# Inference\n",
    "first_eval_batch = scaled_train[-length:]"
   ]
  },
  {
   "cell_type": "code",
   "execution_count": 66,
   "id": "1a4471aa-7ccf-4b82-bed7-edf1bc2e057e",
   "metadata": {},
   "outputs": [
    {
     "data": {
      "text/plain": [
       "array([[8.37405820e-01],\n",
       "       [7.98881698e-01],\n",
       "       [7.57371240e-01],\n",
       "       [7.13289205e-01],\n",
       "       [6.67076045e-01],\n",
       "       [6.19193508e-01],\n",
       "       [5.70120021e-01],\n",
       "       [5.20345908e-01],\n",
       "       [4.70368497e-01],\n",
       "       [4.20687145e-01],\n",
       "       [3.71798252e-01],\n",
       "       [3.24190300e-01],\n",
       "       [2.78338972e-01],\n",
       "       [2.34702398e-01],\n",
       "       [1.93716581e-01],\n",
       "       [1.55791039e-01],\n",
       "       [1.21304709e-01],\n",
       "       [9.06021693e-02],\n",
       "       [6.39901882e-02],\n",
       "       [4.17346643e-02],\n",
       "       [2.40579672e-02],\n",
       "       [1.11367167e-02],\n",
       "       [3.10001778e-03],\n",
       "       [2.81703720e-05],\n",
       "       [1.95186738e-03],\n",
       "       [8.85188786e-03],\n",
       "       [2.06592891e-02],\n",
       "       [3.72560954e-02],\n",
       "       [5.84764771e-02],\n",
       "       [8.41084070e-02],\n",
       "       [1.13895779e-01],\n",
       "       [1.47540969e-01],\n",
       "       [1.84707803e-01],\n",
       "       [2.25024924e-01],\n",
       "       [2.68089497e-01],\n",
       "       [3.13471233e-01],\n",
       "       [3.60716695e-01],\n",
       "       [4.09353821e-01],\n",
       "       [4.58896644e-01],\n",
       "       [5.08850150e-01],\n",
       "       [5.58715219e-01],\n",
       "       [6.07993616e-01],\n",
       "       [6.56192968e-01],\n",
       "       [7.02831682e-01],\n",
       "       [7.47443761e-01],\n",
       "       [7.89583454e-01],\n",
       "       [8.28829716e-01],\n",
       "       [8.64790412e-01],\n",
       "       [8.97106234e-01],\n",
       "       [9.25454293e-01]])"
      ]
     },
     "execution_count": 66,
     "metadata": {},
     "output_type": "execute_result"
    }
   ],
   "source": [
    "first_eval_batch"
   ]
  },
  {
   "cell_type": "code",
   "execution_count": 67,
   "id": "570f77e8-79bf-4f3c-a11a-e1a1029a68ab",
   "metadata": {},
   "outputs": [],
   "source": [
    "# We need to reshape it\n",
    "first_eval_batch = first_eval_batch.reshape((1,length,n_features))"
   ]
  },
  {
   "cell_type": "code",
   "execution_count": 74,
   "id": "d9adce27-191b-4774-b4a8-c1d9bc48bf67",
   "metadata": {},
   "outputs": [
    {
     "data": {
      "text/plain": [
       "array([[0.9457696]], dtype=float32)"
      ]
     },
     "execution_count": 74,
     "metadata": {},
     "output_type": "execute_result"
    }
   ],
   "source": [
    "# Predict the next element\n",
    "model.predict(first_eval_batch)"
   ]
  },
  {
   "cell_type": "code",
   "execution_count": 76,
   "id": "35968bb7-7e75-461b-9cdc-cca79cac752c",
   "metadata": {},
   "outputs": [
    {
     "data": {
      "text/plain": [
       "array([0.94955134])"
      ]
     },
     "execution_count": 76,
     "metadata": {},
     "output_type": "execute_result"
    }
   ],
   "source": [
    "# Compare it with the test split\n",
    "scaled_test[0]"
   ]
  },
  {
   "cell_type": "code",
   "execution_count": 85,
   "id": "9d3dfd79-eb10-4668-abba-eebb803f7bc4",
   "metadata": {},
   "outputs": [],
   "source": [
    "# Now, we put everything in a for loop\n",
    "test_predictions = []\n",
    "current_batch = scaled_train[-length:].reshape((1,length,n_features))\n",
    "# We need to refresh our current_batch, move it forward in time:\n",
    "# We need to keep appending all the values of the previous current_batch, but\n",
    "# - we remove first\n",
    "# - we add the last predicted to the end\n",
    "for i in range(len(test)):\n",
    "    predicted = model.predict(current_batch)[0]\n",
    "    test_predictions.append(predicted)\n",
    "    # We move the current_batch one step forward, as said above\n",
    "    # Be careful with the brackets and the slicing:\n",
    "    # we're working with tensors that have several dimensions\n",
    "    current_batch = np.append(current_batch[:,1:,:],[[predicted]],axis=1)"
   ]
  },
  {
   "cell_type": "code",
   "execution_count": 89,
   "id": "59d08a62-3d28-4c41-bb14-c1afc96b54ca",
   "metadata": {},
   "outputs": [
    {
     "data": {
      "text/plain": [
       "array([[ 0.89153383],\n",
       "       [ 0.92998901],\n",
       "       [ 0.95859913],\n",
       "       [ 0.97500791],\n",
       "       [ 0.98228594],\n",
       "       [ 0.97873639],\n",
       "       [ 0.96544848],\n",
       "       [ 0.94388381],\n",
       "       [ 0.91154247],\n",
       "       [ 0.87013128],\n",
       "       [ 0.82011159],\n",
       "       [ 0.76217252],\n",
       "       [ 0.69667327],\n",
       "       [ 0.62358401],\n",
       "       [ 0.54494871],\n",
       "       [ 0.46128378],\n",
       "       [ 0.37150464],\n",
       "       [ 0.27865446],\n",
       "       [ 0.18275994],\n",
       "       [ 0.08370116],\n",
       "       [-0.01623447],\n",
       "       [-0.11674867],\n",
       "       [-0.21803081],\n",
       "       [-0.3164802 ],\n",
       "       [-0.41321228],\n",
       "       [-0.50782829],\n",
       "       [-0.59693089],\n",
       "       [-0.68098296],\n",
       "       [-0.75870585],\n",
       "       [-0.82961116],\n",
       "       [-0.89228421],\n",
       "       [-0.94549442],\n",
       "       [-0.98970304],\n",
       "       [-1.02362643],\n",
       "       [-1.04669489],\n",
       "       [-1.05980016],\n",
       "       [-1.06076997],\n",
       "       [-1.05132523],\n",
       "       [-1.03224916],\n",
       "       [-1.00153372],\n",
       "       [-0.96112182],\n",
       "       [-0.91201984],\n",
       "       [-0.8537702 ],\n",
       "       [-0.78734489],\n",
       "       [-0.71374042],\n",
       "       [-0.63331917],\n",
       "       [-0.5472234 ],\n",
       "       [-0.45651185],\n",
       "       [-0.36114423],\n",
       "       [-0.26264363]])"
      ]
     },
     "execution_count": 89,
     "metadata": {},
     "output_type": "execute_result"
    }
   ],
   "source": [
    "# We have our predictions for the entire test range now\n",
    "# but first we nee to unscale them\n",
    "#test_predictions\n",
    "true_predictions = scaler.inverse_transform(test_predictions)\n",
    "true_predictions"
   ]
  },
  {
   "cell_type": "code",
   "execution_count": 90,
   "id": "f070ca14-b853-4347-98f5-6b3f89599527",
   "metadata": {},
   "outputs": [
    {
     "data": {
      "text/html": [
       "<div>\n",
       "<style scoped>\n",
       "    .dataframe tbody tr th:only-of-type {\n",
       "        vertical-align: middle;\n",
       "    }\n",
       "\n",
       "    .dataframe tbody tr th {\n",
       "        vertical-align: top;\n",
       "    }\n",
       "\n",
       "    .dataframe thead th {\n",
       "        text-align: right;\n",
       "    }\n",
       "</style>\n",
       "<table border=\"1\" class=\"dataframe\">\n",
       "  <thead>\n",
       "    <tr style=\"text-align: right;\">\n",
       "      <th></th>\n",
       "      <th>Sine</th>\n",
       "    </tr>\n",
       "  </thead>\n",
       "  <tbody>\n",
       "    <tr>\n",
       "      <th>45.1</th>\n",
       "      <td>0.899097</td>\n",
       "    </tr>\n",
       "    <tr>\n",
       "      <th>45.2</th>\n",
       "      <td>0.938307</td>\n",
       "    </tr>\n",
       "    <tr>\n",
       "      <th>45.3</th>\n",
       "      <td>0.968142</td>\n",
       "    </tr>\n",
       "    <tr>\n",
       "      <th>45.4</th>\n",
       "      <td>0.988304</td>\n",
       "    </tr>\n",
       "    <tr>\n",
       "      <th>45.5</th>\n",
       "      <td>0.998591</td>\n",
       "    </tr>\n",
       "  </tbody>\n",
       "</table>\n",
       "</div>"
      ],
      "text/plain": [
       "          Sine\n",
       "45.1  0.899097\n",
       "45.2  0.938307\n",
       "45.3  0.968142\n",
       "45.4  0.988304\n",
       "45.5  0.998591"
      ]
     },
     "execution_count": 90,
     "metadata": {},
     "output_type": "execute_result"
    }
   ],
   "source": [
    "# We extend the test dataframe\n",
    "test.head()"
   ]
  },
  {
   "cell_type": "code",
   "execution_count": 93,
   "id": "f29c7ffb-3255-499a-919c-eb14a5a238c0",
   "metadata": {},
   "outputs": [
    {
     "name": "stderr",
     "output_type": "stream",
     "text": [
      "/Users/mxagar/opt/anaconda3/envs/tf/lib/python3.7/site-packages/ipykernel_launcher.py:3: SettingWithCopyWarning: \n",
      "A value is trying to be set on a copy of a slice from a DataFrame.\n",
      "Try using .loc[row_indexer,col_indexer] = value instead\n",
      "\n",
      "See the caveats in the documentation: https://pandas.pydata.org/pandas-docs/stable/user_guide/indexing.html#returning-a-view-versus-a-copy\n",
      "  This is separate from the ipykernel package so we can avoid doing imports until\n"
     ]
    }
   ],
   "source": [
    "# We extend the test dataframe withth eunscaled (true) predictions\n",
    "# We can ignore the warning\n",
    "test['Predictions'] = true_predictions"
   ]
  },
  {
   "cell_type": "code",
   "execution_count": 94,
   "id": "c3dc737b-f7e7-444f-bff1-4a45af662437",
   "metadata": {},
   "outputs": [
    {
     "data": {
      "text/html": [
       "<div>\n",
       "<style scoped>\n",
       "    .dataframe tbody tr th:only-of-type {\n",
       "        vertical-align: middle;\n",
       "    }\n",
       "\n",
       "    .dataframe tbody tr th {\n",
       "        vertical-align: top;\n",
       "    }\n",
       "\n",
       "    .dataframe thead th {\n",
       "        text-align: right;\n",
       "    }\n",
       "</style>\n",
       "<table border=\"1\" class=\"dataframe\">\n",
       "  <thead>\n",
       "    <tr style=\"text-align: right;\">\n",
       "      <th></th>\n",
       "      <th>Sine</th>\n",
       "      <th>Predictions</th>\n",
       "    </tr>\n",
       "  </thead>\n",
       "  <tbody>\n",
       "    <tr>\n",
       "      <th>45.1</th>\n",
       "      <td>0.899097</td>\n",
       "      <td>0.891534</td>\n",
       "    </tr>\n",
       "    <tr>\n",
       "      <th>45.2</th>\n",
       "      <td>0.938307</td>\n",
       "      <td>0.929989</td>\n",
       "    </tr>\n",
       "    <tr>\n",
       "      <th>45.3</th>\n",
       "      <td>0.968142</td>\n",
       "      <td>0.958599</td>\n",
       "    </tr>\n",
       "    <tr>\n",
       "      <th>45.4</th>\n",
       "      <td>0.988304</td>\n",
       "      <td>0.975008</td>\n",
       "    </tr>\n",
       "    <tr>\n",
       "      <th>45.5</th>\n",
       "      <td>0.998591</td>\n",
       "      <td>0.982286</td>\n",
       "    </tr>\n",
       "  </tbody>\n",
       "</table>\n",
       "</div>"
      ],
      "text/plain": [
       "          Sine  Predictions\n",
       "45.1  0.899097     0.891534\n",
       "45.2  0.938307     0.929989\n",
       "45.3  0.968142     0.958599\n",
       "45.4  0.988304     0.975008\n",
       "45.5  0.998591     0.982286"
      ]
     },
     "execution_count": 94,
     "metadata": {},
     "output_type": "execute_result"
    }
   ],
   "source": [
    "test.head()"
   ]
  },
  {
   "cell_type": "code",
   "execution_count": 97,
   "id": "76f802b7-7618-47c8-8ed4-49894dce4e03",
   "metadata": {},
   "outputs": [
    {
     "data": {
      "text/plain": [
       "<AxesSubplot:>"
      ]
     },
     "execution_count": 97,
     "metadata": {},
     "output_type": "execute_result"
    },
    {
     "data": {
      "image/png": "[encoded data removed]",
      "text/plain": [
       "<Figure size 720x360 with 1 Axes>"
      ]
     },
     "metadata": {
      "needs_background": "light"
     },
     "output_type": "display_data"
    }
   ],
   "source": [
    "# We plot the result\n",
    "# We see that the RNN did a nice job, but as we go further away in time\n",
    "# the result is worse; that is to be expected,\n",
    "# because we are prediction on top of predicted data as we step forward\n",
    "test.plot(figsize=(10,5))"
   ]
  },
  {
   "cell_type": "markdown",
   "id": "e4255add-1942-4a36-b6d9-d36689f71c1a",
   "metadata": {},
   "source": [
    "## 3. Sine-Wave Prediction with LSTM units + EarlyStopping"
   ]
  },
  {
   "cell_type": "markdown",
   "id": "2dbaff90-fd4a-4a65-95fa-5a0f65db35dd",
   "metadata": {},
   "source": [
    "The previous implementation required a long time for traning.\n",
    "We are going to check how it is possible to improve the results using **LSTM units and early stopping**."
   ]
  },
  {
   "cell_type": "code",
   "execution_count": 96,
   "id": "9083d123-c1c5-4f20-acf4-60a174a89d65",
   "metadata": {},
   "outputs": [],
   "source": [
    "from tensorflow.keras.callbacks import EarlyStopping"
   ]
  },
  {
   "cell_type": "code",
   "execution_count": 98,
   "id": "f34c529c-0c7f-494c-8a1e-444dc2fb8267",
   "metadata": {},
   "outputs": [],
   "source": [
    "early_stop = EarlyStopping(monitor='val_loss',patience=2)"
   ]
  },
  {
   "cell_type": "code",
   "execution_count": 32,
   "id": "13a64806-6ad3-416c-9eb7-2b1be4880a5a",
   "metadata": {},
   "outputs": [],
   "source": [
    "# We need to create a valudation generator\n",
    "# BUT: now, our legth needs to be smaller than the size of the test split\n",
    "# otherwise we cannot sample in the test split for validation.\n",
    "# Therefore, we re-define our training generator too, with a new length\n",
    "# (it needs to be at least 1 elemen shorter)\n",
    "# Note: both the training and validation ggenerators take the same length!\n",
    "length = 49\n",
    "generator = TimeseriesGenerator(scaled_train,\n",
    "                               scaled_train,\n",
    "                               length=length,\n",
    "                               batch_size=1)\n",
    "validation_generator = TimeseriesGenerator(scaled_test,\n",
    "                                          scaled_test,\n",
    "                                          length=length,\n",
    "                                          batch_size=1)"
   ]
  },
  {
   "cell_type": "code",
   "execution_count": 104,
   "id": "63d60a9d-d52b-42f5-b2f9-47a91abd1fd1",
   "metadata": {},
   "outputs": [],
   "source": [
    "from tensorflow.keras.models import Sequential"
   ]
  },
  {
   "cell_type": "code",
   "execution_count": 105,
   "id": "d1e37b14-a2c0-4bdb-b0b1-f8c5a8af2d56",
   "metadata": {},
   "outputs": [],
   "source": [
    "from tensorflow.keras.layers import Dense,SimpleRNN,LSTM"
   ]
  },
  {
   "cell_type": "code",
   "execution_count": 107,
   "id": "e9ab041a-131e-492d-916e-14edaa8cbba6",
   "metadata": {},
   "outputs": [],
   "source": [
    "n_features = 1\n",
    "model = Sequential()\n",
    "# We need to link the units to the length: same number, double, etc.\n",
    "# Now, we use LSTM instead of SimpleRNN\n",
    "model.add(LSTM(units=100,input_shape=(length,n_features)))\n",
    "# We want our output to be a single number\n",
    "model.add(Dense(1))\n",
    "# Loss function for continuous values: MSE\n",
    "model.compile(optimizer='adam',loss='mse')"
   ]
  },
  {
   "cell_type": "code",
   "execution_count": 110,
   "id": "4a8fa46b-01ac-44a0-95da-0067b66990b7",
   "metadata": {},
   "outputs": [
    {
     "name": "stdout",
     "output_type": "stream",
     "text": [
      "Epoch 1/20\n",
      "402/402 [==============================] - 262s 651ms/step - loss: 0.0126 - val_loss: 2.1070e-05\n",
      "Epoch 2/20\n",
      "402/402 [==============================] - 206s 512ms/step - loss: 1.5970e-04 - val_loss: 2.5663e-06\n",
      "Epoch 3/20\n",
      "402/402 [==============================] - 204s 508ms/step - loss: 7.3569e-04 - val_loss: 6.7972e-05\n",
      "Epoch 4/20\n",
      "402/402 [==============================] - 204s 509ms/step - loss: 6.4677e-05 - val_loss: 1.6938e-05\n"
     ]
    },
    {
     "data": {
      "text/plain": [
       "<tensorflow.python.keras.callbacks.History at 0x7fdc49ddcb10>"
      ]
     },
     "execution_count": 110,
     "metadata": {},
     "output_type": "execute_result"
    }
   ],
   "source": [
    "# We train with an early stop callback\n",
    "model.fit_generator(generator,\n",
    "                    epochs=20,\n",
    "                    validation_data=validation_generator,\n",
    "                    callbacks=[early_stop])"
   ]
  },
  {
   "cell_type": "code",
   "execution_count": 112,
   "id": "035bd698-edce-4e14-bf6e-c6318ef1d7ba",
   "metadata": {},
   "outputs": [],
   "source": [
    "# After training, we forecast into the future in the test split\n",
    "test_predictions = []\n",
    "current_batch = scaled_train[-length:].reshape((1,length,n_features))\n",
    "# We need to refresh our current_batch, move it forward in time:\n",
    "# We need to keep appending all the values of the previous current_batch, but\n",
    "# - we remove first\n",
    "# - we add the last predicted to the end\n",
    "for i in range(len(test)):\n",
    "    predicted = model.predict(current_batch)[0]\n",
    "    test_predictions.append(predicted)\n",
    "    # We move the current_batch one step forward, as said above\n",
    "    # Be careful with the brackets and the slicing:\n",
    "    # we're working with tensors that have several dimensions\n",
    "    current_batch = np.append(current_batch[:,1:,:],[[predicted]],axis=1)"
   ]
  },
  {
   "cell_type": "code",
   "execution_count": 113,
   "id": "6eb90e57-54b9-4836-b086-e78c25912954",
   "metadata": {},
   "outputs": [
    {
     "data": {
      "text/plain": [
       "array([[ 0.90135338],\n",
       "       [ 0.93843587],\n",
       "       [ 0.96591125],\n",
       "       [ 0.98342867],\n",
       "       [ 0.99083139],\n",
       "       [ 0.98811523],\n",
       "       [ 0.9754069 ],\n",
       "       [ 0.9529502 ],\n",
       "       [ 0.92108617],\n",
       "       [ 0.8802386 ],\n",
       "       [ 0.83089923],\n",
       "       [ 0.77361605],\n",
       "       [ 0.70898391],\n",
       "       [ 0.63763748],\n",
       "       [ 0.56024577],\n",
       "       [ 0.47750958],\n",
       "       [ 0.39016003],\n",
       "       [ 0.29895946],\n",
       "       [ 0.20470107],\n",
       "       [ 0.10821206],\n",
       "       [ 0.0103537 ],\n",
       "       [-0.08797666],\n",
       "       [-0.18584688],\n",
       "       [-0.28229268],\n",
       "       [-0.37632422],\n",
       "       [-0.46693656],\n",
       "       [-0.55312445],\n",
       "       [-0.63390174],\n",
       "       [-0.70832389],\n",
       "       [-0.7755115 ],\n",
       "       [-0.83467428],\n",
       "       [-0.88513088],\n",
       "       [-0.92632493],\n",
       "       [-0.95783468],\n",
       "       [-0.97937652],\n",
       "       [-0.99080302],\n",
       "       [-0.99209582],\n",
       "       [-0.98335534],\n",
       "       [-0.96478886],\n",
       "       [-0.93669715],\n",
       "       [-0.89946239],\n",
       "       [-0.85353648],\n",
       "       [-0.7994311 ],\n",
       "       [-0.73770976],\n",
       "       [-0.66898181],\n",
       "       [-0.59389763],\n",
       "       [-0.51314624],\n",
       "       [-0.42745339],\n",
       "       [-0.33758151],\n",
       "       [-0.24432936]])"
      ]
     },
     "execution_count": 113,
     "metadata": {},
     "output_type": "execute_result"
    }
   ],
   "source": [
    "# We have our predictions for the entire test range now\n",
    "# but first we nee to unscale them\n",
    "#test_predictions\n",
    "true_predictions = scaler.inverse_transform(test_predictions)\n",
    "true_predictions"
   ]
  },
  {
   "cell_type": "code",
   "execution_count": 114,
   "id": "624ee843-8587-45b4-96b0-4c0159627e72",
   "metadata": {},
   "outputs": [
    {
     "name": "stderr",
     "output_type": "stream",
     "text": [
      "/Users/mxagar/opt/anaconda3/envs/tf/lib/python3.7/site-packages/ipykernel_launcher.py:3: SettingWithCopyWarning: \n",
      "A value is trying to be set on a copy of a slice from a DataFrame.\n",
      "Try using .loc[row_indexer,col_indexer] = value instead\n",
      "\n",
      "See the caveats in the documentation: https://pandas.pydata.org/pandas-docs/stable/user_guide/indexing.html#returning-a-view-versus-a-copy\n",
      "  This is separate from the ipykernel package so we can avoid doing imports until\n"
     ]
    }
   ],
   "source": [
    "# We extend the test dataframe withth eunscaled (true) predictions\n",
    "# We can ignore the warning\n",
    "test['LSTM Predictions'] = true_predictions"
   ]
  },
  {
   "cell_type": "code",
   "execution_count": 116,
   "id": "ec3fd86b-b447-4888-852a-8fa589518937",
   "metadata": {},
   "outputs": [
    {
     "data": {
      "text/plain": [
       "<AxesSubplot:>"
      ]
     },
     "execution_count": 116,
     "metadata": {},
     "output_type": "execute_result"
    },
    {
     "data": {
      "image/png": "[encoded data removed]",
      "text/plain": [
       "<Figure size 720x360 with 1 Axes>"
      ]
     },
     "metadata": {
      "needs_background": "light"
     },
     "output_type": "display_data"
    }
   ],
   "source": [
    "# Now we plot our results\n",
    "# Ground truth (Sine), SimpleRNN predictions, LSTM predictions\n",
    "# We see that LSTMs seem to yield the best results\n",
    "test.plot(figsize=(10,5))"
   ]
  },
  {
   "cell_type": "markdown",
   "id": "9bdb1aaf-3f08-4391-ac16-963518bb64bf",
   "metadata": {},
   "source": [
    "## 4. Forecasting"
   ]
  },
  {
   "cell_type": "markdown",
   "id": "84d58961-abe6-4fab-b69a-2c1823a0f214",
   "metadata": {},
   "source": [
    "After we have checked whether our model works, we train it with the complete dataset to forecast into the future.\n",
    "For that, we basically modify the code we've generated so far."
   ]
  },
  {
   "cell_type": "code",
   "execution_count": 117,
   "id": "24a9df21-cb6e-4048-a330-4be84739897b",
   "metadata": {},
   "outputs": [],
   "source": [
    "from sklearn.preprocessing import MinMaxScaler"
   ]
  },
  {
   "cell_type": "code",
   "execution_count": 119,
   "id": "122f3961-c876-4cb8-b4c3-b88ea07be0a5",
   "metadata": {},
   "outputs": [],
   "source": [
    "full_scaler = MinMaxScaler()"
   ]
  },
  {
   "cell_type": "code",
   "execution_count": 125,
   "id": "f6af22e8-7094-4ec7-8594-95f8bbb95c0f",
   "metadata": {},
   "outputs": [
    {
     "name": "stdout",
     "output_type": "stream",
     "text": [
      "<class 'pandas.core.frame.DataFrame'>\n",
      "Float64Index: 501 entries, 0.0 to 50.0\n",
      "Data columns (total 1 columns):\n",
      " #   Column  Non-Null Count  Dtype  \n",
      "---  ------  --------------  -----  \n",
      " 0   Sine    501 non-null    float64\n",
      "dtypes: float64(1)\n",
      "memory usage: 7.8 KB\n"
     ]
    }
   ],
   "source": [
    "# The dataframe df contains the whole dataset\n",
    "df.info()"
   ]
  },
  {
   "cell_type": "code",
   "execution_count": 126,
   "id": "d840779d-2e4d-4cb8-ab93-9d1313b8b4ca",
   "metadata": {},
   "outputs": [],
   "source": [
    "scaled_full_data = full_scaler.fit_transform(df)"
   ]
  },
  {
   "cell_type": "code",
   "execution_count": 128,
   "id": "3e90cb02-f177-4f62-b057-06d8117e2363",
   "metadata": {},
   "outputs": [],
   "source": [
    "# We create our generator with the scaled full data\n",
    "from tensorflow.keras.preprocessing.sequence import TimeseriesGenerator"
   ]
  },
  {
   "cell_type": "code",
   "execution_count": 129,
   "id": "7aca0852-46e8-443a-aada-2a778a21b557",
   "metadata": {},
   "outputs": [],
   "source": [
    "length = 50\n",
    "batch_size = 1\n",
    "generator = TimeseriesGenerator(data=scaled_full_data,\n",
    "                                targets=scaled_full_data,\n",
    "                                length=length,\n",
    "                                batch_size=batch_size)"
   ]
  },
  {
   "cell_type": "code",
   "execution_count": 130,
   "id": "57f75047-b2f5-4dca-8d88-16ace23612d7",
   "metadata": {},
   "outputs": [],
   "source": [
    "# We copy/create our model with the LSTM units\n",
    "from tensorflow.keras.models import Sequential\n",
    "from tensorflow.keras.layers import Dense,SimpleRNN,LSTM"
   ]
  },
  {
   "cell_type": "code",
   "execution_count": 131,
   "id": "4db0a5ae-c8fb-43ec-981f-00586f46a845",
   "metadata": {},
   "outputs": [],
   "source": [
    "n_features = 1\n",
    "model = Sequential()\n",
    "model.add(LSTM(units=100,input_shape=(length,n_features)))\n",
    "model.add(Dense(1))\n",
    "model.compile(optimizer='adam',loss='mse')"
   ]
  },
  {
   "cell_type": "code",
   "execution_count": 132,
   "id": "32912de0-77f8-47f6-b501-4333e7131283",
   "metadata": {},
   "outputs": [
    {
     "name": "stdout",
     "output_type": "stream",
     "text": [
      "Epoch 1/4\n",
      "451/451 [==============================] - 231s 513ms/step - loss: 0.0045\n",
      "Epoch 2/4\n",
      "451/451 [==============================] - 234s 519ms/step - loss: 4.2974e-04\n",
      "Epoch 3/4\n",
      "451/451 [==============================] - 234s 519ms/step - loss: 6.2929e-05\n",
      "Epoch 4/4\n",
      "451/451 [==============================] - 233s 517ms/step - loss: 3.9421e-04\n"
     ]
    },
    {
     "data": {
      "text/plain": [
       "<tensorflow.python.keras.callbacks.History at 0x7fdc3e1687d0>"
      ]
     },
     "execution_count": 132,
     "metadata": {},
     "output_type": "execute_result"
    }
   ],
   "source": [
    "# We train it, this time without early stopping;\n",
    "# instead we train the number of epochs before the early stop before\n",
    "model.fit_generator(generator,\n",
    "                    epochs=4)"
   ]
  },
  {
   "cell_type": "code",
   "execution_count": 148,
   "id": "1cd27442-af01-44a2-81ce-c2436b972c34",
   "metadata": {},
   "outputs": [],
   "source": [
    "# After training, we forecast into the future the range we want\n",
    "forecast = []\n",
    "steps_into_future = 100\n",
    "current_batch = scaled_full_data[-length:].reshape((1,length,n_features))\n",
    "for i in range(steps_into_future):\n",
    "    predicted = model.predict(current_batch)[0]\n",
    "    forecast.append(predicted)\n",
    "    current_batch = np.append(current_batch[:,1:,:],[[predicted]],axis=1)"
   ]
  },
  {
   "cell_type": "code",
   "execution_count": 149,
   "id": "ef841006-3ea3-4a59-8c84-93700071595f",
   "metadata": {},
   "outputs": [],
   "source": [
    "# We inverse the scaling\n",
    "forecast = scaler.inverse_transform(forecast)"
   ]
  },
  {
   "cell_type": "code",
   "execution_count": 150,
   "id": "49169ee6-3f99-4418-a2b9-28a84e52fa70",
   "metadata": {},
   "outputs": [],
   "source": [
    "# Now we plot it\n",
    "# Since we finish at 50.0 with stapsize 0.1 in our full dataset\n",
    "# and we have steps_into_future steps, we start at 50.1 until 50.1+steps_into_future*0.1\n",
    "forecast_index = np.arange(50.1,50.1+steps_into_future*0.1,step=0.1)"
   ]
  },
  {
   "cell_type": "code",
   "execution_count": 151,
   "id": "6aa21119-fd6b-4d12-a420-3b16f20a0859",
   "metadata": {},
   "outputs": [
    {
     "name": "stdout",
     "output_type": "stream",
     "text": [
      "100 100\n"
     ]
    }
   ],
   "source": [
    "# Check lengths\n",
    "print(len(forecast),len(forecast_index))"
   ]
  },
  {
   "cell_type": "code",
   "execution_count": 152,
   "id": "eb21e0cf-f12a-457f-97e6-f043036a1f9b",
   "metadata": {},
   "outputs": [
    {
     "data": {
      "text/plain": [
       "[<matplotlib.lines.Line2D at 0x7fdc3f5a1610>]"
      ]
     },
     "execution_count": 152,
     "metadata": {},
     "output_type": "execute_result"
    },
    {
     "data": {
      "image/png": "[encoded data removed]",
      "text/plain": [
       "<Figure size 432x288 with 1 Axes>"
      ]
     },
     "metadata": {
      "needs_background": "light"
     },
     "output_type": "display_data"
    }
   ],
   "source": [
    "plt.plot(df.index,df['Sine'])\n",
    "plt.plot(forecast_index,forecast)"
   ]
  },
  {
   "cell_type": "code",
   "execution_count": null,
   "id": "1e5e48b4-cab7-467b-9fc7-8fb764d81ef6",
   "metadata": {},
   "outputs": [],
   "source": []
  }
 ],
 "metadata": {
  "kernelspec": {
   "display_name": "Python 3 (ipykernel)",
   "language": "python",
   "name": "python3"
  },
  "language_info": {
   "codemirror_mode": {
    "name": "ipython",
    "version": 3
   },
   "file_extension": ".py",
   "mimetype": "text/x-python",
   "name": "python",
   "nbconvert_exporter": "python",
   "pygments_lexer": "ipython3",
   "version": "3.7.11"
  }
 },
 "nbformat": 4,
 "nbformat_minor": 5
}
