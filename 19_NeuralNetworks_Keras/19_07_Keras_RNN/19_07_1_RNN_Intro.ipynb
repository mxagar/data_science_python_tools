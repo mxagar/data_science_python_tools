{
 "cells": [
  {
   "cell_type": "markdown",
   "id": "b055a9c0-b4d4-437b-b815-0af26d2ba5a6",
   "metadata": {},
   "source": [
    "# Recurrent Neural Networks: Introduction"
   ]
  },
  {
   "cell_type": "markdown",
   "id": "fd47d5ef-2c02-41df-99ff-74d3fe34d138",
   "metadata": {},
   "source": [
    "While CNNs work with filters or kernels that are applied in local patches of our data, RNNs work with sequences of data in which the order is important.\n",
    "We have a sequence of elements (e.g., a time series or a sentence of words) and the goal of a RNN is to predict the next element(s) given the sequence, i.e., we want to forecast.\n",
    "\n",
    "**Overview of the Notebook**\n",
    "1. Some Notes on the Theory\n",
    "2. Sine-Wave Prediction"
   ]
  },
  {
   "cell_type": "markdown",
   "id": "690273a1-2fc0-4231-96f3-8d083d754433",
   "metadata": {},
   "source": [
    "## 1. Some Notes on the Theory"
   ]
  },
  {
   "cell_type": "markdown",
   "id": "4aff44dc-39e6-4941-9b4a-e03a3a03135a",
   "metadata": {},
   "source": [
    "### (Very) Basic Theory\n",
    "\n",
    "Examples of sequences: time series (e.g., sales), sentences, audio, car trajectories, music, etc.\n",
    "\n",
    "Note that the **order or history is important; actually that's one of the tings is supposed to be understood/learnt.**\n",
    "From that intuitive idea, we can derive how a recurrent neuron of a RNN is built: **previous outputs are fed back as inputs!**\n",
    "\n",
    "Some properties:\n",
    "- Recurrent neurons are also called *memory cells*\n",
    "- RNNs are very flexible in terms of how outputs are converted into inputs\n",
    "    - We can pass single vector of values\n",
    "    - We can pass a sequence\n",
    "    - We can pass entire layer outputs as inputs again to the same layer\n",
    "- Typical architectures\n",
    "    - **Sequence-to-sequence** (aka. *many to many*): we pass a sequence and exppect a sequence. For example, we could train a chatbot with Q-A sequences.\n",
    "    - **Sequence-to-vector** (aka. *many to one*): we pass a sequence and expect an element. For example, we can use that architecture to generate text.\n",
    "    - **Vector-to-sequence** (aka. *one to many*): for instance, given a word, predict the next 5.\n",
    "- Major drawbacks of RNNs:\n",
    "    1. The **vanishing gradient**, as in all other ANNs.\n",
    "    2. We pass the previous output as input, so **we forget older elements**. It would be great to keep track of longer history, not only the short-term one. The **Long Short Term Memory Units (LSTMs)** address that."
   ]
  },
  {
   "cell_type": "markdown",
   "id": "ea0566aa-6b6d-41c0-ba3a-24db8e7416bc",
   "metadata": {},
   "source": [
    "### Exploding and Vanishing Gradients\n",
    "\n",
    "Complex data usually requires more complex architectures that consist of more hidden layers.\n",
    "\n",
    "When we train, we iteratively compute the derivative of the error (i.e., the difference between the expected and predicted output) with respect to the weights.\n",
    "That error derivative is backpropagated to the neuron weights using the rule of chain and each weight is updated so that the error becomes smaller.\n",
    "**Since we use the rule of chain for computing the derivative, we have chained multiplications of values; if the multiplied values are small, the resulting gradient becomes very small (it vanishes), and it becomes gigant if the values are big (it explodes).**\n",
    "That is not desired, since we cannot accurately control how to change the weights: usually, too small insignificant changes are computed due to the vanishing gradient, especially closer to the input layers. Thus, basic patterns that should be detected in the first layers are not learnt!\n",
    "\n",
    "The vanishing gradient is particularly string in RNNs.\n",
    "\n",
    "Some points to take into account regarding the the **vanishing gradient**:\n",
    "- The **sigmoid activation** makes the vanishing gradient worse: we squeeze/map the signals to the [0,1] region, but the slope (i.e., derivative) of the activation function is very small!\n",
    "    - Better, use the ReLu (rectified linear unit): max(x,0).\n",
    "    - Other options: leaky ReLu, ELU, etc.\n",
    "- **Batch normalization** avoids also the vanishing gradient: batches of samples are normalized using the mean and the standard deviation of the batch.\n",
    "- **Xavier initialization**: a method for choosing different initial weight values. Basically, initial values are set to belong to a uniform distribution scaled by `sqrt(6)/sqrt(in + out connections)`; it improves alleviates diminishing gradients.\n",
    "- **Gradient clipping**: we clip a gradient when it reaches a given limit value; a drity trick that seems to work sometimes.\n",
    "- **LSTM units** also reduce the phenomenon of the vanishing gradient, apart from bringing some advantages to reguar recursive neurons. However, exploding gradients can still occur."
   ]
  },
  {
   "cell_type": "markdown",
   "id": "afbdfbd2-21e2-4cab-b67d-a7772393b47b",
   "metadata": {},
   "source": [
    "### LSTM and GRU: Long Short Term Memory Units and Gated Recurrent Units"
   ]
  },
  {
   "cell_type": "markdown",
   "id": "a53fdeec-afa3-41dd-986f-5345585e2913",
   "metadata": {},
   "source": [
    "A simple recursive neuron takes its previous output $h(t-1)$ as additional input to the regular input $x(t)$.\n",
    "The output $h(t)$ is usually computed by multiplying the weights to the concatenated inputs and applying the hyperbilic tangent as activation function:\n",
    "\n",
    "$h(t) = \\mathrm{tanh}(w\\cdot[h(t-1)^{T},x(t)^{T}]^{T} + b)$\n",
    "\n",
    "Recall that since the structures of RNNs are quite flexible, we could do that per neuron or per layer.\n",
    "\n",
    "A **long short term memory** neuron is more sophisticated, as it consits of three entries and two exits:\n",
    "\n",
    "- As recurrent outputs, we have short-term ($h$) and long-term ($c$) memory signals; their output value at time $t-1$ is also input at time $t$\n",
    "- The short-term output $h$ is also the output that goes to the next neuron/layer\n",
    "- Additionally we have the regular input $x$ coming from previous neurons/layers\n",
    "\n",
    "Internally, several gates (paths) are distinguished (forget, input/update, output).\n",
    "The general idea is that irrelevant signals are forgotten, while relevant data is preserved;\n",
    "that is achieved by appliying sigmoid and tanh activations to the values and performing summations and mutiplications between them.\n",
    "\n",
    "The following figure from the Wikipedia displays the internal operations:\n",
    "\n",
    "![LSTM cell - source: Wikipedia](pics/LSTM_Cell.png)\n",
    "\n",
    "Image Source: [Wikipedia article on LSTM](https://en.wikipedia.org/wiki/Long_short-term_memory)\n",
    "\n",
    "There are several variations of that LSTM unit, such as\n",
    "- **Peephole** units, which concatenate internal values\n",
    "- **Gated Recurrent Units (GRUs)**, which combine forget an input gates to a single upddate gate, simplifying the unit\n",
    "\n",
    "Although LSTMs are the default units used in RNNs, GRUs are getting more attention and are being deploying more and more lately.\n",
    "\n",
    "![GRU cell - source: Wikipedia](pics/GRU_Cell.png)\n",
    "\n",
    "Image Source: [Wikipedia article on GRU](https://en.wikipedia.org/wiki/Gated_recurrent_unit)"
   ]
  },
  {
   "cell_type": "markdown",
   "id": "86ff28d5-1516-4fd8-985b-e308a042c0f4",
   "metadata": {},
   "source": [
    "### Interesting Links\n",
    "\n",
    "- [The Unreasonable Effectiveness of Recurrent Neural Networks, by Andrej Karpathy](http://karpathy.github.io/2015/05/21/rnn-effectiveness/)\n",
    "- [Exploring LSTMs, by Edwin Chen](http://blog.echen.me/2017/05/30/exploring-lstms/)\n",
    "- [When to use GRU over LSTM? Stackexchange](https://datascience.stackexchange.com/questions/14581/when-to-use-gru-over-lstm)"
   ]
  },
  {
   "cell_type": "markdown",
   "id": "da9bb462-3ad5-4dd2-becc-73edd3934da2",
   "metadata": {},
   "source": [
    "### Practical Considerations with Time Series\n",
    "\n",
    "- Time series on which we'd like to learn and predict need to have underlying patterns\n",
    "- Enough data needs to be used to be fed to the network to learn all trends and seasonality components\n",
    "    - We have a general trend component, lower frequency\n",
    "    - We have also a seasonality component, higher frequency\n",
    "- Thus, domain knowledge and experience is often necessary\n",
    "- One possible approach is to work in batches of datapoints which are like windows in time and to predict one datapoint in the future for the given batch\n",
    "    - Complete sequence: [0,1,2,3,4,5,6,7,8,9]\n",
    "    - One possible batch: in [0,1,2,3], prediction [4]\n",
    "    - Another batch: in [1,2,3,4], prediction [5]\n",
    "    - If we want to predict more than one data point, we incorporate the prediction to our in batch removing the eldest datapoint\n",
    "        - [6,7,8,9] -> [10]\n",
    "        - [7,8,9,10] -> [11.1]\n",
    "        - [8,9,10,11.1] -> [12.2]\n",
    "        - ...\n",
    "        - The further we go in time, the worse the prediction is expected to be!"
   ]
  },
  {
   "cell_type": "markdown",
   "id": "556b10cf-7558-4a0c-8dd8-b3e3460cfd8e",
   "metadata": {},
   "source": [
    "## 2. Sine Wave Prediction"
   ]
  },
  {
   "cell_type": "code",
   "execution_count": 24,
   "id": "3799d000-7997-41c6-92b3-5fcfc7fd0630",
   "metadata": {},
   "outputs": [],
   "source": [
    "import pandas as pd\n",
    "import numpy as np\n",
    "%matplotlib inline\n",
    "import matplotlib.pyplot as plt"
   ]
  },
  {
   "cell_type": "markdown",
   "id": "53706a74-01da-4d98-9a3a-d7b423b873da",
   "metadata": {},
   "source": [
    "### 2.1 Create/Load the Dataset"
   ]
  },
  {
   "cell_type": "code",
   "execution_count": 5,
   "id": "87d83b68-52c8-41b0-bcf2-8a4d220571b1",
   "metadata": {},
   "outputs": [],
   "source": [
    "# First, we create our sine wave: y = sin(x)\n",
    "x = np.linspace(0,50,501)"
   ]
  },
  {
   "cell_type": "code",
   "execution_count": 6,
   "id": "4060f14a-960c-48b3-8b9a-17f4598ac019",
   "metadata": {},
   "outputs": [],
   "source": [
    "y = np.sin(x)"
   ]
  },
  {
   "cell_type": "code",
   "execution_count": 7,
   "id": "5cc5ca0a-ddc1-409b-8cbe-af8368071c5d",
   "metadata": {},
   "outputs": [
    {
     "data": {
      "text/plain": [
       "[<matplotlib.lines.Line2D at 0x7f9b70dc3cd0>]"
      ]
     },
     "execution_count": 7,
     "metadata": {},
     "output_type": "execute_result"
    },
    {
     "data": {
      "image/png": "[encoded data removed]",
      "text/plain": [
       "<Figure size 432x288 with 1 Axes>"
      ]
     },
     "metadata": {
      "needs_background": "light"
     },
     "output_type": "display_data"
    }
   ],
   "source": [
    "plt.plot(x,y)"
   ]
  },
  {
   "cell_type": "code",
   "execution_count": 10,
   "id": "08305863-c4ec-4932-b220-29955e717901",
   "metadata": {},
   "outputs": [],
   "source": [
    "# We conver our sine wave to be our dataset / dataframe\n",
    "df = pd.DataFrame(data=y,index=x,columns=[\"Sine\"])"
   ]
  },
  {
   "cell_type": "code",
   "execution_count": 25,
   "id": "813972f5-bfda-420f-b41a-980ed05174c9",
   "metadata": {},
   "outputs": [
    {
     "data": {
      "text/html": [
       "<div>\n",
       "<style scoped>\n",
       "    .dataframe tbody tr th:only-of-type {\n",
       "        vertical-align: middle;\n",
       "    }\n",
       "\n",
       "    .dataframe tbody tr th {\n",
       "        vertical-align: top;\n",
       "    }\n",
       "\n",
       "    .dataframe thead th {\n",
       "        text-align: right;\n",
       "    }\n",
       "</style>\n",
       "<table border=\"1\" class=\"dataframe\">\n",
       "  <thead>\n",
       "    <tr style=\"text-align: right;\">\n",
       "      <th></th>\n",
       "      <th>Sine</th>\n",
       "    </tr>\n",
       "  </thead>\n",
       "  <tbody>\n",
       "    <tr>\n",
       "      <th>0.0</th>\n",
       "      <td>0.000000</td>\n",
       "    </tr>\n",
       "    <tr>\n",
       "      <th>0.1</th>\n",
       "      <td>0.099833</td>\n",
       "    </tr>\n",
       "    <tr>\n",
       "      <th>0.2</th>\n",
       "      <td>0.198669</td>\n",
       "    </tr>\n",
       "    <tr>\n",
       "      <th>0.3</th>\n",
       "      <td>0.295520</td>\n",
       "    </tr>\n",
       "    <tr>\n",
       "      <th>0.4</th>\n",
       "      <td>0.389418</td>\n",
       "    </tr>\n",
       "  </tbody>\n",
       "</table>\n",
       "</div>"
      ],
      "text/plain": [
       "         Sine\n",
       "0.0  0.000000\n",
       "0.1  0.099833\n",
       "0.2  0.198669\n",
       "0.3  0.295520\n",
       "0.4  0.389418"
      ]
     },
     "execution_count": 25,
     "metadata": {},
     "output_type": "execute_result"
    }
   ],
   "source": [
    "df.head()"
   ]
  },
  {
   "cell_type": "markdown",
   "id": "ecfe069f-22e4-4e81-832c-c6e1f7cb4810",
   "metadata": {},
   "source": [
    "### 2.2 Define the train/test split"
   ]
  },
  {
   "cell_type": "code",
   "execution_count": 12,
   "id": "77be466b-33a1-44d0-b0f0-74e05ba5fd0e",
   "metadata": {},
   "outputs": [
    {
     "data": {
      "text/plain": [
       "501"
      ]
     },
     "execution_count": 12,
     "metadata": {},
     "output_type": "execute_result"
    }
   ],
   "source": [
    "len(df)"
   ]
  },
  {
   "cell_type": "code",
   "execution_count": 14,
   "id": "ac0c81fc-d671-4f1f-a4b2-e00e9dbb692d",
   "metadata": {},
   "outputs": [],
   "source": [
    "# We choose a percent of the dataset to be the test set\n",
    "# That percent is taken from the end of the dataset\n",
    "test_percent = 0.1"
   ]
  },
  {
   "cell_type": "code",
   "execution_count": 15,
   "id": "eb5e445e-7d6f-4009-a6df-8f1531c97112",
   "metadata": {},
   "outputs": [],
   "source": [
    "test_point = np.round(len(df)*test_percent)"
   ]
  },
  {
   "cell_type": "code",
   "execution_count": 16,
   "id": "a08a8747-9882-454f-b279-ec1361d0e389",
   "metadata": {},
   "outputs": [
    {
     "data": {
      "text/plain": [
       "50.0"
      ]
     },
     "execution_count": 16,
     "metadata": {},
     "output_type": "execute_result"
    }
   ],
   "source": [
    "test_point"
   ]
  },
  {
   "cell_type": "code",
   "execution_count": 17,
   "id": "9bc646c2-e809-450e-a12b-72c5ddbd2d50",
   "metadata": {},
   "outputs": [],
   "source": [
    "test_ind = int(len(df)-test_point)"
   ]
  },
  {
   "cell_type": "code",
   "execution_count": 26,
   "id": "c6b052e4-db52-48e2-a5f5-b392a81da9b5",
   "metadata": {},
   "outputs": [],
   "source": [
    "train = df.iloc[:test_ind]\n",
    "test = df.iloc[test_ind:]"
   ]
  },
  {
   "cell_type": "markdown",
   "id": "8c45e4c9-0bc4-4918-933c-548cfeca59aa",
   "metadata": {},
   "source": [
    "### 2.3 Scale the Data"
   ]
  },
  {
   "cell_type": "code",
   "execution_count": 19,
   "id": "e7c86cdb-2ea6-4fad-bd60-16867a12d12b",
   "metadata": {},
   "outputs": [],
   "source": [
    "# Now, we need to scale our data\n",
    "from sklearn.preprocessing import MinMaxScaler"
   ]
  },
  {
   "cell_type": "code",
   "execution_count": 20,
   "id": "1c5c5458-7149-4168-98b0-cbef8f60d779",
   "metadata": {},
   "outputs": [],
   "source": [
    "scaler = MinMaxScaler()"
   ]
  },
  {
   "cell_type": "code",
   "execution_count": 21,
   "id": "744d17c0-42d4-4124-b140-0fcb601c7ff7",
   "metadata": {},
   "outputs": [
    {
     "data": {
      "text/plain": [
       "MinMaxScaler()"
      ]
     },
     "execution_count": 21,
     "metadata": {},
     "output_type": "execute_result"
    }
   ],
   "source": [
    "scaler.fit(train)"
   ]
  },
  {
   "cell_type": "code",
   "execution_count": 22,
   "id": "51475b21-fede-4040-94b6-5a90d0fc1df6",
   "metadata": {},
   "outputs": [],
   "source": [
    "scaled_train = scaler.transform(train)"
   ]
  },
  {
   "cell_type": "code",
   "execution_count": 23,
   "id": "5ca3585f-2b04-49b8-9af4-f84133072f18",
   "metadata": {},
   "outputs": [],
   "source": [
    "scaled_test = scaler.transform(test)"
   ]
  },
  {
   "cell_type": "markdown",
   "id": "6160a766-6237-4032-8b2f-0cc00a655135",
   "metadata": {},
   "source": [
    "### 2.4 Define the Batches with a Generator"
   ]
  },
  {
   "cell_type": "code",
   "execution_count": 29,
   "id": "b4f42463-28f7-4728-8f81-c6a879aa67a9",
   "metadata": {},
   "outputs": [],
   "source": [
    "# We create batches using a very helpful class that provides a generator\n",
    "from tensorflow.keras.preprocessing.sequence import TimeseriesGenerator"
   ]
  },
  {
   "cell_type": "code",
   "execution_count": 48,
   "id": "e8373288-7863-436f-929e-0a0ad3082539",
   "metadata": {},
   "outputs": [],
   "source": [
    "# Utility class for generating batches of temporal data\n",
    "#help(TimeseriesGenerator)"
   ]
  },
  {
   "cell_type": "code",
   "execution_count": 60,
   "id": "ecb69a4f-bb2e-420e-a771-7b8a4d339510",
   "metadata": {},
   "outputs": [],
   "source": [
    "# Length of output sequences (in number of time steps)\n",
    "# 2: we take 2 datapoints to predict the next\n",
    "# Be aware: the length should be enough to learn ALL major trends + seasonality!\n",
    "# Also: the larger the length, the longer the training time\n",
    "length = 2\n",
    "# Number of timeseries samples in each batch (1 performs well for timeseries)\n",
    "batch_size = 1"
   ]
  },
  {
   "cell_type": "code",
   "execution_count": 61,
   "id": "a9f5b20d-f88f-41c8-81b9-31eff822a1fe",
   "metadata": {},
   "outputs": [],
   "source": [
    "# In our case, the data and the targets are the very same dataset\n",
    "generator = TimeseriesGenerator(data=scaled_train,\n",
    "                                targets=scaled_train,\n",
    "                                length=length,\n",
    "                                batch_size=batch_size)"
   ]
  },
  {
   "cell_type": "code",
   "execution_count": 62,
   "id": "efc7cc63-6d9b-4152-a3e2-8709b47a6e8d",
   "metadata": {},
   "outputs": [
    {
     "data": {
      "text/plain": [
       "451"
      ]
     },
     "execution_count": 62,
     "metadata": {},
     "output_type": "execute_result"
    }
   ],
   "source": [
    "# We explore what the generator does\n",
    "len(scaled_train)"
   ]
  },
  {
   "cell_type": "code",
   "execution_count": 63,
   "id": "6ced3ce5-2124-44b1-838b-e935de525ab1",
   "metadata": {},
   "outputs": [
    {
     "data": {
      "text/plain": [
       "449"
      ]
     },
     "execution_count": 63,
     "metadata": {},
     "output_type": "execute_result"
    }
   ],
   "source": [
    "# The length of the generator will be\n",
    "# len(data) - length\n",
    "# because we can have that much subsets of sequences of the defined length\n",
    "len(generator)"
   ]
  },
  {
   "cell_type": "code",
   "execution_count": 64,
   "id": "c43283c6-63f2-4be5-96db-8333cb7a8eea",
   "metadata": {},
   "outputs": [],
   "source": [
    "# We check the first element of the generator\n",
    "X,y = generator[0]"
   ]
  },
  {
   "cell_type": "code",
   "execution_count": 65,
   "id": "1d80f475-9611-48e5-a7aa-6349b7ea08c7",
   "metadata": {},
   "outputs": [
    {
     "data": {
      "text/plain": [
       "array([[[0.49999912],\n",
       "        [0.54991622]]])"
      ]
     },
     "execution_count": 65,
     "metadata": {},
     "output_type": "execute_result"
    }
   ],
   "source": [
    "X"
   ]
  },
  {
   "cell_type": "code",
   "execution_count": 66,
   "id": "9739dd6b-18c0-4bc7-af14-93d423f20406",
   "metadata": {},
   "outputs": [
    {
     "data": {
      "text/plain": [
       "array([[0.59933458]])"
      ]
     },
     "execution_count": 66,
     "metadata": {},
     "output_type": "execute_result"
    }
   ],
   "source": [
    "y"
   ]
  },
  {
   "cell_type": "code",
   "execution_count": null,
   "id": "b562fca0-7514-453c-b311-d8e418378092",
   "metadata": {},
   "outputs": [],
   "source": []
  }
 ],
 "metadata": {
  "kernelspec": {
   "display_name": "Python 3 (ipykernel)",
   "language": "python",
   "name": "python3"
  },
  "language_info": {
   "codemirror_mode": {
    "name": "ipython",
    "version": 3
   },
   "file_extension": ".py",
   "mimetype": "text/x-python",
   "name": "python",
   "nbconvert_exporter": "python",
   "pygments_lexer": "ipython3",
   "version": "3.7.11"
  }
 },
 "nbformat": 4,
 "nbformat_minor": 5
}
