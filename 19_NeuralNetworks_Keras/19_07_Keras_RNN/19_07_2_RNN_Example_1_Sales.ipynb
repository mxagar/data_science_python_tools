{
 "cells": [
  {
   "cell_type": "markdown",
   "id": "83fd213b-8529-4e36-8a2e-f0e9fafdac7e",
   "metadata": {},
   "source": [
    "# Recurrent Neural Networks: Example 1 - Clothing Sales Dataset"
   ]
  },
  {
   "cell_type": "markdown",
   "id": "10125e34-7724-4536-86fb-9e41b494d138",
   "metadata": {},
   "source": [
    "In this noteboook a real time series dataset is used to build a model and forecast future values.\n",
    "\n",
    "The dataset was downloaded from the FRED website with data on **Retail Sales: Clothing and Clothing Accessory Stores (Not Seasonally Adjusted)**:\n",
    "\n",
    "[https://fred.stlouisfed.org/series/RSCCASN](https://fred.stlouisfed.org/series/RSCCASN)\n",
    "\n",
    "Note that the COVID-19 changes the expected course of the data; therefore, I used the CSV from J.M. Portilla's course, which can be found in the `data` folder:\n",
    "\n",
    "`../../data/RSCCASN.csv`\n",
    "\n",
    "`git_repositories/data_science_python_tools/data/RSCCASN.csv`\n",
    "\n",
    "**Important note 1: it makes sense to have date information instead of date strings to fully handle the time series.\n",
    "Therefore, often date strings need to be converted into datetime type.**\n",
    "\n",
    "**Important note 2: few comments are added here; to see more detailed notes, look at previous notebook.**"
   ]
  },
  {
   "cell_type": "code",
   "execution_count": 30,
   "id": "df13d35c-61ae-479c-b580-07fd13fbfed2",
   "metadata": {},
   "outputs": [],
   "source": [
    "import pandas as pd\n",
    "import numpy as np\n",
    "%matplotlib inline\n",
    "import matplotlib.pyplot as plt"
   ]
  },
  {
   "cell_type": "markdown",
   "id": "3ac77162-359f-4c28-8cd9-ff926b84220f",
   "metadata": {},
   "source": [
    "## 1. Load and prepare the dataset"
   ]
  },
  {
   "cell_type": "code",
   "execution_count": 8,
   "id": "ad2c8cae-d1e2-4b07-aae2-606aa3af9afe",
   "metadata": {},
   "outputs": [],
   "source": [
    "# We load the dataset\n",
    "# We convert the date string to datetime type on the fly\n",
    "# and be set that column to be the index\n",
    "df = pd.read_csv('../../data/RSCCASN.csv',parse_dates=True,index_col='DATE')"
   ]
  },
  {
   "cell_type": "code",
   "execution_count": 9,
   "id": "7e7e1ab2-98c5-44bc-8f7f-4ca6e1d0b6a1",
   "metadata": {},
   "outputs": [
    {
     "name": "stdout",
     "output_type": "stream",
     "text": [
      "<class 'pandas.core.frame.DataFrame'>\n",
      "DatetimeIndex: 334 entries, 1992-01-01 to 2019-10-01\n",
      "Data columns (total 1 columns):\n",
      " #   Column   Non-Null Count  Dtype\n",
      "---  ------   --------------  -----\n",
      " 0   RSCCASN  334 non-null    int64\n",
      "dtypes: int64(1)\n",
      "memory usage: 5.2 KB\n"
     ]
    }
   ],
   "source": [
    "df.info()"
   ]
  },
  {
   "cell_type": "code",
   "execution_count": 10,
   "id": "e30d77d3-0f2d-4314-9709-31f555d8fd73",
   "metadata": {},
   "outputs": [
    {
     "data": {
      "text/html": [
       "<div>\n",
       "<style scoped>\n",
       "    .dataframe tbody tr th:only-of-type {\n",
       "        vertical-align: middle;\n",
       "    }\n",
       "\n",
       "    .dataframe tbody tr th {\n",
       "        vertical-align: top;\n",
       "    }\n",
       "\n",
       "    .dataframe thead th {\n",
       "        text-align: right;\n",
       "    }\n",
       "</style>\n",
       "<table border=\"1\" class=\"dataframe\">\n",
       "  <thead>\n",
       "    <tr style=\"text-align: right;\">\n",
       "      <th></th>\n",
       "      <th>RSCCASN</th>\n",
       "    </tr>\n",
       "    <tr>\n",
       "      <th>DATE</th>\n",
       "      <th></th>\n",
       "    </tr>\n",
       "  </thead>\n",
       "  <tbody>\n",
       "    <tr>\n",
       "      <th>1992-01-01</th>\n",
       "      <td>6938</td>\n",
       "    </tr>\n",
       "    <tr>\n",
       "      <th>1992-02-01</th>\n",
       "      <td>7524</td>\n",
       "    </tr>\n",
       "    <tr>\n",
       "      <th>1992-03-01</th>\n",
       "      <td>8475</td>\n",
       "    </tr>\n",
       "    <tr>\n",
       "      <th>1992-04-01</th>\n",
       "      <td>9401</td>\n",
       "    </tr>\n",
       "    <tr>\n",
       "      <th>1992-05-01</th>\n",
       "      <td>9558</td>\n",
       "    </tr>\n",
       "  </tbody>\n",
       "</table>\n",
       "</div>"
      ],
      "text/plain": [
       "            RSCCASN\n",
       "DATE               \n",
       "1992-01-01     6938\n",
       "1992-02-01     7524\n",
       "1992-03-01     8475\n",
       "1992-04-01     9401\n",
       "1992-05-01     9558"
      ]
     },
     "execution_count": 10,
     "metadata": {},
     "output_type": "execute_result"
    }
   ],
   "source": [
    "df.head()"
   ]
  },
  {
   "cell_type": "code",
   "execution_count": 14,
   "id": "1469d8c2-3608-49da-99f1-5792c5dab9b7",
   "metadata": {},
   "outputs": [],
   "source": [
    "# We change the name of the column so that it's easier to remember\n",
    "# Note that it contains sales in millions by day\n",
    "df.columns = ['Sales']"
   ]
  },
  {
   "cell_type": "code",
   "execution_count": 15,
   "id": "6c14e019-d4b4-46ae-94a8-48aa9c87c6c2",
   "metadata": {},
   "outputs": [
    {
     "data": {
      "text/html": [
       "<div>\n",
       "<style scoped>\n",
       "    .dataframe tbody tr th:only-of-type {\n",
       "        vertical-align: middle;\n",
       "    }\n",
       "\n",
       "    .dataframe tbody tr th {\n",
       "        vertical-align: top;\n",
       "    }\n",
       "\n",
       "    .dataframe thead th {\n",
       "        text-align: right;\n",
       "    }\n",
       "</style>\n",
       "<table border=\"1\" class=\"dataframe\">\n",
       "  <thead>\n",
       "    <tr style=\"text-align: right;\">\n",
       "      <th></th>\n",
       "      <th>Sales</th>\n",
       "    </tr>\n",
       "    <tr>\n",
       "      <th>DATE</th>\n",
       "      <th></th>\n",
       "    </tr>\n",
       "  </thead>\n",
       "  <tbody>\n",
       "    <tr>\n",
       "      <th>1992-01-01</th>\n",
       "      <td>6938</td>\n",
       "    </tr>\n",
       "    <tr>\n",
       "      <th>1992-02-01</th>\n",
       "      <td>7524</td>\n",
       "    </tr>\n",
       "    <tr>\n",
       "      <th>1992-03-01</th>\n",
       "      <td>8475</td>\n",
       "    </tr>\n",
       "    <tr>\n",
       "      <th>1992-04-01</th>\n",
       "      <td>9401</td>\n",
       "    </tr>\n",
       "    <tr>\n",
       "      <th>1992-05-01</th>\n",
       "      <td>9558</td>\n",
       "    </tr>\n",
       "  </tbody>\n",
       "</table>\n",
       "</div>"
      ],
      "text/plain": [
       "            Sales\n",
       "DATE             \n",
       "1992-01-01   6938\n",
       "1992-02-01   7524\n",
       "1992-03-01   8475\n",
       "1992-04-01   9401\n",
       "1992-05-01   9558"
      ]
     },
     "execution_count": 15,
     "metadata": {},
     "output_type": "execute_result"
    }
   ],
   "source": [
    "df.head()"
   ]
  },
  {
   "cell_type": "code",
   "execution_count": 36,
   "id": "eb16c146-d323-4ee0-80e5-e825977c093f",
   "metadata": {},
   "outputs": [
    {
     "data": {
      "text/plain": [
       "<AxesSubplot:xlabel='DATE'>"
      ]
     },
     "execution_count": 36,
     "metadata": {},
     "output_type": "execute_result"
    },
    {
     "data": {
      "image/png": "[encoded data removed]",
      "text/plain": [
       "<Figure size 1152x432 with 1 Axes>"
      ]
     },
     "metadata": {
      "needs_background": "light"
     },
     "output_type": "display_data"
    }
   ],
   "source": [
    "# We can see that a year (12 months or data points) y a cycle or period\n",
    "# which contains the major trend and a seasonality components.\n",
    "# Thus, we need to take that time span into consideration for splitting\n",
    "df.plot(figsize=(16,6))"
   ]
  },
  {
   "cell_type": "markdown",
   "id": "541f88a8-a1e8-40a5-aae7-0b292a40dc48",
   "metadata": {},
   "source": [
    "### Train/Test Split"
   ]
  },
  {
   "cell_type": "code",
   "execution_count": 22,
   "id": "37b27a85-ffb5-4373-968f-f1bf97aa7d55",
   "metadata": {},
   "outputs": [
    {
     "data": {
      "text/plain": [
       "334"
      ]
     },
     "execution_count": 22,
     "metadata": {},
     "output_type": "execute_result"
    }
   ],
   "source": [
    "# Due to the observation above,\n",
    "# we split in the last 1.5 years = 18 months\n",
    "len(df)"
   ]
  },
  {
   "cell_type": "code",
   "execution_count": 23,
   "id": "066a4c41-7d14-4b14-891b-d7a45402dfc8",
   "metadata": {},
   "outputs": [],
   "source": [
    "test_size = 18\n",
    "test_ind = len(df) - test_size"
   ]
  },
  {
   "cell_type": "code",
   "execution_count": 37,
   "id": "54dfdf9f-5d41-4a9c-991d-52f40ea6eb2a",
   "metadata": {},
   "outputs": [],
   "source": [
    "train = df.iloc[:test_ind]\n",
    "test = df.iloc[test_ind:]"
   ]
  },
  {
   "cell_type": "markdown",
   "id": "63fb093f-a6ee-49a6-bfc8-89a75959bb78",
   "metadata": {},
   "source": [
    "### Scaling"
   ]
  },
  {
   "cell_type": "code",
   "execution_count": 25,
   "id": "11d5f384-21d8-48a7-8be3-acd1e57e3c3d",
   "metadata": {},
   "outputs": [],
   "source": [
    "# Now, we need to scale our data\n",
    "from sklearn.preprocessing import MinMaxScaler"
   ]
  },
  {
   "cell_type": "code",
   "execution_count": 26,
   "id": "4a12194f-a76c-47ac-b534-08cd37023f72",
   "metadata": {},
   "outputs": [],
   "source": [
    "scaler = MinMaxScaler()"
   ]
  },
  {
   "cell_type": "code",
   "execution_count": 27,
   "id": "e4839294-3e0a-4691-b274-6713415e64cf",
   "metadata": {},
   "outputs": [
    {
     "data": {
      "text/plain": [
       "MinMaxScaler()"
      ]
     },
     "execution_count": 27,
     "metadata": {},
     "output_type": "execute_result"
    }
   ],
   "source": [
    "scaler.fit(train)"
   ]
  },
  {
   "cell_type": "code",
   "execution_count": 28,
   "id": "2f098cdb-46c7-498f-8264-46cb8e01facc",
   "metadata": {},
   "outputs": [],
   "source": [
    "scaled_train = scaler.transform(train)"
   ]
  },
  {
   "cell_type": "code",
   "execution_count": 38,
   "id": "d7d49a46-bfca-493d-8f5f-31d9149b289e",
   "metadata": {},
   "outputs": [],
   "source": [
    "scaled_test = scaler.transform(test)"
   ]
  },
  {
   "cell_type": "markdown",
   "id": "4811d8be-5011-40ba-99f2-644611595202",
   "metadata": {},
   "source": [
    "### Generator"
   ]
  },
  {
   "cell_type": "code",
   "execution_count": 32,
   "id": "e313f981-250a-4a4c-9102-81aca3f6ef74",
   "metadata": {},
   "outputs": [],
   "source": [
    "# Time series generator\n",
    "from tensorflow.keras.preprocessing.sequence import TimeseriesGenerator"
   ]
  },
  {
   "cell_type": "code",
   "execution_count": 58,
   "id": "e2eee0f4-23b3-4a7c-838b-fe379971424c",
   "metadata": {},
   "outputs": [],
   "source": [
    "# The length of the input series must be smaller than the length of the test split\n",
    "# if we do early-stopping validdation\n",
    "length = 12\n",
    "batch_size = 1"
   ]
  },
  {
   "cell_type": "code",
   "execution_count": 59,
   "id": "ebfb9ac6-5ea3-403a-bc7a-3b8318a9b0f9",
   "metadata": {},
   "outputs": [],
   "source": [
    "generator = TimeseriesGenerator(data=scaled_train,\n",
    "                                targets=scaled_train,\n",
    "                                length=length,\n",
    "                                batch_size=batch_size)"
   ]
  },
  {
   "cell_type": "code",
   "execution_count": 46,
   "id": "b33adebb-30e9-4320-bd0d-6042a6e8c7e4",
   "metadata": {},
   "outputs": [],
   "source": [
    "# We check the first (X,y) pair of the generator\n",
    "X,y = generator[0]"
   ]
  },
  {
   "cell_type": "code",
   "execution_count": 47,
   "id": "4da09a93-c46b-4603-818d-9a46ba33d68d",
   "metadata": {},
   "outputs": [
    {
     "data": {
      "text/plain": [
       "array([[[0.        ],\n",
       "        [0.02127505],\n",
       "        [0.05580163],\n",
       "        [0.08942056],\n",
       "        [0.09512053],\n",
       "        [0.08146965],\n",
       "        [0.07860151],\n",
       "        [0.12979233],\n",
       "        [0.09566512],\n",
       "        [0.1203892 ],\n",
       "        [0.15426227],\n",
       "        [0.41595266]]])"
      ]
     },
     "execution_count": 47,
     "metadata": {},
     "output_type": "execute_result"
    }
   ],
   "source": [
    "X"
   ]
  },
  {
   "cell_type": "code",
   "execution_count": 48,
   "id": "5bc454ff-34c2-48b6-bf7c-b09aa4968fdf",
   "metadata": {},
   "outputs": [
    {
     "data": {
      "text/plain": [
       "array([[0.02047633]])"
      ]
     },
     "execution_count": 48,
     "metadata": {},
     "output_type": "execute_result"
    }
   ],
   "source": [
    "y"
   ]
  },
  {
   "cell_type": "markdown",
   "id": "7a4f8e51-b71c-4810-9af4-78f8296f0499",
   "metadata": {},
   "source": [
    "## 2. Create the Model"
   ]
  },
  {
   "cell_type": "code",
   "execution_count": 49,
   "id": "c8f5663e-1825-4e21-a048-ec214dbf2951",
   "metadata": {},
   "outputs": [],
   "source": [
    "from tensorflow.keras.models import Sequential"
   ]
  },
  {
   "cell_type": "code",
   "execution_count": 50,
   "id": "c4ddd878-ac35-48ca-a57d-e8757f4537a5",
   "metadata": {},
   "outputs": [],
   "source": [
    "from tensorflow.keras.layers import Dense,SimpleRNN,LSTM"
   ]
  },
  {
   "cell_type": "code",
   "execution_count": 54,
   "id": "fa136359-b1fc-4c7b-a774-0af8608d2e38",
   "metadata": {},
   "outputs": [],
   "source": [
    "n_features = 1\n",
    "model = Sequential()\n",
    "#model.add(SimpleRNN(units=100,input_shape=(length,n_features)))\n",
    "# We explicitly use the ReLu activation\n",
    "model.add(LSTM(units=100,activation='relu',input_shape=(length,n_features)))\n",
    "model.add(Dense(1))\n",
    "model.compile(optimizer='adam',loss='mse')"
   ]
  },
  {
   "cell_type": "markdown",
   "id": "dc4114b2-b428-40e3-bf57-fa05143dd4d5",
   "metadata": {},
   "source": [
    "### Early Stopping"
   ]
  },
  {
   "cell_type": "code",
   "execution_count": 60,
   "id": "d61d956c-c044-434e-aec8-00f5faffaa99",
   "metadata": {},
   "outputs": [],
   "source": [
    "from tensorflow.keras.callbacks import EarlyStopping"
   ]
  },
  {
   "cell_type": "code",
   "execution_count": 61,
   "id": "fd173e6e-acdb-4e72-b162-0adf6892ba5a",
   "metadata": {},
   "outputs": [],
   "source": [
    "early_stop = EarlyStopping(monitor='val_loss',patience=2)"
   ]
  },
  {
   "cell_type": "code",
   "execution_count": 63,
   "id": "05fccee8-9fb3-44cc-8f0e-a4c314c76564",
   "metadata": {},
   "outputs": [],
   "source": [
    "# We need to create a validation generator\n",
    "# The length is the same as before,\n",
    "# taking into account that it must be shorter than the length of the validation split\n",
    "validation_generator = TimeseriesGenerator(scaled_test,\n",
    "                                          scaled_test,\n",
    "                                          length=length,\n",
    "                                          batch_size=1)"
   ]
  },
  {
   "cell_type": "markdown",
   "id": "4ca92173-4da6-4591-a8ea-98978f6eec27",
   "metadata": {},
   "source": [
    "### Train"
   ]
  },
  {
   "cell_type": "code",
   "execution_count": 64,
   "id": "cd6154b0-383a-40cd-a847-a3297fc8f038",
   "metadata": {},
   "outputs": [
    {
     "name": "stdout",
     "output_type": "stream",
     "text": [
      "Epoch 1/20\n",
      "304/304 [==============================] - 45s 148ms/step - loss: 0.0253 - val_loss: 0.0462\n",
      "Epoch 2/20\n",
      "304/304 [==============================] - 45s 148ms/step - loss: 0.0190 - val_loss: 0.0225\n",
      "Epoch 3/20\n",
      "304/304 [==============================] - 45s 148ms/step - loss: 0.0102 - val_loss: 9.9038e-04\n",
      "Epoch 4/20\n",
      "304/304 [==============================] - 44s 146ms/step - loss: 0.0056 - val_loss: 0.0012\n",
      "Epoch 5/20\n",
      "304/304 [==============================] - 44s 145ms/step - loss: 0.0020 - val_loss: 0.0024\n"
     ]
    },
    {
     "data": {
      "text/plain": [
       "<tensorflow.python.keras.callbacks.History at 0x7fe839cdd810>"
      ]
     },
     "execution_count": 64,
     "metadata": {},
     "output_type": "execute_result"
    }
   ],
   "source": [
    "# We train with an early stop callback\n",
    "model.fit_generator(generator,\n",
    "                    epochs=20,\n",
    "                    validation_data=validation_generator,\n",
    "                    callbacks=[early_stop])"
   ]
  },
  {
   "cell_type": "code",
   "execution_count": 65,
   "id": "d6d3998a-fbc6-4126-bfff-65f6ae4658a4",
   "metadata": {},
   "outputs": [],
   "source": [
    "# We get the loss values and plot them\n",
    "losses = pd.DataFrame(model.history.history)"
   ]
  },
  {
   "cell_type": "code",
   "execution_count": 66,
   "id": "014a4fb8-cf21-44ae-9c02-a743cf5ef358",
   "metadata": {},
   "outputs": [
    {
     "data": {
      "text/plain": [
       "<AxesSubplot:>"
      ]
     },
     "execution_count": 66,
     "metadata": {},
     "output_type": "execute_result"
    },
    {
     "data": {
      "image/png": "[encoded data removed]",
      "text/plain": [
       "<Figure size 432x288 with 1 Axes>"
      ]
     },
     "metadata": {
      "needs_background": "light"
     },
     "output_type": "display_data"
    }
   ],
   "source": [
    "losses.plot()"
   ]
  },
  {
   "cell_type": "markdown",
   "id": "63d4ca61-a346-4131-a2e8-cfc767f61631",
   "metadata": {},
   "source": [
    "## 3. Forecasting"
   ]
  },
  {
   "cell_type": "code",
   "execution_count": 71,
   "id": "a00acacc-843d-48aa-b733-a7ff82befefa",
   "metadata": {},
   "outputs": [],
   "source": [
    "# We forecast one by one all the values in the test split\n",
    "# For that, the batch previous to the test split is taken\n",
    "# a prediction done for it. and then,\n",
    "# the batch is moved in the time to contain predicted values\n",
    "test_predictions = []\n",
    "current_batch = scaled_train[-length:].reshape((1,length,n_features))\n",
    "for i in range(len(test)):\n",
    "    predicted = model.predict(current_batch)[0]\n",
    "    test_predictions.append(predicted)\n",
    "    current_batch = np.append(current_batch[:,1:,:],[[predicted]],axis=1)"
   ]
  },
  {
   "cell_type": "code",
   "execution_count": 72,
   "id": "fb8650f4-5e8c-4366-b362-e61ed6b56d28",
   "metadata": {},
   "outputs": [
    {
     "data": {
      "text/plain": [
       "array([[22249.67779207],\n",
       "       [21094.53404713],\n",
       "       [21380.018013  ],\n",
       "       [23363.15227175],\n",
       "       [20773.62931776],\n",
       "       [21573.05665922],\n",
       "       [26054.04674196],\n",
       "       [36956.61028099],\n",
       "       [17287.0687561 ],\n",
       "       [19559.03779316],\n",
       "       [23109.01752853],\n",
       "       [21461.18779135],\n",
       "       [23085.21214867],\n",
       "       [22042.49382496],\n",
       "       [22411.41975164],\n",
       "       [24453.21374989],\n",
       "       [22032.27885437],\n",
       "       [23113.18921614]])"
      ]
     },
     "execution_count": 72,
     "metadata": {},
     "output_type": "execute_result"
    }
   ],
   "source": [
    "true_predictions = scaler.inverse_transform(test_predictions)\n",
    "true_predictions"
   ]
  },
  {
   "cell_type": "code",
   "execution_count": 73,
   "id": "0ed23faa-ec03-433a-a7e8-db80dddd282e",
   "metadata": {},
   "outputs": [
    {
     "name": "stderr",
     "output_type": "stream",
     "text": [
      "/Users/mxagar/opt/anaconda3/envs/tf/lib/python3.7/site-packages/ipykernel_launcher.py:1: SettingWithCopyWarning: \n",
      "A value is trying to be set on a copy of a slice from a DataFrame.\n",
      "Try using .loc[row_indexer,col_indexer] = value instead\n",
      "\n",
      "See the caveats in the documentation: https://pandas.pydata.org/pandas-docs/stable/user_guide/indexing.html#returning-a-view-versus-a-copy\n",
      "  \"\"\"Entry point for launching an IPython kernel.\n"
     ]
    }
   ],
   "source": [
    "test['LSTM Predictions'] = true_predictions"
   ]
  },
  {
   "cell_type": "code",
   "execution_count": 74,
   "id": "c7f7f33c-5760-42f7-84a9-a85cd6ba8408",
   "metadata": {},
   "outputs": [
    {
     "data": {
      "text/plain": [
       "<AxesSubplot:xlabel='DATE'>"
      ]
     },
     "execution_count": 74,
     "metadata": {},
     "output_type": "execute_result"
    },
    {
     "data": {
      "image/png": "[encoded data removed]",
      "text/plain": [
       "<Figure size 720x360 with 1 Axes>"
      ]
     },
     "metadata": {
      "needs_background": "light"
     },
     "output_type": "display_data"
    }
   ],
   "source": [
    "test.plot(figsize=(10,5))"
   ]
  },
  {
   "cell_type": "code",
   "execution_count": null,
   "id": "781a05d3-99c1-4057-af9f-4be47112b252",
   "metadata": {},
   "outputs": [],
   "source": []
  },
  {
   "cell_type": "code",
   "execution_count": null,
   "id": "528fb15a-d4e0-46a3-af07-97777c212dfa",
   "metadata": {},
   "outputs": [],
   "source": []
  }
 ],
 "metadata": {
  "kernelspec": {
   "display_name": "Python 3 (ipykernel)",
   "language": "python",
   "name": "python3"
  },
  "language_info": {
   "codemirror_mode": {
    "name": "ipython",
    "version": 3
   },
   "file_extension": ".py",
   "mimetype": "text/x-python",
   "name": "python",
   "nbconvert_exporter": "python",
   "pygments_lexer": "ipython3",
   "version": "3.7.11"
  }
 },
 "nbformat": 4,
 "nbformat_minor": 5
}
